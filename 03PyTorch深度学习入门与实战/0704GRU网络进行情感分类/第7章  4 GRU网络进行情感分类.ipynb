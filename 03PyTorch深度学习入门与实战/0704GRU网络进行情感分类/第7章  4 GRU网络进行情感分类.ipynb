{
 "cells": [
  {
   "cell_type": "markdown",
   "metadata": {},
   "source": [
    "## 第7章  4 GRU网络进行情感分类\n",
    "\n",
    "**Daitu：2505131775@qq.com**"
   ]
  },
  {
   "cell_type": "code",
   "execution_count": 1,
   "metadata": {
    "ExecuteTime": {
     "end_time": "2019-08-31T10:38:44.709546Z",
     "start_time": "2019-08-31T10:38:44.283018Z"
    }
   },
   "outputs": [],
   "source": [
    "%config InlineBackend.figure_format = 'retina'\n",
    "%matplotlib inline"
   ]
  },
  {
   "cell_type": "code",
   "execution_count": 2,
   "metadata": {
    "ExecuteTime": {
     "end_time": "2019-08-31T10:38:45.978580Z",
     "start_time": "2019-08-31T10:38:44.711847Z"
    }
   },
   "outputs": [],
   "source": [
    "## 导入本章所需要的模块\n",
    "import numpy as np\n",
    "import pandas as pd\n",
    "import matplotlib.pyplot as plt\n",
    "from sklearn.metrics import accuracy_score\n",
    "import time\n",
    "import copy\n",
    "\n",
    "\n",
    "import torch\n",
    "from torch import nn\n",
    "import torch.nn.functional as F\n",
    "import torch.optim as optim\n",
    "from torchvision import transforms\n",
    "from torchtext import data\n",
    "from torchtext.vocab import Vectors"
   ]
  },
  {
   "cell_type": "markdown",
   "metadata": {},
   "source": [
    "###  数据准备"
   ]
  },
  {
   "cell_type": "code",
   "execution_count": 3,
   "metadata": {
    "ExecuteTime": {
     "end_time": "2019-08-31T10:38:47.965706Z",
     "start_time": "2019-08-31T10:38:45.981240Z"
    }
   },
   "outputs": [],
   "source": [
    "## 使用torchtext库进行数据准备\n",
    "# 定义文件中对文本和标签所要做的操作\n",
    "\n",
    "## 定义文本切分方法，直接使用空格切分即可\n",
    "mytokenize = lambda x: x.split()\n",
    "TEXT = data.Field(sequential=True, tokenize=mytokenize, \n",
    "                  include_lengths=True, use_vocab=True,\n",
    "                  batch_first=True, fix_length=200)\n",
    "LABEL = data.Field(sequential=False, use_vocab=False, \n",
    "                   pad_token=None, unk_token=None)\n",
    "## 对所要读取的数据集的列进行处理\n",
    "train_test_fields = [\n",
    "    (\"label\", LABEL), # 对标签的操作\n",
    "    (\"text\", TEXT) # 对文本的操作\n",
    "]\n",
    "## 读取数据\n",
    "traindata,testdata = data.TabularDataset.splits(\n",
    "    path=\"./data/chap6\", format=\"csv\", \n",
    "    train=\"imdb_train.csv\", fields=train_test_fields, \n",
    "    test = \"imdb_test.csv\", skip_header=True\n",
    ")"
   ]
  },
  {
   "cell_type": "code",
   "execution_count": 4,
   "metadata": {
    "ExecuteTime": {
     "end_time": "2019-08-31T10:38:47.974463Z",
     "start_time": "2019-08-31T10:38:47.968234Z"
    }
   },
   "outputs": [
    {
     "data": {
      "text/plain": [
       "(25000, 25000)"
      ]
     },
     "execution_count": 4,
     "metadata": {},
     "output_type": "execute_result"
    }
   ],
   "source": [
    "len(traindata),len(testdata)"
   ]
  },
  {
   "cell_type": "code",
   "execution_count": 5,
   "metadata": {
    "ExecuteTime": {
     "end_time": "2019-08-31T10:38:49.599458Z",
     "start_time": "2019-08-31T10:38:47.977163Z"
    }
   },
   "outputs": [],
   "source": [
    "# ## 加载预训练的词向量和构建词汇表\n",
    "## Vectors导入预训练好的词向量文件\n",
    "vec = Vectors(\"glove.6B.100d.txt\", \"./data\")\n",
    "# ## 使用训练集构建单词表，导入预先训练的词嵌入\n",
    "TEXT.build_vocab(traindata,max_size=20000,vectors = vec)\n",
    "# TEXT.build_vocab(traindata,max_size=20000)\n",
    "LABEL.build_vocab(traindata)\n",
    "## 训练集、验证集和测试集定义为迭代器\n",
    "BATCH_SIZE = 32\n",
    "train_iter = data.BucketIterator(traindata,batch_size = BATCH_SIZE)\n",
    "test_iter = data.BucketIterator(testdata,batch_size = BATCH_SIZE)"
   ]
  },
  {
   "cell_type": "code",
   "execution_count": 6,
   "metadata": {
    "ExecuteTime": {
     "end_time": "2019-08-31T10:38:49.683378Z",
     "start_time": "2019-08-31T10:38:49.602507Z"
    }
   },
   "outputs": [],
   "source": [
    "##  获得一个batch的数据，对数据进行内容进行介绍\n",
    "for step, batch in enumerate(train_iter):  \n",
    "    textdata,target = batch.text[0],batch.label\n",
    "    if step > 0:\n",
    "        break"
   ]
  },
  {
   "cell_type": "code",
   "execution_count": 7,
   "metadata": {
    "ExecuteTime": {
     "end_time": "2019-08-31T10:38:49.689156Z",
     "start_time": "2019-08-31T10:38:49.685718Z"
    }
   },
   "outputs": [
    {
     "name": "stdout",
     "output_type": "stream",
     "text": [
      "torch.Size([32, 200])\n",
      "torch.Size([32])\n"
     ]
    }
   ],
   "source": [
    "print(textdata.shape)\n",
    "print(target.shape)"
   ]
  },
  {
   "cell_type": "markdown",
   "metadata": {},
   "source": [
    "### 构建GRU网络，和LSTM网络结构相似"
   ]
  },
  {
   "cell_type": "code",
   "execution_count": 8,
   "metadata": {
    "ExecuteTime": {
     "end_time": "2019-08-31T10:38:49.699410Z",
     "start_time": "2019-08-31T10:38:49.691850Z"
    }
   },
   "outputs": [],
   "source": [
    "class GRUNet(nn.Module):\n",
    "    def __init__(self, vocab_size,embedding_dim, hidden_dim, layer_dim, output_dim):\n",
    "        \"\"\"\n",
    "        vocab_size:词典长度\n",
    "        embedding_dim:词向量的维度\n",
    "        hidden_dim: GRU神经元个数\n",
    "        layer_dim: GRU的层数\n",
    "        output_dim:隐藏层输出的维度(分类的数量)\n",
    "        \"\"\"\n",
    "        super(GRUNet, self).__init__()\n",
    "        self.hidden_dim = hidden_dim ## GRU神经元个数\n",
    "        self.layer_dim = layer_dim ## GRU的层数\n",
    "        ## 对文本进行词项量处理\n",
    "        self.embedding = nn.Embedding(vocab_size, embedding_dim)\n",
    "        # LSTM ＋ 全连接层\n",
    "        self.gru = nn.GRU(embedding_dim, hidden_dim, layer_dim,\n",
    "                          batch_first=True)\n",
    "        self.fc1 = nn.Sequential(\n",
    "            nn.Linear(hidden_dim, hidden_dim),\n",
    "            torch.nn.Dropout(0.5),\n",
    "            torch.nn.ReLU(),\n",
    "            nn.Linear(hidden_dim, output_dim)\n",
    "        )\n",
    "    def forward(self, x):\n",
    "        embeds = self.embedding(x)\n",
    "        # r_out shape (batch, time_step, output_size)\n",
    "        # h_n shape (n_layers, batch, hidden_size) \n",
    "        r_out, h_n = self.gru(embeds, None)   # None 表示初始的 hidden state 为0\n",
    "        # 选取最后一个时间点的out输出\n",
    "        out = self.fc1(r_out[:, -1, :]) \n",
    "        return out\n",
    "    "
   ]
  },
  {
   "cell_type": "code",
   "execution_count": 9,
   "metadata": {
    "ExecuteTime": {
     "end_time": "2019-08-31T10:38:49.727811Z",
     "start_time": "2019-08-31T10:38:49.701953Z"
    }
   },
   "outputs": [
    {
     "data": {
      "text/plain": [
       "GRUNet(\n",
       "  (embedding): Embedding(20002, 100)\n",
       "  (gru): GRU(100, 128, batch_first=True)\n",
       "  (fc1): Sequential(\n",
       "    (0): Linear(in_features=128, out_features=128, bias=True)\n",
       "    (1): Dropout(p=0.5)\n",
       "    (2): ReLU()\n",
       "    (3): Linear(in_features=128, out_features=2, bias=True)\n",
       "  )\n",
       ")"
      ]
     },
     "execution_count": 9,
     "metadata": {},
     "output_type": "execute_result"
    }
   ],
   "source": [
    "## 初始化网络\n",
    "vocab_size = len(TEXT.vocab)\n",
    "embedding_dim = vec.dim #  词向量的维度\n",
    "# embedding_dim = 128 #  词向量的维度\n",
    "hidden_dim = 128\n",
    "layer_dim = 1\n",
    "output_dim = 2\n",
    "grumodel = GRUNet(vocab_size, embedding_dim, hidden_dim, layer_dim, output_dim)\n",
    "grumodel"
   ]
  },
  {
   "cell_type": "code",
   "execution_count": 10,
   "metadata": {
    "ExecuteTime": {
     "end_time": "2019-08-31T10:38:49.736492Z",
     "start_time": "2019-08-31T10:38:49.730369Z"
    }
   },
   "outputs": [],
   "source": [
    "## 将导入的词项量作为embedding.weight的初始值\n",
    "grumodel.embedding.weight.data.copy_(TEXT.vocab.vectors)\n",
    "## 将无法识别的词'<unk>', '<pad>'的向量初始化为0\n",
    "UNK_IDX = TEXT.vocab.stoi[TEXT.unk_token]\n",
    "PAD_IDX = TEXT.vocab.stoi[TEXT.pad_token]\n",
    "grumodel.embedding.weight.data[UNK_IDX] = torch.zeros(vec.dim)\n",
    "grumodel.embedding.weight.data[PAD_IDX] = torch.zeros(vec.dim)"
   ]
  },
  {
   "cell_type": "code",
   "execution_count": 11,
   "metadata": {
    "ExecuteTime": {
     "end_time": "2019-08-31T10:38:49.757229Z",
     "start_time": "2019-08-31T10:38:49.739798Z"
    }
   },
   "outputs": [],
   "source": [
    "## 定义网络的训练过程函数\n",
    "def train_model(model,traindataloader, testdataloader,criterion, \n",
    "                optimizer,num_epochs=25):\n",
    "    \"\"\"\n",
    "    model:网络模型；traindataloader:训练数据集;valdataloader:验证数据集;\n",
    "    criterion:损失函数;optimizer:优化方法;\n",
    "    num_epochs:训练的轮数,scheduler:学习率变化器\n",
    "    \"\"\"\n",
    "    train_loss_all = []\n",
    "    train_acc_all = []\n",
    "    test_loss_all = []\n",
    "    test_acc_all = []\n",
    "    learn_rate = []\n",
    "    since = time.time()\n",
    "    ## 设置等间隔调整学习率,每隔step_size个epoch,学习率缩小10倍\n",
    "    scheduler = optim.lr_scheduler.StepLR(optimizer, step_size=5, gamma=0.1) \n",
    "    for epoch in range(num_epochs):\n",
    "        learn_rate.append(scheduler.get_lr()[0])\n",
    "        print('-' * 10)\n",
    "        print('Epoch {}/{},Lr:{}'.format(epoch, num_epochs - 1,learn_rate[-1]))\n",
    "        # 每个epoch有两个阶段,训练阶段和验证阶段\n",
    "        train_loss = 0.0\n",
    "        train_corrects = 0\n",
    "        train_num = 0\n",
    "        test_loss = 0.0\n",
    "        test_corrects = 0\n",
    "        test_num = 0\n",
    "        model.train() ## 设置模型为训练模式\n",
    "        for step,batch in enumerate(traindataloader):\n",
    "            textdata,target = batch.text[0],batch.label\n",
    "            out = model(textdata)\n",
    "            pre_lab = torch.argmax(out,1) # 预测的标签\n",
    "            loss = criterion(out, target) # 计算损失函数值\n",
    "            optimizer.zero_grad()        \n",
    "            loss.backward()       \n",
    "            optimizer.step()  \n",
    "            train_loss += loss.item() * len(target)\n",
    "            train_corrects += torch.sum(pre_lab == target.data)\n",
    "            train_num += len(target)\n",
    "        ## 计算一个epoch在训练集上的损失和精度\n",
    "        train_loss_all.append(train_loss / train_num)\n",
    "        train_acc_all.append(train_corrects.double().item()/train_num)\n",
    "        print('{} Train Loss: {:.4f}  Train Acc: {:.4f}'.format(\n",
    "            epoch, train_loss_all[-1], train_acc_all[-1]))\n",
    "        scheduler.step()  ## 更新学习率\n",
    "        ## 计算一个epoch的训练后在验证集上的损失和精度\n",
    "        model.eval() ## 设置模型为训练模式评估模式 \n",
    "        for step,batch in enumerate(testdataloader):\n",
    "            textdata,target = batch.text[0],batch.label\n",
    "            out = model(textdata)\n",
    "            pre_lab = torch.argmax(out,1)\n",
    "            loss = criterion(out, target)   \n",
    "            test_loss += loss.item() * len(target)\n",
    "            test_corrects += torch.sum(pre_lab == target.data)\n",
    "            test_num += len(target)\n",
    "        ## 计算一个epoch在训练集上的损失和精度\n",
    "        test_loss_all.append(test_loss / test_num)\n",
    "        test_acc_all.append(test_corrects.double().item()/test_num)\n",
    "        print('{} Test Loss: {:.4f}  Test Acc: {:.4f}'.format(\n",
    "            epoch, test_loss_all[-1], test_acc_all[-1]))\n",
    "        \n",
    "    train_process = pd.DataFrame(\n",
    "        data={\"epoch\":range(num_epochs),\n",
    "              \"train_loss_all\":train_loss_all,\n",
    "              \"train_acc_all\":train_acc_all,\n",
    "              \"test_loss_all\":test_loss_all,\n",
    "              \"test_acc_all\":test_acc_all,\n",
    "              \"learn_rate\":learn_rate})  \n",
    "    return model,train_process"
   ]
  },
  {
   "cell_type": "code",
   "execution_count": 12,
   "metadata": {
    "ExecuteTime": {
     "end_time": "2019-08-31T11:21:49.726894Z",
     "start_time": "2019-08-31T10:38:49.760418Z"
    },
    "scrolled": true
   },
   "outputs": [
    {
     "name": "stdout",
     "output_type": "stream",
     "text": [
      "----------\n",
      "Epoch 0/9,Lr:0.003\n",
      "0 Train Loss: 0.4883  Train Acc: 0.7222\n",
      "0 Test Loss: 0.2907  Test Acc: 0.8829\n",
      "----------\n",
      "Epoch 1/9,Lr:0.003\n",
      "1 Train Loss: 0.2216  Train Acc: 0.9166\n",
      "1 Test Loss: 0.2968  Test Acc: 0.8804\n",
      "----------\n",
      "Epoch 2/9,Lr:0.003\n",
      "2 Train Loss: 0.1107  Train Acc: 0.9613\n",
      "2 Test Loss: 0.5522  Test Acc: 0.8563\n",
      "----------\n",
      "Epoch 3/9,Lr:0.003\n",
      "3 Train Loss: 0.0463  Train Acc: 0.9863\n",
      "3 Test Loss: 0.6375  Test Acc: 0.8507\n",
      "----------\n",
      "Epoch 4/9,Lr:0.003\n",
      "4 Train Loss: 0.0193  Train Acc: 0.9949\n",
      "4 Test Loss: 0.6792  Test Acc: 0.8509\n",
      "----------\n",
      "Epoch 5/9,Lr:3.0000000000000004e-05\n",
      "5 Train Loss: 0.0048  Train Acc: 0.9986\n",
      "5 Test Loss: 1.2510  Test Acc: 0.8473\n",
      "----------\n",
      "Epoch 6/9,Lr:0.00030000000000000003\n",
      "6 Train Loss: 0.0014  Train Acc: 0.9997\n",
      "6 Test Loss: 1.4834  Test Acc: 0.8500\n",
      "----------\n",
      "Epoch 7/9,Lr:0.00030000000000000003\n",
      "7 Train Loss: 0.0006  Train Acc: 0.9999\n",
      "7 Test Loss: 1.9099  Test Acc: 0.8484\n",
      "----------\n",
      "Epoch 8/9,Lr:0.00030000000000000003\n",
      "8 Train Loss: 0.0003  Train Acc: 0.9999\n",
      "8 Test Loss: 2.2822  Test Acc: 0.8490\n",
      "----------\n",
      "Epoch 9/9,Lr:0.00030000000000000003\n",
      "9 Train Loss: 0.0000  Train Acc: 1.0000\n",
      "9 Test Loss: 2.6959  Test Acc: 0.8476\n"
     ]
    }
   ],
   "source": [
    "# 定义优化器\n",
    "optimizer = optim.RMSprop(grumodel.parameters(), lr=0.003)  \n",
    "loss_func = nn.CrossEntropyLoss()  # 交叉熵作为损失函数\n",
    "## 对模型进行迭代训练,对所有的数据训练EPOCH轮\n",
    "grumodel,train_process = train_model(\n",
    "    grumodel,train_iter,test_iter,loss_func,optimizer,num_epochs=10)"
   ]
  },
  {
   "cell_type": "code",
   "execution_count": 13,
   "metadata": {
    "ExecuteTime": {
     "end_time": "2019-08-31T11:21:49.836934Z",
     "start_time": "2019-08-31T11:21:49.730000Z"
    },
    "scrolled": true
   },
   "outputs": [
    {
     "name": "stderr",
     "output_type": "stream",
     "text": [
      "/Users/daitu/anaconda3/envs/python35/lib/python3.5/site-packages/torch/serialization.py:256: UserWarning: Couldn't retrieve source code for container of type GRUNet. It won't be checked for correctness upon loading.\n",
      "  \"type \" + obj.__name__ + \". It won't be checked \"\n"
     ]
    },
    {
     "data": {
      "text/html": [
       "<div>\n",
       "<style scoped>\n",
       "    .dataframe tbody tr th:only-of-type {\n",
       "        vertical-align: middle;\n",
       "    }\n",
       "\n",
       "    .dataframe tbody tr th {\n",
       "        vertical-align: top;\n",
       "    }\n",
       "\n",
       "    .dataframe thead th {\n",
       "        text-align: right;\n",
       "    }\n",
       "</style>\n",
       "<table border=\"1\" class=\"dataframe\">\n",
       "  <thead>\n",
       "    <tr style=\"text-align: right;\">\n",
       "      <th></th>\n",
       "      <th>epoch</th>\n",
       "      <th>learn_rate</th>\n",
       "      <th>test_acc_all</th>\n",
       "      <th>test_loss_all</th>\n",
       "      <th>train_acc_all</th>\n",
       "      <th>train_loss_all</th>\n",
       "    </tr>\n",
       "  </thead>\n",
       "  <tbody>\n",
       "    <tr>\n",
       "      <th>0</th>\n",
       "      <td>0</td>\n",
       "      <td>0.00300</td>\n",
       "      <td>0.88288</td>\n",
       "      <td>0.290720</td>\n",
       "      <td>0.72224</td>\n",
       "      <td>0.488328</td>\n",
       "    </tr>\n",
       "    <tr>\n",
       "      <th>1</th>\n",
       "      <td>1</td>\n",
       "      <td>0.00300</td>\n",
       "      <td>0.88036</td>\n",
       "      <td>0.296820</td>\n",
       "      <td>0.91664</td>\n",
       "      <td>0.221609</td>\n",
       "    </tr>\n",
       "    <tr>\n",
       "      <th>2</th>\n",
       "      <td>2</td>\n",
       "      <td>0.00300</td>\n",
       "      <td>0.85632</td>\n",
       "      <td>0.552171</td>\n",
       "      <td>0.96132</td>\n",
       "      <td>0.110719</td>\n",
       "    </tr>\n",
       "    <tr>\n",
       "      <th>3</th>\n",
       "      <td>3</td>\n",
       "      <td>0.00300</td>\n",
       "      <td>0.85072</td>\n",
       "      <td>0.637472</td>\n",
       "      <td>0.98632</td>\n",
       "      <td>0.046262</td>\n",
       "    </tr>\n",
       "    <tr>\n",
       "      <th>4</th>\n",
       "      <td>4</td>\n",
       "      <td>0.00300</td>\n",
       "      <td>0.85092</td>\n",
       "      <td>0.679195</td>\n",
       "      <td>0.99488</td>\n",
       "      <td>0.019270</td>\n",
       "    </tr>\n",
       "    <tr>\n",
       "      <th>5</th>\n",
       "      <td>5</td>\n",
       "      <td>0.00003</td>\n",
       "      <td>0.84732</td>\n",
       "      <td>1.250990</td>\n",
       "      <td>0.99864</td>\n",
       "      <td>0.004793</td>\n",
       "    </tr>\n",
       "    <tr>\n",
       "      <th>6</th>\n",
       "      <td>6</td>\n",
       "      <td>0.00030</td>\n",
       "      <td>0.84996</td>\n",
       "      <td>1.483420</td>\n",
       "      <td>0.99972</td>\n",
       "      <td>0.001356</td>\n",
       "    </tr>\n",
       "    <tr>\n",
       "      <th>7</th>\n",
       "      <td>7</td>\n",
       "      <td>0.00030</td>\n",
       "      <td>0.84844</td>\n",
       "      <td>1.909921</td>\n",
       "      <td>0.99992</td>\n",
       "      <td>0.000632</td>\n",
       "    </tr>\n",
       "    <tr>\n",
       "      <th>8</th>\n",
       "      <td>8</td>\n",
       "      <td>0.00030</td>\n",
       "      <td>0.84900</td>\n",
       "      <td>2.282225</td>\n",
       "      <td>0.99992</td>\n",
       "      <td>0.000299</td>\n",
       "    </tr>\n",
       "    <tr>\n",
       "      <th>9</th>\n",
       "      <td>9</td>\n",
       "      <td>0.00030</td>\n",
       "      <td>0.84760</td>\n",
       "      <td>2.695903</td>\n",
       "      <td>1.00000</td>\n",
       "      <td>0.000002</td>\n",
       "    </tr>\n",
       "  </tbody>\n",
       "</table>\n",
       "</div>"
      ],
      "text/plain": [
       "   epoch  learn_rate  test_acc_all  test_loss_all  train_acc_all  \\\n",
       "0      0     0.00300       0.88288       0.290720        0.72224   \n",
       "1      1     0.00300       0.88036       0.296820        0.91664   \n",
       "2      2     0.00300       0.85632       0.552171        0.96132   \n",
       "3      3     0.00300       0.85072       0.637472        0.98632   \n",
       "4      4     0.00300       0.85092       0.679195        0.99488   \n",
       "5      5     0.00003       0.84732       1.250990        0.99864   \n",
       "6      6     0.00030       0.84996       1.483420        0.99972   \n",
       "7      7     0.00030       0.84844       1.909921        0.99992   \n",
       "8      8     0.00030       0.84900       2.282225        0.99992   \n",
       "9      9     0.00030       0.84760       2.695903        1.00000   \n",
       "\n",
       "   train_loss_all  \n",
       "0        0.488328  \n",
       "1        0.221609  \n",
       "2        0.110719  \n",
       "3        0.046262  \n",
       "4        0.019270  \n",
       "5        0.004793  \n",
       "6        0.001356  \n",
       "7        0.000632  \n",
       "8        0.000299  \n",
       "9        0.000002  "
      ]
     },
     "execution_count": 13,
     "metadata": {},
     "output_type": "execute_result"
    }
   ],
   "source": [
    "## 输出结果保存和数据保存\n",
    "torch.save(grumodel,\"data/chap7/grumodel.pkl\")\n",
    "## 导入保存的模型\n",
    "grumodel = torch.load(\"data/chap7/grumodel.pkl\")\n",
    "grumodel\n",
    "## 保存训练过程\n",
    "train_process.to_csv(\"data/chap7/grumodel_process.csv\",index=False)\n",
    "train_process"
   ]
  },
  {
   "cell_type": "code",
   "execution_count": 14,
   "metadata": {
    "ExecuteTime": {
     "end_time": "2019-08-31T11:21:50.509705Z",
     "start_time": "2019-08-31T11:21:49.840830Z"
    }
   },
   "outputs": [
    {
     "data": {
      "image/png": "[encoded data removed]",
      "text/plain": [
       "<Figure size 1296x432 with 2 Axes>"
      ]
     },
     "metadata": {
      "image/png": {
       "height": 375,
       "width": 1060
      }
     },
     "output_type": "display_data"
    }
   ],
   "source": [
    "## 可视化模型训练过程中\n",
    "plt.figure(figsize=(18,6))\n",
    "plt.subplot(1,2,1)\n",
    "plt.plot(train_process.epoch,train_process.train_loss_all,\n",
    "         \"r.-\",label = \"Train loss\")\n",
    "plt.plot(train_process.epoch,train_process.test_loss_all,\n",
    "         \"bs-\",label = \"Test loss\")\n",
    "plt.legend()\n",
    "plt.xlabel(\"Epoch number\",size = 13)\n",
    "plt.ylabel(\"Loss value\",size = 13)\n",
    "plt.subplot(1,2,2)\n",
    "plt.plot(train_process.epoch,train_process.train_acc_all,\n",
    "         \"r.-\",label = \"Train acc\")\n",
    "plt.plot(train_process.epoch,train_process.test_acc_all,\n",
    "         \"bs-\",label = \"Test acc\")\n",
    "plt.xlabel(\"Epoch number\",size = 13)\n",
    "plt.ylabel(\"Acc\",size = 13)\n",
    "plt.legend()\n",
    "plt.show()"
   ]
  },
  {
   "cell_type": "code",
   "execution_count": 15,
   "metadata": {
    "ExecuteTime": {
     "end_time": "2019-08-31T11:22:36.323860Z",
     "start_time": "2019-08-31T11:21:50.512918Z"
    }
   },
   "outputs": [
    {
     "name": "stdout",
     "output_type": "stream",
     "text": [
      "在测试集上的预测精度为: 0.8476\n"
     ]
    }
   ],
   "source": [
    "## 对测试集进行预测并计算精度\n",
    "grumodel.eval() ## 设置模型为训练模式评估模式 \n",
    "test_y_all = torch.LongTensor()\n",
    "pre_lab_all = torch.LongTensor()\n",
    "for step,batch in enumerate(test_iter):\n",
    "    textdata,target = batch.text[0],batch.label.view(-1)\n",
    "    out = grumodel(textdata)\n",
    "    pre_lab = torch.argmax(out,1)\n",
    "    test_y_all = torch.cat((test_y_all,target)) ##测试集的标签\n",
    "    pre_lab_all = torch.cat((pre_lab_all,pre_lab))##测试集的预测标签\n",
    "\n",
    "acc = accuracy_score(test_y_all,pre_lab_all)\n",
    "print(\"在测试集上的预测精度为:\",acc)"
   ]
  },
  {
   "cell_type": "code",
   "execution_count": null,
   "metadata": {},
   "outputs": [],
   "source": []
  }
 ],
 "metadata": {
  "hide_input": false,
  "kernelspec": {
   "display_name": "Python 3",
   "language": "python",
   "name": "python3"
  },
  "language_info": {
   "codemirror_mode": {
    "name": "ipython",
    "version": 3
   },
   "file_extension": ".py",
   "mimetype": "text/x-python",
   "name": "python",
   "nbconvert_exporter": "python",
   "pygments_lexer": "ipython3",
   "version": "3.6.5"
  },
  "nbTranslate": {
   "displayLangs": [
    "*"
   ],
   "hotkey": "alt-t",
   "langInMainMenu": true,
   "sourceLang": "en",
   "targetLang": "fr",
   "useGoogleTranslate": true
  },
  "varInspector": {
   "cols": {
    "lenName": 16,
    "lenType": 16,
    "lenVar": 40
   },
   "kernels_config": {
    "python": {
     "delete_cmd_postfix": "",
     "delete_cmd_prefix": "del ",
     "library": "var_list.py",
     "varRefreshCmd": "print(var_dic_list())"
    },
    "r": {
     "delete_cmd_postfix": ") ",
     "delete_cmd_prefix": "rm(",
     "library": "var_list.r",
     "varRefreshCmd": "cat(var_dic_list()) "
    }
   },
   "types_to_exclude": [
    "module",
    "function",
    "builtin_function_or_method",
    "instance",
    "_Feature"
   ],
   "window_display": false
  }
 },
 "nbformat": 4,
 "nbformat_minor": 2
}
