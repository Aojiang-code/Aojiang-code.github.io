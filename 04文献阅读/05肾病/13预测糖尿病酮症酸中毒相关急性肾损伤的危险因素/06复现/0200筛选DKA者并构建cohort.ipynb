{
 "cells": [
  {
   "cell_type": "code",
   "execution_count": 4,
   "metadata": {},
   "outputs": [],
   "source": [
    "import duckdb\n",
    "con = duckdb.connect('mimiciv.duckdb')\n"
   ]
  },
  {
   "cell_type": "code",
   "execution_count": 5,
   "metadata": {},
   "outputs": [
    {
     "data": {
      "text/plain": [
       "<duckdb.duckdb.DuckDBPyConnection at 0x7f33f7f86270>"
      ]
     },
     "execution_count": 5,
     "metadata": {},
     "output_type": "execute_result"
    }
   ],
   "source": [
    "query = \"\"\"\n",
    "-- 创建 dka_cohort 视图，供后续步骤使用\n",
    "CREATE OR REPLACE VIEW dka_cohort AS\n",
    "WITH dka_hadm_ids AS (\n",
    "    SELECT DISTINCT hadm_id\n",
    "    FROM diagnoses_icd\n",
    "    WHERE REPLACE(icd_code, '.', '') IN (\n",
    "        '25010', '25011', '25012',  -- ICD-9\n",
    "        'E1010', 'E1110', 'E1310'   -- ICD-10\n",
    "    )\n",
    "),\n",
    "dka_icu AS (\n",
    "    SELECT \n",
    "        i.subject_id,\n",
    "        i.hadm_id,\n",
    "        i.stay_id,\n",
    "        i.intime,\n",
    "        i.outtime,\n",
    "        p.anchor_age AS age,\n",
    "        p.gender\n",
    "    FROM icustays i\n",
    "    INNER JOIN dka_hadm_ids d ON i.hadm_id = d.hadm_id\n",
    "    INNER JOIN admissions a ON i.hadm_id = a.hadm_id\n",
    "    INNER JOIN patients p ON i.subject_id = p.subject_id\n",
    "    WHERE p.anchor_age >= 18\n",
    ")\n",
    "SELECT * FROM dka_icu\n",
    "\"\"\"\n",
    "con.execute(query)\n"
   ]
  },
  {
   "cell_type": "code",
   "execution_count": 6,
   "metadata": {},
   "outputs": [
    {
     "data": {
      "application/vnd.jupyter.widget-view+json": {
       "model_id": "d665d6b3615c47eabe0c0323ceb15ab9",
       "version_major": 2,
       "version_minor": 0
      },
      "text/plain": [
       "FloatProgress(value=0.0, layout=Layout(width='auto'), style=ProgressStyle(bar_color='black'))"
      ]
     },
     "metadata": {},
     "output_type": "display_data"
    },
    {
     "data": {
      "text/html": [
       "<div>\n",
       "<style scoped>\n",
       "    .dataframe tbody tr th:only-of-type {\n",
       "        vertical-align: middle;\n",
       "    }\n",
       "\n",
       "    .dataframe tbody tr th {\n",
       "        vertical-align: top;\n",
       "    }\n",
       "\n",
       "    .dataframe thead th {\n",
       "        text-align: right;\n",
       "    }\n",
       "</style>\n",
       "<table border=\"1\" class=\"dataframe\">\n",
       "  <thead>\n",
       "    <tr style=\"text-align: right;\">\n",
       "      <th></th>\n",
       "      <th>subject_id</th>\n",
       "      <th>hadm_id</th>\n",
       "      <th>stay_id</th>\n",
       "      <th>intime</th>\n",
       "      <th>outtime</th>\n",
       "      <th>age</th>\n",
       "      <th>gender</th>\n",
       "    </tr>\n",
       "  </thead>\n",
       "  <tbody>\n",
       "    <tr>\n",
       "      <th>0</th>\n",
       "      <td>10924444</td>\n",
       "      <td>20065893</td>\n",
       "      <td>31555593</td>\n",
       "      <td>2167-04-27 04:21:00</td>\n",
       "      <td>2167-04-28 22:58:25</td>\n",
       "      <td>23</td>\n",
       "      <td>M</td>\n",
       "    </tr>\n",
       "    <tr>\n",
       "      <th>1</th>\n",
       "      <td>11036853</td>\n",
       "      <td>25681774</td>\n",
       "      <td>36673761</td>\n",
       "      <td>2145-05-05 01:19:47</td>\n",
       "      <td>2145-05-08 18:06:17</td>\n",
       "      <td>53</td>\n",
       "      <td>F</td>\n",
       "    </tr>\n",
       "    <tr>\n",
       "      <th>2</th>\n",
       "      <td>11213546</td>\n",
       "      <td>26189768</td>\n",
       "      <td>34015336</td>\n",
       "      <td>2183-05-16 07:08:12</td>\n",
       "      <td>2183-05-27 17:10:02</td>\n",
       "      <td>62</td>\n",
       "      <td>F</td>\n",
       "    </tr>\n",
       "    <tr>\n",
       "      <th>3</th>\n",
       "      <td>11306818</td>\n",
       "      <td>23614740</td>\n",
       "      <td>31826009</td>\n",
       "      <td>2167-12-10 21:06:00</td>\n",
       "      <td>2167-12-12 14:37:13</td>\n",
       "      <td>72</td>\n",
       "      <td>F</td>\n",
       "    </tr>\n",
       "    <tr>\n",
       "      <th>4</th>\n",
       "      <td>10015860</td>\n",
       "      <td>25085565</td>\n",
       "      <td>32496174</td>\n",
       "      <td>2186-09-15 17:15:00</td>\n",
       "      <td>2186-09-16 11:17:40</td>\n",
       "      <td>53</td>\n",
       "      <td>M</td>\n",
       "    </tr>\n",
       "  </tbody>\n",
       "</table>\n",
       "</div>"
      ],
      "text/plain": [
       "   subject_id   hadm_id   stay_id              intime             outtime  \\\n",
       "0    10924444  20065893  31555593 2167-04-27 04:21:00 2167-04-28 22:58:25   \n",
       "1    11036853  25681774  36673761 2145-05-05 01:19:47 2145-05-08 18:06:17   \n",
       "2    11213546  26189768  34015336 2183-05-16 07:08:12 2183-05-27 17:10:02   \n",
       "3    11306818  23614740  31826009 2167-12-10 21:06:00 2167-12-12 14:37:13   \n",
       "4    10015860  25085565  32496174 2186-09-15 17:15:00 2186-09-16 11:17:40   \n",
       "\n",
       "   age gender  \n",
       "0   23      M  \n",
       "1   53      F  \n",
       "2   62      F  \n",
       "3   72      F  \n",
       "4   53      M  "
      ]
     },
     "execution_count": 6,
     "metadata": {},
     "output_type": "execute_result"
    }
   ],
   "source": [
    "# 查看前几行\n",
    "con.execute(\"SELECT * FROM dka_cohort LIMIT 5\").df()\n"
   ]
  },
  {
   "cell_type": "code",
   "execution_count": 7,
   "metadata": {},
   "outputs": [
    {
     "data": {
      "text/plain": [
       "1400"
      ]
     },
     "execution_count": 7,
     "metadata": {},
     "output_type": "execute_result"
    }
   ],
   "source": [
    "# 查看总共筛选出多少名 DKA + ICU 成年患者\n",
    "con.execute(\"SELECT COUNT(*) FROM dka_cohort\").fetchone()[0]\n"
   ]
  },
  {
   "cell_type": "code",
   "execution_count": 8,
   "metadata": {},
   "outputs": [
    {
     "data": {
      "text/html": [
       "<div>\n",
       "<style scoped>\n",
       "    .dataframe tbody tr th:only-of-type {\n",
       "        vertical-align: middle;\n",
       "    }\n",
       "\n",
       "    .dataframe tbody tr th {\n",
       "        vertical-align: top;\n",
       "    }\n",
       "\n",
       "    .dataframe thead th {\n",
       "        text-align: right;\n",
       "    }\n",
       "</style>\n",
       "<table border=\"1\" class=\"dataframe\">\n",
       "  <thead>\n",
       "    <tr style=\"text-align: right;\">\n",
       "      <th></th>\n",
       "      <th>min(age)</th>\n",
       "      <th>max(age)</th>\n",
       "    </tr>\n",
       "  </thead>\n",
       "  <tbody>\n",
       "    <tr>\n",
       "      <th>0</th>\n",
       "      <td>18</td>\n",
       "      <td>91</td>\n",
       "    </tr>\n",
       "  </tbody>\n",
       "</table>\n",
       "</div>"
      ],
      "text/plain": [
       "   min(age)  max(age)\n",
       "0        18        91"
      ]
     },
     "execution_count": 8,
     "metadata": {},
     "output_type": "execute_result"
    }
   ],
   "source": [
    "con.execute(\"SELECT MIN(age), MAX(age) FROM dka_cohort\").df()\n"
   ]
  },
  {
   "cell_type": "code",
   "execution_count": 9,
   "metadata": {},
   "outputs": [
    {
     "data": {
      "text/html": [
       "<div>\n",
       "<style scoped>\n",
       "    .dataframe tbody tr th:only-of-type {\n",
       "        vertical-align: middle;\n",
       "    }\n",
       "\n",
       "    .dataframe tbody tr th {\n",
       "        vertical-align: top;\n",
       "    }\n",
       "\n",
       "    .dataframe thead th {\n",
       "        text-align: right;\n",
       "    }\n",
       "</style>\n",
       "<table border=\"1\" class=\"dataframe\">\n",
       "  <thead>\n",
       "    <tr style=\"text-align: right;\">\n",
       "      <th></th>\n",
       "      <th>gender</th>\n",
       "      <th>count_star()</th>\n",
       "    </tr>\n",
       "  </thead>\n",
       "  <tbody>\n",
       "    <tr>\n",
       "      <th>0</th>\n",
       "      <td>M</td>\n",
       "      <td>713</td>\n",
       "    </tr>\n",
       "    <tr>\n",
       "      <th>1</th>\n",
       "      <td>F</td>\n",
       "      <td>687</td>\n",
       "    </tr>\n",
       "  </tbody>\n",
       "</table>\n",
       "</div>"
      ],
      "text/plain": [
       "  gender  count_star()\n",
       "0      M           713\n",
       "1      F           687"
      ]
     },
     "execution_count": 9,
     "metadata": {},
     "output_type": "execute_result"
    }
   ],
   "source": [
    "con.execute(\"SELECT gender, COUNT(*) FROM dka_cohort GROUP BY gender\").df()\n"
   ]
  },
  {
   "cell_type": "code",
   "execution_count": null,
   "metadata": {},
   "outputs": [],
   "source": []
  }
 ],
 "metadata": {
  "kernelspec": {
   "display_name": "Python 3.10.8 ('base')",
   "language": "python",
   "name": "python3"
  },
  "language_info": {
   "codemirror_mode": {
    "name": "ipython",
    "version": 3
   },
   "file_extension": ".py",
   "mimetype": "text/x-python",
   "name": "python",
   "nbconvert_exporter": "python",
   "pygments_lexer": "ipython3",
   "version": "3.10.8"
  },
  "orig_nbformat": 4,
  "vscode": {
   "interpreter": {
    "hash": "d4d1e4263499bec80672ea0156c357c1ee493ec2b1c70f0acce89fc37c4a6abe"
   }
  }
 },
 "nbformat": 4,
 "nbformat_minor": 2
}
