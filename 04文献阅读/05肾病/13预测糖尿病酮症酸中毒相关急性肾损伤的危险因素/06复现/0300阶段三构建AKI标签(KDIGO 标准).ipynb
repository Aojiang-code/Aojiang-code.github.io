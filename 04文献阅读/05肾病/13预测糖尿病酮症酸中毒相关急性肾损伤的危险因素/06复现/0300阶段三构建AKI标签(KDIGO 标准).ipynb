{
 "cells": [
  {
   "cell_type": "code",
   "execution_count": 3,
   "metadata": {},
   "outputs": [],
   "source": [
    "import pandas as pd\n"
   ]
  },
  {
   "cell_type": "code",
   "execution_count": 4,
   "metadata": {},
   "outputs": [],
   "source": [
    "import duckdb\n",
    "con = duckdb.connect('mimiciv.duckdb')\n"
   ]
  },
  {
   "cell_type": "code",
   "execution_count": 5,
   "metadata": {},
   "outputs": [
    {
     "data": {
      "application/vnd.jupyter.widget-view+json": {
       "model_id": "76b4c1e886fe46f4862403b42df18b19",
       "version_major": 2,
       "version_minor": 0
      },
      "text/plain": [
       "FloatProgress(value=0.0, layout=Layout(width='auto'), style=ProgressStyle(bar_color='black'))"
      ]
     },
     "metadata": {},
     "output_type": "display_data"
    }
   ],
   "source": [
    "# Scr 项目编号（MIMIC-IV 中默认为 50912）\n",
    "scr_itemid = 50912\n",
    "\n",
    "# 提取 Scr 数据（入 ICU 后 7 天内）\n",
    "query_scr = f\"\"\"\n",
    "SELECT\n",
    "    l.subject_id,\n",
    "    l.hadm_id,\n",
    "    l.charttime,\n",
    "    l.valuenum AS scr,\n",
    "    c.stay_id,\n",
    "    c.intime\n",
    "FROM labevents l\n",
    "INNER JOIN dka_cohort c\n",
    "    ON l.hadm_id = c.hadm_id\n",
    "WHERE l.itemid = {scr_itemid}\n",
    "\"\"\"\n",
    "scr_df = con.execute(query_scr).df()\n"
   ]
  },
  {
   "cell_type": "code",
   "execution_count": 6,
   "metadata": {},
   "outputs": [],
   "source": [
    "# 时间处理\n",
    "scr_df['charttime'] = pd.to_datetime(scr_df['charttime'])\n",
    "scr_df['intime'] = pd.to_datetime(scr_df['intime'])\n",
    "scr_df['hours_from_icu'] = (scr_df['charttime'] - scr_df['intime']).dt.total_seconds() / 3600\n",
    "\n",
    "# 筛选 ICU 后 0-168 小时（7 天）内的值\n",
    "scr_df = scr_df[(scr_df['hours_from_icu'] >= 0) & (scr_df['hours_from_icu'] <= 168)]\n"
   ]
  },
  {
   "cell_type": "code",
   "execution_count": 7,
   "metadata": {},
   "outputs": [],
   "source": [
    "aki_list = []\n",
    "\n",
    "for stay_id, group in scr_df.groupby('stay_id'):\n",
    "    baseline = group[group['hours_from_icu'] <= 12]['scr'].min()  # baseline 取最早 12h 最低值\n",
    "    peak_48h = group[group['hours_from_icu'] <= 48]['scr'].max()  # 48h 峰值\n",
    "\n",
    "    # AKI 判定逻辑\n",
    "    if pd.notnull(baseline) and pd.notnull(peak_48h):\n",
    "        if (peak_48h - baseline >= 0.3) or (peak_48h >= 1.5 * baseline):\n",
    "            aki_list.append((stay_id, 1))\n",
    "        else:\n",
    "            aki_list.append((stay_id, 0))\n",
    "    else:\n",
    "        aki_list.append((stay_id, 0))  # 缺失数据视为未发生\n"
   ]
  },
  {
   "cell_type": "code",
   "execution_count": 9,
   "metadata": {},
   "outputs": [
    {
     "data": {
      "text/plain": [
       "<duckdb.duckdb.DuckDBPyConnection at 0x7f6ccfd61630>"
      ]
     },
     "execution_count": 9,
     "metadata": {},
     "output_type": "execute_result"
    }
   ],
   "source": [
    "aki_df = pd.DataFrame(aki_list, columns=['stay_id', 'aki_label'])\n",
    "\n",
    "# 保存 AKI 标签临时表（供后续使用）\n",
    "con.register('aki_temp', aki_df)\n",
    "\n",
    "# # 构建新 cohort，附带 AKI 标签\n",
    "# query_merge = \"\"\"\n",
    "# CREATE OR REPLACE VIEW dka_with_aki AS\n",
    "# SELECT c.*, a.aki_label\n",
    "# FROM dka_cohort c\n",
    "# LEFT JOIN aki_temp a ON c.stay_id = a.stay_id\n",
    "# \"\"\"\n",
    "# con.execute(query_merge)\n",
    "\n",
    "\n",
    "# 将 AKI 标签写入临时 DuckDB 表（替代 register）\n",
    "aki_df.to_parquet(\"aki_table.parquet\")  # ✅ 持久化成文件\n",
    "con.execute(\"CREATE OR REPLACE TABLE aki_table AS SELECT * FROM read_parquet('aki_table.parquet');\")\n",
    "\n",
    "\n",
    "# 删除已有的 View\n",
    "con.execute(\"DROP VIEW IF EXISTS dka_with_aki\")\n",
    "\n",
    "# 构建并保存最终 dka_with_aki 表\n",
    "query_merge = \"\"\"\n",
    "CREATE OR REPLACE TABLE dka_with_aki AS\n",
    "SELECT c.*, a.aki_label\n",
    "FROM dka_cohort c\n",
    "LEFT JOIN aki_table a ON c.stay_id = a.stay_id\n",
    "\"\"\"\n",
    "con.execute(query_merge)\n",
    "\n"
   ]
  },
  {
   "cell_type": "code",
   "execution_count": 10,
   "metadata": {},
   "outputs": [
    {
     "data": {
      "text/html": [
       "<div>\n",
       "<style scoped>\n",
       "    .dataframe tbody tr th:only-of-type {\n",
       "        vertical-align: middle;\n",
       "    }\n",
       "\n",
       "    .dataframe tbody tr th {\n",
       "        vertical-align: top;\n",
       "    }\n",
       "\n",
       "    .dataframe thead th {\n",
       "        text-align: right;\n",
       "    }\n",
       "</style>\n",
       "<table border=\"1\" class=\"dataframe\">\n",
       "  <thead>\n",
       "    <tr style=\"text-align: right;\">\n",
       "      <th></th>\n",
       "      <th>aki_label</th>\n",
       "      <th>count_star()</th>\n",
       "    </tr>\n",
       "  </thead>\n",
       "  <tbody>\n",
       "    <tr>\n",
       "      <th>0</th>\n",
       "      <td>&lt;NA&gt;</td>\n",
       "      <td>13</td>\n",
       "    </tr>\n",
       "    <tr>\n",
       "      <th>1</th>\n",
       "      <td>0</td>\n",
       "      <td>927</td>\n",
       "    </tr>\n",
       "    <tr>\n",
       "      <th>2</th>\n",
       "      <td>1</td>\n",
       "      <td>460</td>\n",
       "    </tr>\n",
       "  </tbody>\n",
       "</table>\n",
       "</div>"
      ],
      "text/plain": [
       "   aki_label  count_star()\n",
       "0       <NA>            13\n",
       "1          0           927\n",
       "2          1           460"
      ]
     },
     "execution_count": 10,
     "metadata": {},
     "output_type": "execute_result"
    }
   ],
   "source": [
    "# 查看新 cohort 表前几行\n",
    "con.execute(\"SELECT * FROM dka_with_aki LIMIT 5\").df()\n",
    "\n",
    "# 查看标签分布\n",
    "con.execute(\"SELECT aki_label, COUNT(*) FROM dka_with_aki GROUP BY aki_label\").df()\n"
   ]
  },
  {
   "cell_type": "code",
   "execution_count": null,
   "metadata": {},
   "outputs": [],
   "source": []
  }
 ],
 "metadata": {
  "kernelspec": {
   "display_name": "Python 3.10.8 ('base')",
   "language": "python",
   "name": "python3"
  },
  "language_info": {
   "codemirror_mode": {
    "name": "ipython",
    "version": 3
   },
   "file_extension": ".py",
   "mimetype": "text/x-python",
   "name": "python",
   "nbconvert_exporter": "python",
   "pygments_lexer": "ipython3",
   "version": "3.10.8"
  },
  "orig_nbformat": 4,
  "vscode": {
   "interpreter": {
    "hash": "d4d1e4263499bec80672ea0156c357c1ee493ec2b1c70f0acce89fc37c4a6abe"
   }
  }
 },
 "nbformat": 4,
 "nbformat_minor": 2
}
