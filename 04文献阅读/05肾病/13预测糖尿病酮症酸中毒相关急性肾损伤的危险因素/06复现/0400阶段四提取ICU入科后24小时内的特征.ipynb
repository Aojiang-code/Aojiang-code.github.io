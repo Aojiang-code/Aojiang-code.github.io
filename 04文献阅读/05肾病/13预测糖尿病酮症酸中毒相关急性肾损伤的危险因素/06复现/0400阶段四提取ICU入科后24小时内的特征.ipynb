{
 "cells": [
  {
   "cell_type": "code",
   "execution_count": 1,
   "metadata": {},
   "outputs": [],
   "source": [
    "import duckdb\n",
    "con = duckdb.connect('mimiciv.duckdb')\n"
   ]
  },
  {
   "cell_type": "code",
   "execution_count": 2,
   "metadata": {},
   "outputs": [
    {
     "data": {
      "application/vnd.jupyter.widget-view+json": {
       "model_id": "4b3b91e150bc4e35bbf4a366c0037fcd",
       "version_major": 2,
       "version_minor": 0
      },
      "text/plain": [
       "FloatProgress(value=0.0, layout=Layout(width='auto'), style=ProgressStyle(bar_color='black'))"
      ]
     },
     "metadata": {},
     "output_type": "display_data"
    }
   ],
   "source": [
    "lab_itemids = {\n",
    "    'BUN': 51006,\n",
    "    'Scr': 50912,\n",
    "    'Na': 50983,\n",
    "    'K': 50971,\n",
    "    'Glucose': 50931,\n",
    "    'WBC': 51301,\n",
    "    'PLT': 51265,\n",
    "    'Hb': 51222,\n",
    "    'Ca': 50893,\n",
    "    'Cl': 50902,\n",
    "    'AG': 50868,\n",
    "    'Phos': 50970,\n",
    "    'BG': 50809\n",
    "}\n",
    "\n",
    "# 构造 SQL 查询（入ICU后24小时内，取第一次记录）\n",
    "lab_queries = []\n",
    "for var, itemid in lab_itemids.items():\n",
    "    lab_queries.append(f\"\"\"\n",
    "    SELECT stay_id, '{var}' AS variable, MIN(valuenum) AS value\n",
    "    FROM labevents l\n",
    "    INNER JOIN dka_with_aki d ON l.hadm_id = d.hadm_id\n",
    "    WHERE l.itemid = {itemid}\n",
    "      AND l.charttime BETWEEN d.intime AND d.intime + INTERVAL 24 HOUR\n",
    "    GROUP BY stay_id\n",
    "    \"\"\")\n",
    "\n",
    "# 合并所有查询（UNION ALL）\n",
    "full_lab_query = \" UNION ALL \".join(lab_queries)\n",
    "\n",
    "lab_features_df = con.execute(full_lab_query).df()\n"
   ]
  },
  {
   "cell_type": "code",
   "execution_count": 3,
   "metadata": {},
   "outputs": [],
   "source": [
    "lab_pivot = lab_features_df.pivot(index='stay_id', columns='variable', values='value').reset_index()\n"
   ]
  },
  {
   "cell_type": "code",
   "execution_count": 5,
   "metadata": {},
   "outputs": [
    {
     "data": {
      "application/vnd.jupyter.widget-view+json": {
       "model_id": "0f2553e41f794ea6b7ca58e74bcaea1a",
       "version_major": 2,
       "version_minor": 0
      },
      "text/plain": [
       "FloatProgress(value=0.0, layout=Layout(width='auto'), style=ProgressStyle(bar_color='black'))"
      ]
     },
     "metadata": {},
     "output_type": "display_data"
    }
   ],
   "source": [
    "vital_itemids = {\n",
    "    'HR': 211,\n",
    "    'RR': 618,\n",
    "    'SBP': 51,\n",
    "    'DBP': 8368,\n",
    "    'Weight': 226512\n",
    "}\n",
    "\n",
    "vital_queries = []\n",
    "for var, itemid in vital_itemids.items():\n",
    "    vital_queries.append(f\"\"\"\n",
    "    SELECT c.stay_id, '{var}' AS variable, MIN(c.valuenum) AS value\n",
    "    FROM chartevents c\n",
    "    INNER JOIN dka_with_aki d ON c.stay_id = d.stay_id\n",
    "    WHERE c.itemid = {itemid}\n",
    "      AND c.charttime BETWEEN d.intime AND d.intime + INTERVAL 24 HOUR\n",
    "    GROUP BY c.stay_id\n",
    "    \"\"\")\n",
    "\n",
    "# 合并所有变量查询\n",
    "full_vital_query = \" UNION ALL \".join(vital_queries)\n",
    "\n",
    "# 执行查询并转为透视表\n",
    "vital_features_df = con.execute(full_vital_query).df()\n",
    "vital_pivot = vital_features_df.pivot(index='stay_id', columns='variable', values='value').reset_index()\n"
   ]
  },
  {
   "cell_type": "code",
   "execution_count": 6,
   "metadata": {},
   "outputs": [],
   "source": [
    "# 获取 cohort 基础信息（含 AKI 标签）\n",
    "cohort_df = con.execute(\"SELECT stay_id, subject_id, hadm_id, age, gender, aki_label FROM dka_with_aki\").df()\n",
    "\n",
    "# 合并所有变量\n",
    "full_features = cohort_df.merge(lab_pivot, on='stay_id', how='left')\n",
    "full_features = full_features.merge(vital_pivot, on='stay_id', how='left')\n"
   ]
  },
  {
   "cell_type": "code",
   "execution_count": 7,
   "metadata": {},
   "outputs": [
    {
     "name": "stdout",
     "output_type": "stream",
     "text": [
      "(1400, 20)\n",
      "Weight        0.987143\n",
      "BG            0.665714\n",
      "Hb            0.058571\n",
      "WBC           0.057143\n",
      "PLT           0.053571\n",
      "Ca            0.022143\n",
      "Phos          0.020714\n",
      "Glucose       0.014286\n",
      "AG            0.014286\n",
      "BUN           0.014286\n",
      "Scr           0.013571\n",
      "Cl            0.013571\n",
      "K             0.012857\n",
      "Na            0.012857\n",
      "aki_label     0.009286\n",
      "subject_id    0.000000\n",
      "gender        0.000000\n",
      "age           0.000000\n",
      "hadm_id       0.000000\n",
      "stay_id       0.000000\n",
      "dtype: float64\n"
     ]
    }
   ],
   "source": [
    "# 预览样本和特征\n",
    "print(full_features.shape)\n",
    "full_features.head()\n",
    "\n",
    "# 检查缺失比例\n",
    "missing_pct = full_features.isnull().mean().sort_values(ascending=False)\n",
    "print(missing_pct)\n"
   ]
  },
  {
   "cell_type": "code",
   "execution_count": null,
   "metadata": {},
   "outputs": [],
   "source": [
    "lab_pivot.to_csv(\"lab_pivot.csv\", index=False)\n",
    "vital_pivot.to_csv(\"vital_pivot.csv\", index=False)\n",
    "cohort_df.to_csv(\"cohort_df.csv\", index=False)\n"
   ]
  },
  {
   "cell_type": "code",
   "execution_count": null,
   "metadata": {},
   "outputs": [],
   "source": []
  }
 ],
 "metadata": {
  "kernelspec": {
   "display_name": "Python 3.10.8 ('base')",
   "language": "python",
   "name": "python3"
  },
  "language_info": {
   "codemirror_mode": {
    "name": "ipython",
    "version": 3
   },
   "file_extension": ".py",
   "mimetype": "text/x-python",
   "name": "python",
   "nbconvert_exporter": "python",
   "pygments_lexer": "ipython3",
   "version": "3.10.8"
  },
  "orig_nbformat": 4,
  "vscode": {
   "interpreter": {
    "hash": "d4d1e4263499bec80672ea0156c357c1ee493ec2b1c70f0acce89fc37c4a6abe"
   }
  }
 },
 "nbformat": 4,
 "nbformat_minor": 2
}
