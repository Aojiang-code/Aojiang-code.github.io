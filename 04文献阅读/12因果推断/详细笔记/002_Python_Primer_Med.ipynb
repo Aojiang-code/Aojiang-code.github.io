{
 "cells": [
  {
   "cell_type": "markdown",
   "id": "a44827a4",
   "metadata": {},
   "source": [
    "\n",
    "# 0.2 Python 必备工具回顾（快速复习 · 实战版）\n",
    "\n",
    "本 Notebook 使用 `scikit-learn` 自带的 **Breast Cancer**（乳腺癌分类）与 **Diabetes**（糖尿病进展回归）数据集，演示：  \n",
    "- `pandas` 的常用数据操作  \n",
    "- 快速可视化（直方图、箱线图、相关性热图）  \n",
    "- 从因果视角对 EDA 的注意事项（**EDA ≠ 因果**）\n"
   ]
  },
  {
   "cell_type": "markdown",
   "id": "1c6af396",
   "metadata": {},
   "source": [
    "\n",
    "## 0.2.1 `pandas` 数据操作（基于乳腺癌数据集）\n",
    "\n",
    "> 数据集：`sklearn.datasets.load_breast_cancer()`  \n",
    "> 练习内容：DataFrame 转换、筛选、分组统计、交叉表与缺失/类型检查。\n"
   ]
  },
  {
   "cell_type": "code",
   "execution_count": null,
   "id": "119b2466",
   "metadata": {},
   "outputs": [],
   "source": [
    "\n",
    "import pandas as pd\n",
    "from sklearn.datasets import load_breast_cancer\n",
    "\n",
    "# 1) 载入并转换为 DataFrame\n",
    "data = load_breast_cancer()\n",
    "X = pd.DataFrame(data.data, columns=data.feature_names)\n",
    "y = pd.Series(data.target, name='target')  # 1=malignant(恶性), 0=benign(良性)\n",
    "df = pd.concat([X, y], axis=1)\n",
    "\n",
    "# 2) 快速查看结构与类型\n",
    "print(\"形状:\", df.shape)\n",
    "print(df.head(3))\n",
    "print(\"\\n信息(info)：\")\n",
    "print(df.info())\n",
    "\n",
    "# 3) 缺失值检查（该数据集通常没有缺失，这里演示写法）\n",
    "print(\"\\n缺失值统计：\")\n",
    "print(df.isnull().sum().sort_values(ascending=False).head())\n",
    "\n",
    "# 4) 简单筛选：示例——筛选“恶性”样本中 mean radius > 20 的病例\n",
    "df_sel = df[(df['target'] == 1) & (df['mean radius'] > 20)]\n",
    "print(\"\\n筛选后样本量:\", df_sel.shape[0])\n",
    "\n",
    "# 5) 分组统计：按 target（良/恶性）查看若干关键特征的均值\n",
    "cols_focus = ['mean radius', 'mean texture', 'mean symmetry']\n",
    "group_mean = df.groupby('target')[cols_focus].mean()\n",
    "print(\"\\n按 target 分组的均值：\")\n",
    "print(group_mean)\n",
    "\n",
    "# 6) 交叉表（构造一个示例离散特征）\n",
    "df['radius_bin'] = (df['mean radius'] > df['mean radius'].median()).astype(int)\n",
    "crosstab = pd.crosstab(index=df['target'], columns=df['radius_bin'], margins=True)\n",
    "print(\"\\n交叉表(target vs radius_bin)：\")\n",
    "print(crosstab)\n",
    "\n",
    "# 7) 描述性统计\n",
    "print(\"\\n描述性统计（部分列）：\")\n",
    "print(df[cols_focus + ['target']].describe())\n"
   ]
  },
  {
   "cell_type": "markdown",
   "id": "7a3a22de",
   "metadata": {},
   "source": [
    "\n",
    "## 0.2.2 可视化（直方图 / 箱线图 / 相关性热图）\n",
    "\n",
    "> 工具：`matplotlib` + `seaborn`  \n",
    "> 提示：可视化展示的是**关联**与**分布**，不能直接得出因果结论。\n"
   ]
  },
  {
   "cell_type": "code",
   "execution_count": null,
   "id": "5353384e",
   "metadata": {},
   "outputs": [],
   "source": [
    "\n",
    "import matplotlib.pyplot as plt\n",
    "import seaborn as sns\n",
    "\n",
    "# 1) 直方图：mean radius 分布（按 target 分层）\n",
    "plt.figure()\n",
    "sns.histplot(data=df, x='mean radius', hue='target', kde=True, element='step', stat='density')\n",
    "plt.title('Distribution of Mean Radius by Target (0=Benign, 1=Malignant)')\n",
    "plt.show()\n",
    "\n",
    "# 2) 箱线图：不同 target 的 mean radius\n",
    "plt.figure()\n",
    "sns.boxplot(data=df, x='target', y='mean radius')\n",
    "plt.title('Mean Radius by Target')\n",
    "plt.show()\n",
    "\n",
    "# 3) 相关性热图（选部分特征以避免图过密）\n",
    "subset_cols = ['mean radius','mean texture','mean perimeter','mean area','mean smoothness']\n",
    "plt.figure()\n",
    "sns.heatmap(df[subset_cols].corr(), annot=True, fmt='.2f')\n",
    "plt.title('Correlation Heatmap (Selected Features)')\n",
    "plt.show()\n"
   ]
  },
  {
   "cell_type": "markdown",
   "id": "7b869f40",
   "metadata": {},
   "source": [
    "\n",
    "## 0.2.3 补充练习：Diabetes 回归数据（连续结局）\n",
    "\n",
    "> 数据集：`sklearn.datasets.load_diabetes()`（目标为疾病进展的连续指标）。\n"
   ]
  },
  {
   "cell_type": "code",
   "execution_count": null,
   "id": "d3694968",
   "metadata": {},
   "outputs": [],
   "source": [
    "\n",
    "import pandas as pd\n",
    "import matplotlib.pyplot as plt\n",
    "import seaborn as sns\n",
    "from sklearn.datasets import load_diabetes\n",
    "\n",
    "# 1) 载入并转换\n",
    "ddata = load_diabetes()\n",
    "Xd = pd.DataFrame(ddata.data, columns=ddata.feature_names)\n",
    "yd = pd.Series(ddata.target, name='disease_progression')  # 连续结局\n",
    "df_diab = pd.concat([Xd, yd], axis=1)\n",
    "\n",
    "print(\"形状:\", df_diab.shape)\n",
    "print(df_diab.head())\n",
    "\n",
    "# 2) 结局变量直方图\n",
    "plt.figure()\n",
    "sns.histplot(df_diab['disease_progression'], kde=True)\n",
    "plt.title('Distribution of Diabetes Progression')\n",
    "plt.show()\n",
    "\n",
    "# 3) 特征与结局的关系（举例：bmi 与 y）\n",
    "plt.figure()\n",
    "sns.scatterplot(data=df_diab, x='bmi', y='disease_progression')\n",
    "plt.title('BMI vs Disease Progression')\n",
    "plt.show()\n",
    "\n",
    "# 4) 相关性热图（选取几个常见特征）\n",
    "sel = ['bmi','bp','s1','s5','disease_progression']\n",
    "plt.figure()\n",
    "sns.heatmap(df_diab[sel].corr(), annot=True, fmt='.2f')\n",
    "plt.title('Correlation (Selected Features)')\n",
    "plt.show()\n"
   ]
  },
  {
   "cell_type": "markdown",
   "id": "b2efb4ca",
   "metadata": {},
   "source": [
    "\n",
    "## 0.2.4 小结与注意事项（因果视角）\n",
    "- 以上步骤是 EDA（探索性分析），用于理解数据结构、分布和潜在混杂候选，但**不提供因果结论**。  \n",
    "- 若要推断“某治疗是否导致结局变化”，必须明确**暴露/治疗**与**结局**的时间顺序，并控制**混杂**（下一阶段会涉及 PSM/IPTW/DR 等方法）。  \n",
    "- 真实医学数据常有缺失与异常值；需要制定合理的缺失处理与质量控制策略。\n"
   ]
  }
 ],
 "metadata": {},
 "nbformat": 4,
 "nbformat_minor": 5
}