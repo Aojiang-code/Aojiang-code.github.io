{
 "cells": [
  {
   "cell_type": "markdown",
   "id": "507c0161",
   "metadata": {},
   "source": [
    "\n",
    "# 📓 阶段 1 · 1.1 专用 Notebook —— 预测 vs 因果（医学入门）\n",
    "\n",
    "本 Notebook 配套你的 **1.1 因果推断与预测的区别（入门者强化版）**：  \n",
    "- 通过**同一份数据**，展示“预测”和“因果”得到的**不同结论**；  \n",
    "- 提供可复用的**对照流程清单**；  \n",
    "- 输出你需要报告/检查的关键指标（AUC、SMD、PS 重叠、ATE）。\n"
   ]
  },
  {
   "cell_type": "markdown",
   "id": "3d9fa934",
   "metadata": {},
   "source": [
    "\n",
    "## 1. 我们到底在问什么？\n",
    "\n",
    "- **预测（Predictive）**：给定特征，预测结局 \\(P(Y\\mid X)\\)。  \n",
    "- **因果（Causal）**：如果我们**干预**治疗 \\(X\\)，结局会如何变化 \\(P(Y\\mid do(X))\\)，或 \\(\\mathbb{E}[Y(1)-Y(0)]\\)。\n",
    "\n",
    "> 预测帮你“看风险”；因果帮你“改结果”。\n"
   ]
  },
  {
   "cell_type": "markdown",
   "id": "e2b5e842",
   "metadata": {},
   "source": [
    "\n",
    "## 2. 最小对照流程（各 5 步）\n",
    "\n",
    "**做预测**（例：ICU 28 天死亡风险）：  \n",
    "1) 明确目标（预测概率/风险分层）  \n",
    "2) 选特征（对预测有用即可，避免信息泄露）  \n",
    "3) 划分训练/验证/测试（此处为演示，先不划分）  \n",
    "4) 训练评估（AUC、校准）  \n",
    "5) 监控与再训练计划  \n",
    "\n",
    "**做因果**（例：早期抗生素是否降低死亡）：  \n",
    "1) 定义治疗/结局/时间线（协变量来自**治疗前**）  \n",
    "2) 识别混杂并画 DAG（此处用模拟数据代替）  \n",
    "3) 估 PS，检查**平衡**（SMD）与**重叠**（PS 分布）  \n",
    "4) 用 IPTW/PSM/DR 估 ATE/HR/CATE  \n",
    "5) 做敏感性分析与亚组分析（演示中先不展开）\n"
   ]
  },
  {
   "cell_type": "markdown",
   "id": "95f2fc3d",
   "metadata": {},
   "source": [
    "\n",
    "## 3. 同一数据，不同问题：模拟数据演示\n",
    "\n",
    "- 设定：重症程度（SOFA）越高，**越可能被治疗**（产生**混杂**）；实际真相是**治疗可降低死亡**。  \n",
    "- 结果：\n",
    "  - **预测模型**可能会把“被治疗”与“死亡更高”联系起来（因为重症更常被治疗），**不是因果**；  \n",
    "  - **因果校正**（IPTW）后可更接近“治疗降低死亡”的真相。\n"
   ]
  },
  {
   "cell_type": "code",
   "execution_count": null,
   "id": "297bf3f2",
   "metadata": {},
   "outputs": [],
   "source": [
    "\n",
    "import numpy as np, pandas as pd\n",
    "from sklearn.linear_model import LogisticRegression\n",
    "from sklearn.metrics import roc_auc_score\n",
    "from sklearn.preprocessing import StandardScaler\n",
    "import matplotlib.pyplot as plt\n",
    "\n",
    "np.random.seed(42)\n",
    "n = 3000\n",
    "age = np.random.normal(70, 10, n)            # 混杂：年龄越大越重\n",
    "sofa = np.clip(np.random.normal(5 + 0.1*(age-70), 2, n), 0, None)\n",
    "\n",
    "# 治疗分配：越重越容易用药（混杂来源）\n",
    "logit_t = -2 + 0.4*sofa + 0.01*(age-70)\n",
    "p_treat = 1/(1+np.exp(-logit_t))\n",
    "treat = (np.random.rand(n) < p_treat).astype(int)\n",
    "\n",
    "# 真因果：用药降低死亡，但重症本身提升死亡风险\n",
    "logit_y = -3 + 0.5*sofa + 0.02*(age-70) - 0.6*treat\n",
    "p_dead = 1/(1+np.exp(-logit_y))\n",
    "y = (np.random.rand(n) < p_dead).astype(int)\n",
    "\n",
    "df = pd.DataFrame({'age':age,'sofa':sofa,'treat':treat,'dead':y})\n",
    "df.head()\n"
   ]
  },
  {
   "cell_type": "markdown",
   "id": "b66e7ab5",
   "metadata": {},
   "source": [
    "\n",
    "### 3.1 预测问题：给定特征，预测死亡概率\n",
    "\n",
    "- 我们用 `treat, age, sofa` 作为特征来做**死亡预测**（逻辑回归）。  \n",
    "- 评价 AUC，并查看 `treat` 的回归系数（注意：**系数方向不是因果方向**）。\n"
   ]
  },
  {
   "cell_type": "code",
   "execution_count": null,
   "id": "2c80f86a",
   "metadata": {},
   "outputs": [],
   "source": [
    "\n",
    "X_pred = df[['treat','age','sofa']]\n",
    "m_pred = LogisticRegression(max_iter=1000).fit(X_pred, df['dead'])\n",
    "auc = roc_auc_score(df['dead'], m_pred.predict_proba(X_pred)[:,1])\n",
    "coef_treat = m_pred.coef_[0][0]\n",
    "\n",
    "print(\"预测 AUC:\", round(auc, 3))\n",
    "print(\"预测模型中 treat 系数（仅相关方向，不代表因果）:\", round(coef_treat, 3))\n"
   ]
  },
  {
   "cell_type": "markdown",
   "id": "8071d8a4",
   "metadata": {},
   "source": [
    "\n",
    "### 3.2 因果问题（准备）：PS 重叠与基线平衡\n",
    "\n",
    "- 只用**治疗前协变量**（这里用 `age, sofa`）来估计**倾向评分**（PS = 接受治疗的概率）。  \n",
    "- 看看两组 PS 分布有没有**重叠**（positivity）。\n"
   ]
  },
  {
   "cell_type": "code",
   "execution_count": null,
   "id": "92bd8212",
   "metadata": {},
   "outputs": [],
   "source": [
    "\n",
    "from sklearn.preprocessing import StandardScaler\n",
    "from sklearn.linear_model import LogisticRegression\n",
    "\n",
    "# 倾向评分（只用治疗前协变量）\n",
    "scaler = StandardScaler()\n",
    "X_ps = scaler.fit_transform(df[['age','sofa']])\n",
    "ps_model = LogisticRegression(max_iter=1000).fit(X_ps, df['treat'])\n",
    "ps = ps_model.predict_proba(X_ps)[:,1]\n",
    "df['ps'] = ps\n",
    "\n",
    "plt.figure()\n",
    "plt.hist(df.loc[df.treat==1, 'ps'], bins=30, alpha=0.6, label='Treatment')\n",
    "plt.hist(df.loc[df.treat==0, 'ps'], bins=30, alpha=0.6, label='Control')\n",
    "plt.xlabel('Propensity score'); plt.ylabel('Count'); plt.legend(); plt.title('PS overlap check')\n",
    "plt.show()\n",
    "\n",
    "# 简单 SMD（连续变量）\n",
    "def smd_cont(x_t, x_c):\n",
    "    mu_t, mu_c = np.nanmean(x_t), np.nanmean(x_c)\n",
    "    sd_pool = np.sqrt((np.nanvar(x_t, ddof=1)+np.nanvar(x_c, ddof=1))/2)\n",
    "    return (mu_t - mu_c) / (sd_pool + 1e-12)\n",
    "\n",
    "tmask, cmask = df['treat']==1, df['treat']==0\n",
    "print(\"SMD(age):\", round(smd_cont(df.loc[tmask,'age'], df.loc[cmask,'age']),3))\n",
    "print(\"SMD(sofa):\", round(smd_cont(df.loc[tmask,'sofa'], df.loc[cmask,'sofa']),3))\n"
   ]
  },
  {
   "cell_type": "markdown",
   "id": "f97984a6",
   "metadata": {},
   "source": [
    "\n",
    "### 3.3 因果估计：用 IPTW 粗估 ATE\n",
    "\n",
    "- 稳定化权重：Treatment: \\(w=1/PS\\)，Control: \\(w=1/(1-PS)\\)。  \n",
    "- 计算**加权后的**治疗组/对照组死亡率，再取差异（ATE）。  \n",
    "- 结果若为**负值**，表示治疗可**降低**死亡率（与模拟真相一致）。\n"
   ]
  },
  {
   "cell_type": "code",
   "execution_count": null,
   "id": "8fd04e7c",
   "metadata": {},
   "outputs": [],
   "source": [
    "\n",
    "import numpy as np\n",
    "\n",
    "w = np.where(df['treat']==1, 1/df['ps'], 1/(1-df['ps']))\n",
    "ate_iptw = (w[df.treat==1]*df.dead[df.treat==1]).sum()/w[df.treat==1].sum() \\\n",
    "         - (w[df.treat==0]*df.dead[df.treat==0]).sum()/w[df.treat==0].sum()\n",
    "\n",
    "print(\"IPTW 估计的 ATE（>0=增加死亡，<0=降低死亡）:\", round(ate_iptw, 4))\n"
   ]
  },
  {
   "cell_type": "markdown",
   "id": "82204a7c",
   "metadata": {},
   "source": [
    "\n",
    "## 4. 关键结论与报告要点\n",
    "\n",
    "- **预测**：报 AUC/校准等预测指标；**不要**把系数当成因果解释。  \n",
    "- **因果**：报 ATE/RR/HR；提供**平衡性（SMD）**、**重叠性（PS 分布）**与**稳健性**说明。  \n",
    "- 同一份数据：预测可能显示“治疗↔更高死亡”的**相关**；校正混杂后，因果估计可显示“治疗降低死亡”的**效果**。\n",
    "\n",
    "> 建议：把本 Notebook 存为你团队的“对照演示”，帮助新人快速理解“预测 vs 因果”的核心差异。\n"
   ]
  }
 ],
 "metadata": {},
 "nbformat": 4,
 "nbformat_minor": 5
}