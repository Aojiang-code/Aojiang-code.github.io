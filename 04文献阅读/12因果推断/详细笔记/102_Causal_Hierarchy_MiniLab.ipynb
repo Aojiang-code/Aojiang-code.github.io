{
 "cells": [
  {
   "cell_type": "markdown",
   "id": "e3cb44c6",
   "metadata": {},
   "source": [
    "\n",
    "# 📓 阶段 1 · 1.2 MiniLab —— Pearl 因果层级：关联 → 干预 → 反事实\n",
    "\n",
    "本 Notebook 让你在 **15–30 分钟**内，亲手跑完三件事：  \n",
    "1) **关联**：不动世界，只做相关回归；  \n",
    "2) **干预**：用**背门调整**（IPTW）估计平均处理效应（ATE）；  \n",
    "3) **反事实**：用一个**简化的 CATE/ITE** 模型，看看个体或亚组差异。\n",
    "\n",
    "> 说明：为便于运行速度与可复现性，我们用**可控的模拟数据**：重症更可能被治疗（混杂），真实“治疗有益”。\n"
   ]
  },
  {
   "cell_type": "markdown",
   "id": "613efe01",
   "metadata": {},
   "source": [
    "\n",
    "## 0. 生成一份“有混杂”的模拟医学数据\n",
    "\n",
    "- `age`、`sofa`：治疗前协变量（混杂）  \n",
    "- `treat`：是否治疗（越重越容易被治疗，产生混杂）  \n",
    "- `dead`：28 天死亡（真相：治疗降低死亡）\n"
   ]
  },
  {
   "cell_type": "code",
   "execution_count": null,
   "id": "1ab5bba7",
   "metadata": {},
   "outputs": [],
   "source": [
    "\n",
    "import numpy as np, pandas as pd\n",
    "import matplotlib.pyplot as plt\n",
    "\n",
    "np.random.seed(2025)\n",
    "n = 5000\n",
    "age = np.random.normal(70, 10, n)                         # 年龄\n",
    "sofa = np.clip(np.random.normal(5 + 0.1*(age-70), 2, n), 0, None)  # 病情严重度\n",
    "\n",
    "# 治疗倾向：越重越可能接受治疗（混杂）\n",
    "logit_t = -2 + 0.45*sofa + 0.01*(age-70)\n",
    "p_treat = 1/(1+np.exp(-logit_t))\n",
    "treat = (np.random.rand(n) < p_treat).astype(int)\n",
    "\n",
    "# 结局：重症↑死亡↑，治疗可降低死亡（负向效应）\n",
    "logit_y = -3 + 0.55*sofa + 0.02*(age-70) - 0.6*treat\n",
    "p_dead = 1/(1+np.exp(-logit_y))\n",
    "dead = (np.random.rand(n) < p_dead).astype(int)\n",
    "\n",
    "df = pd.DataFrame({'age':age,'sofa':sofa,'treat':treat,'dead':dead})\n",
    "df.head()\n"
   ]
  },
  {
   "cell_type": "markdown",
   "id": "5573775c",
   "metadata": {},
   "source": [
    "\n",
    "## 1. 关联（Association）：不动世界，只做相关回归\n",
    "\n",
    "### 1.1 仅用 `treat` 回归 `dead`（**完全未调整**）\n",
    "> 容易得到“治疗 ↔ 更高死亡”的**假象相关**（因为更重的病人更常被治疗）。\n"
   ]
  },
  {
   "cell_type": "code",
   "execution_count": null,
   "id": "ce1d552d",
   "metadata": {},
   "outputs": [],
   "source": [
    "\n",
    "import statsmodels.api as sm\n",
    "import numpy as np\n",
    "\n",
    "X0 = sm.add_constant(df[['treat']])\n",
    "m0 = sm.Logit(df['dead'], X0).fit(disp=False)\n",
    "print(m0.summary())\n",
    "print(\"\\n未调整模型：treat 的 OR ≈\", np.exp(m0.params['treat']))\n"
   ]
  },
  {
   "cell_type": "markdown",
   "id": "997909bb",
   "metadata": {},
   "source": [
    "\n",
    "### 1.2 加入治疗前混杂 `age, sofa` 做**关联回归（仍非因果）**\n",
    "\n",
    "> 这是“统计调整”的相关回归，不等同于 \\( P(Y \\mid do(X)) \\)，但方向会更接近真实。\n"
   ]
  },
  {
   "cell_type": "code",
   "execution_count": null,
   "id": "39fa63f6",
   "metadata": {},
   "outputs": [],
   "source": [
    "\n",
    "X1 = sm.add_constant(df[['treat','age','sofa']])\n",
    "m1 = sm.Logit(df['dead'], X1).fit(disp=False)\n",
    "print(m1.summary())\n",
    "print(\"\\n加入混杂后：treat 的 OR ≈\", np.exp(m1.params['treat']))\n"
   ]
  },
  {
   "cell_type": "markdown",
   "id": "bcde2c86",
   "metadata": {},
   "source": [
    "\n",
    "## 2. 干预（Intervention）：背门调整 → IPTW 估计 ATE\n",
    "\n",
    "- 用 `age, sofa` 估计**倾向评分**（PS = 接受治疗的概率）；  \n",
    "- 看**重叠**（PS 分布是否两组都有覆盖）；  \n",
    "- 用 **IPTW** 计算加权后的两组死亡率差（ATE）。\n"
   ]
  },
  {
   "cell_type": "code",
   "execution_count": null,
   "id": "effdd9fb",
   "metadata": {},
   "outputs": [],
   "source": [
    "\n",
    "from sklearn.preprocessing import StandardScaler\n",
    "from sklearn.linear_model import LogisticRegression\n",
    "import matplotlib.pyplot as plt\n",
    "\n",
    "scaler = StandardScaler()\n",
    "X_ps = scaler.fit_transform(df[['age','sofa']])\n",
    "ps_model = LogisticRegression(max_iter=500).fit(X_ps, df['treat'])\n",
    "ps = ps_model.predict_proba(X_ps)[:,1]\n",
    "df['ps'] = ps\n",
    "\n",
    "plt.figure()\n",
    "plt.hist(df.loc[df.treat==1,'ps'], bins=30, alpha=0.6, label='Treatment')\n",
    "plt.hist(df.loc[df.treat==0,'ps'], bins=30, alpha=0.6, label='Control')\n",
    "plt.xlabel('Propensity Score'); plt.ylabel('Count'); plt.legend(); plt.title('PS Overlap')\n",
    "plt.show()\n",
    "\n",
    "# 稳定化权重（简化版）\n",
    "w = np.where(df['treat']==1, 1/df['ps'], 1/(1-df['ps']))\n",
    "df['w'] = w\n",
    "\n",
    "ate_iptw = (df.loc[df.treat==1,'w']*df.loc[df.treat==1,'dead']).sum()/df.loc[df.treat==1,'w'].sum() \\\n",
    "         - (df.loc[df.treat==0,'w']*df.loc[df.treat==0,'dead']).sum()/df.loc[df.treat==0,'w'].sum()\n",
    "print(\"IPTW 估计 ATE（>0=提高死亡，<0=降低死亡）：\", round(ate_iptw, 4))\n",
    "\n",
    "print(\"PS 分位数：\", np.percentile(ps, [0,1,5,50,95,99,100]))\n"
   ]
  },
  {
   "cell_type": "markdown",
   "id": "ef9513bb",
   "metadata": {},
   "source": [
    "\n",
    "### 2.1 基线平衡（SMD）：加权前 vs 加权后\n",
    "\n",
    "> 观察 SMD 是否向 0 靠拢（平衡性改善）。\n"
   ]
  },
  {
   "cell_type": "code",
   "execution_count": null,
   "id": "0ad905fd",
   "metadata": {},
   "outputs": [],
   "source": [
    "\n",
    "import numpy as np\n",
    "import pandas as pd\n",
    "\n",
    "def smd_cont(x_t, x_c):\n",
    "    mu_t, mu_c = np.nanmean(x_t), np.nanmean(x_c)\n",
    "    sd_pool = np.sqrt((np.nanvar(x_t, ddof=1)+np.nanvar(x_c, ddof=1))/2)\n",
    "    return (mu_t - mu_c)/(sd_pool + 1e-12)\n",
    "\n",
    "def smd_cont_w(x, t, w):\n",
    "    # 加权均值差 / 未偏方差的近似合并（简化版示意）\n",
    "    x_t, wt = x[t==1], w[t==1]\n",
    "    x_c, wc = x[t==0], w[t==0]\n",
    "    mu_t = np.sum(wt*x_t)/np.sum(wt)\n",
    "    mu_c = np.sum(wc*x_c)/np.sum(wc)\n",
    "    # 加权方差（近似）\n",
    "    var_t = np.sum(wt*(x_t-mu_t)**2)/np.sum(wt)\n",
    "    var_c = np.sum(wc*(x_c-mu_c)**2)/np.sum(wc)\n",
    "    sd_pool = np.sqrt((var_t+var_c)/2 + 1e-12)\n",
    "    return (mu_t - mu_c)/(sd_pool + 1e-12)\n",
    "\n",
    "rows = []\n",
    "for v in ['age','sofa']:\n",
    "    pre = smd_cont(df.loc[df.treat==1,v], df.loc[df.treat==0,v])\n",
    "    post = smd_cont_w(df[v].values, df['treat'].values, df['w'].values)\n",
    "    rows.append((v, pre, post))\n",
    "\n",
    "smd_tbl = pd.DataFrame(rows, columns=['variable','SMD_pre','SMD_post'])\n",
    "smd_tbl['|pre|'] = smd_tbl['SMD_pre'].abs()\n",
    "smd_tbl['|post|'] = smd_tbl['SMD_post'].abs()\n",
    "smd_tbl.sort_values('|post|', ascending=False)\n"
   ]
  },
  {
   "cell_type": "markdown",
   "id": "16bdf151",
   "metadata": {},
   "source": [
    "\n",
    "## 3. 反事实（Counterfactuals）：一个“入门级” CATE/ITE 演示\n",
    "\n",
    "我们用 **T-learner** 思路：  \n",
    "- 分别训练两套**结局模型**：`Y|X,T=1` 与 `Y|X,T=0`；  \n",
    "- 对每个病人，估计两种世界的死亡概率，再取差值（`p1 - p0`，负值=治疗有益）。\n",
    "\n",
    "> 这里只作直观演示，用的是 sklearn 分类器；严肃研究可用 EconML/因果森林/DR-learner 等。\n"
   ]
  },
  {
   "cell_type": "code",
   "execution_count": null,
   "id": "8ff222d2",
   "metadata": {},
   "outputs": [],
   "source": [
    "\n",
    "from sklearn.ensemble import GradientBoostingClassifier\n",
    "\n",
    "features = ['age','sofa']\n",
    "df_train_t = df[df.treat==1]\n",
    "df_train_c = df[df.treat==0]\n",
    "\n",
    "m1 = GradientBoostingClassifier().fit(df_train_t[features], df_train_t['dead'])\n",
    "m0 = GradientBoostingClassifier().fit(df_train_c[features], df_train_c['dead'])\n",
    "\n",
    "p1 = m1.predict_proba(df[features])[:,1]\n",
    "p0 = m0.predict_proba(df[features])[:,1]\n",
    "cate = p1 - p0  # 负值=治疗更好（更低死亡）\n",
    "df['cate'] = cate\n",
    "\n",
    "print(\"CATE 概览：中位数/25%/75%：\", np.percentile(cate, [50,25,75]))\n",
    "\n",
    "# 看看随 SOFA 的趋势（分箱后取均值）\n",
    "bins = np.quantile(df['sofa'], [0, .2, .4, .6, .8, 1])\n",
    "labels = [f\"Q{i}\" for i in range(1,6)]\n",
    "df['sofa_bin'] = pd.cut(df['sofa'], bins=bins, labels=labels, include_lowest=True)\n",
    "trend = df.groupby('sofa_bin')['cate'].mean().reset_index()\n",
    "trend\n"
   ]
  },
  {
   "cell_type": "code",
   "execution_count": null,
   "id": "866f0849",
   "metadata": {},
   "outputs": [],
   "source": [
    "\n",
    "# 可视化：个体化效应分布与SOFA分位趋势\n",
    "plt.figure()\n",
    "plt.hist(df['cate'], bins=40, alpha=0.8)\n",
    "plt.xlabel('Estimated ITE (p1 - p0)'); plt.ylabel('Count'); plt.title('ITE Distribution (T-learner)')\n",
    "plt.show()\n",
    "\n",
    "plt.figure()\n",
    "plt.plot(trend['sofa_bin'], trend['cate'], marker='o')\n",
    "plt.xlabel('SOFA quantile'); plt.ylabel('Mean ITE'); plt.title('ITE vs SOFA (coarse view)')\n",
    "plt.show()\n"
   ]
  },
  {
   "cell_type": "markdown",
   "id": "607304d9",
   "metadata": {},
   "source": [
    "\n",
    "## 4. 小结（如何把三层用在你的研究里）\n",
    "\n",
    "- **关联**：用于发现线索、做风险分层；**不要**直接下因果结论。  \n",
    "- **干预**：先识别（背门/前门/IV/G方法），再估计（PSM/IPTW/DR/TMLE），**务必**检查平衡/重叠/敏感性。  \n",
    "- **反事实**：在平均效应稳健后，再做 CATE/ITE；只在**有重叠**的区域解释个体化效应，并做稳健性检查。\n",
    "\n",
    "> 你可以复制本 Notebook 的骨架到任何真实数据集：把 `age/sofa/treat/dead` 换成你的“治疗前协变量/治疗/结局”，其余流程不变。\n"
   ]
  }
 ],
 "metadata": {},
 "nbformat": 4,
 "nbformat_minor": 5
}