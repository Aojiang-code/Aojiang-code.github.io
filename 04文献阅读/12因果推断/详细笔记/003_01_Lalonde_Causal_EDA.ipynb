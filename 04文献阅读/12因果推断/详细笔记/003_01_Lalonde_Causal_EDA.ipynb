{
 "cells": [
  {
   "cell_type": "markdown",
   "id": "37e11280",
   "metadata": {},
   "source": [
    "\n",
    "# 0.3.1 DoWhy 合成数据（Lalonde）因果 EDA 入门\n",
    "\n",
    "本 Notebook 旨在：\n",
    "- 加载 DoWhy 合成的 Lalonde 风格数据（含处理、结局、混杂、工具变量）\n",
    "- 做因果视角的基础 EDA：缺失/类型、基线平衡（SMD）、倾向评分重叠（PS overlap）\n"
   ]
  },
  {
   "cell_type": "code",
   "execution_count": null,
   "id": "779a1708",
   "metadata": {},
   "outputs": [],
   "source": [
    "\n",
    "import pandas as pd\n",
    "import numpy as np\n",
    "import matplotlib.pyplot as plt\n",
    "\n",
    "import dowhy.datasets as dwd\n",
    "\n",
    "# 生成合成数据\n",
    "data = dwd.linear_dataset(\n",
    "    beta=10,\n",
    "    num_common_causes=5,\n",
    "    num_instruments=1,\n",
    "    num_samples=1000,\n",
    "    treatment_is_binary=True,\n",
    "    stddev_treatment_noise=1.0,\n",
    "    stddev_outcome_noise=1.0,\n",
    "    seed=2025\n",
    ")\n",
    "\n",
    "df = data[\"df\"].copy()\n",
    "T = data[\"treatment_name\"]\n",
    "Y = data[\"outcome_name\"]\n",
    "C = data[\"common_causes_names\"]\n",
    "IV = data.get(\"instrument_names\", [])\n",
    "\n",
    "print(\"数据形状:\", df.shape)\n",
    "display(df.head())\n",
    "print(\"treatment列:\", T, \" | outcome列:\", Y)\n",
    "print(\"混杂变量:\", C, \" | 工具变量:\", IV)\n"
   ]
  },
  {
   "cell_type": "markdown",
   "id": "60811de6",
   "metadata": {},
   "source": [
    "## 基础检查：缺失、类型与分布"
   ]
  },
  {
   "cell_type": "code",
   "execution_count": null,
   "id": "4a5902dd",
   "metadata": {},
   "outputs": [],
   "source": [
    "\n",
    "print(df.info())\n",
    "display(df.describe())\n",
    "print(\"缺失值计数：\")\n",
    "print(df.isnull().sum().sort_values(ascending=False).head(10))\n"
   ]
  },
  {
   "cell_type": "markdown",
   "id": "fb05aaf4",
   "metadata": {},
   "source": [
    "\n",
    "## 基线平衡（SMD）\n",
    "> 标准化均数差（SMD）用于衡量治疗组与对照组在混杂上的差异；|SMD|≤0.1/0.2 通常认为平衡较好。\n"
   ]
  },
  {
   "cell_type": "code",
   "execution_count": null,
   "id": "7037a7d3",
   "metadata": {},
   "outputs": [],
   "source": [
    "\n",
    "def smd_cont(x_t, x_c):\n",
    "    mu_t, mu_c = np.nanmean(x_t), np.nanmean(x_c)\n",
    "    sd_pool = np.sqrt((np.nanvar(x_t, ddof=1) + np.nanvar(x_c, ddof=1)) / 2)\n",
    "    return (mu_t - mu_c) / (sd_pool + 1e-12)\n",
    "\n",
    "tmask = df[T] == 1\n",
    "cmask = ~tmask\n",
    "rows = []\n",
    "for v in C:\n",
    "    rows.append((v, smd_cont(df.loc[tmask, v], df.loc[cmask, v])))\n",
    "smd_table = pd.DataFrame(rows, columns=[\"variable\",\"SMD\"]).sort_values(\"variable\")\n",
    "display(smd_table)\n"
   ]
  },
  {
   "cell_type": "markdown",
   "id": "48107635",
   "metadata": {},
   "source": [
    "### 分布可视化（示例：一个混杂变量）"
   ]
  },
  {
   "cell_type": "code",
   "execution_count": null,
   "id": "29a48ae1",
   "metadata": {},
   "outputs": [],
   "source": [
    "\n",
    "var = C[0]\n",
    "plt.figure()\n",
    "plt.hist(df.loc[tmask, var], bins=30, alpha=0.6, label=\"Treatment\")\n",
    "plt.hist(df.loc[cmask, var], bins=30, alpha=0.6, label=\"Control\")\n",
    "plt.xlabel(var); plt.ylabel(\"Count\"); plt.legend(); plt.title(f\"Distribution of {var}\")\n",
    "plt.show()\n"
   ]
  },
  {
   "cell_type": "markdown",
   "id": "c0c1cfaa",
   "metadata": {},
   "source": [
    "\n",
    "## 倾向评分重叠（PS overlap）\n",
    "> 仅用于粗查可比性，后续将用于配权/匹配。若两组 PS 分布几乎不重叠，需考虑修剪或变更研究设计。\n"
   ]
  },
  {
   "cell_type": "code",
   "execution_count": null,
   "id": "e32dfb57",
   "metadata": {},
   "outputs": [],
   "source": [
    "\n",
    "from sklearn.linear_model import LogisticRegression\n",
    "from sklearn.preprocessing import StandardScaler\n",
    "\n",
    "X = df[C].values\n",
    "y = df[T].values\n",
    "\n",
    "scaler = StandardScaler()\n",
    "X_std = scaler.fit_transform(X)\n",
    "\n",
    "ps_model = LogisticRegression(max_iter=200).fit(X_std, y)\n",
    "ps = ps_model.predict_proba(X_std)[:, 1]\n",
    "df[\"propensity_score\"] = ps\n",
    "\n",
    "plt.figure()\n",
    "plt.hist(df.loc[tmask, \"propensity_score\"], bins=30, alpha=0.6, label=\"Treatment\")\n",
    "plt.hist(df.loc[cmask, \"propensity_score\"], bins=30, alpha=0.6, label=\"Control\")\n",
    "plt.xlabel(\"Propensity Score\"); plt.ylabel(\"Count\"); plt.legend(); plt.title(\"PS Overlap Check\")\n",
    "plt.show()\n"
   ]
  }
 ],
 "metadata": {},
 "nbformat": 4,
 "nbformat_minor": 5
}