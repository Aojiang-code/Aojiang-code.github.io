{
 "cells": [
  {
   "cell_type": "markdown",
   "id": "5b1fdc45",
   "metadata": {},
   "source": [
    "\n",
    "# 0.3.2 UCI Heart + 因果 EDA 小工具\n",
    "\n",
    "本 Notebook：\n",
    "- 尝试加载 UCI Heart Disease 数据（在线 URL 或本地备选路径）\n",
    "- 进行面向因果的 EDA（缺失/类型、分组均值、一个简单分布图）\n",
    "- 提供可复用的 SMD 与 PS 可视化辅助函数（可用于你的任何项目）\n"
   ]
  },
  {
   "cell_type": "markdown",
   "id": "622ca8b1",
   "metadata": {},
   "source": [
    "## 可复用函数（建议复制到你的项目 utils 中）"
   ]
  },
  {
   "cell_type": "code",
   "execution_count": null,
   "id": "e64a71b4",
   "metadata": {},
   "outputs": [],
   "source": [
    "\n",
    "import numpy as np\n",
    "import pandas as pd\n",
    "import matplotlib.pyplot as plt\n",
    "\n",
    "def smd_cont(x_t, x_c):\n",
    "    mu_t, mu_c = np.nanmean(x_t), np.nanmean(x_c)\n",
    "    sd_pool = np.sqrt((np.nanvar(x_t, ddof=1)+np.nanvar(x_c, ddof=1))/2)\n",
    "    return (mu_t - mu_c) / (sd_pool + 1e-12)\n",
    "\n",
    "def smd_binary(x_t, x_c):\n",
    "    p1, p0 = np.nanmean(x_t), np.nanmean(x_c)\n",
    "    p = np.nanmean(np.r_[x_t, x_c])\n",
    "    denom = np.sqrt(p*(1-p) + 1e-12)\n",
    "    return (p1 - p0) / denom\n",
    "\n",
    "def balance_table(df, treat_col, covs, cat_covs=None):\n",
    "    cat_covs = set(cat_covs or [])\n",
    "    tmask = df[treat_col] == 1\n",
    "    cmask = df[treat_col] == 0\n",
    "    rows = []\n",
    "    for v in covs:\n",
    "        if v in cat_covs or df[v].dropna().isin([0,1]).all():\n",
    "            smd = smd_binary(df.loc[tmask, v], df.loc[cmask, v])\n",
    "        else:\n",
    "            smd = smd_cont(df.loc[treat_col==1, v], df.loc[treat_col==0, v])\n",
    "        rows.append((v, smd))\n",
    "    out = pd.DataFrame(rows, columns=[\"variable\",\"SMD\"]).sort_values(\"variable\")\n",
    "    return out\n",
    "\n",
    "def plot_ps_overlap(ps_t, ps_c, bins=30):\n",
    "    plt.figure()\n",
    "    plt.hist(ps_t, bins=bins, alpha=0.6, label=\"Treatment\")\n",
    "    plt.hist(ps_c, bins=bins, alpha=0.6, label=\"Control\")\n",
    "    plt.xlabel(\"Propensity Score\"); plt.ylabel(\"Count\"); plt.legend(); plt.title(\"PS Overlap\")\n",
    "    plt.show()\n"
   ]
  },
  {
   "cell_type": "markdown",
   "id": "d9edfb1a",
   "metadata": {},
   "source": [
    "\n",
    "## 加载 UCI Heart Disease 数据\n",
    "- 首选：在线 CSV（若你本地联网）  \n",
    "- 备选：本地路径（下载后设置 heart_path）\n"
   ]
  },
  {
   "cell_type": "code",
   "execution_count": null,
   "id": "18d1b8e6",
   "metadata": {},
   "outputs": [],
   "source": [
    "\n",
    "import pandas as pd\n",
    "import os\n",
    "\n",
    "# 在线来源（若在离线环境将会失败）\n",
    "url = \"https://raw.githubusercontent.com/selva86/datasets/master/Heart.csv\"\n",
    "\n",
    "dfh = None\n",
    "try:\n",
    "    dfh = pd.read_csv(url)\n",
    "    print(\"已从在线来源加载：\", url)\n",
    "except Exception as e:\n",
    "    print(\"在线加载失败：\", e)\n",
    "    heart_path = r\"/path/to/your/local/Heart.csv\"  # 改成你的本地路径\n",
    "    if os.path.exists(heart_path):\n",
    "        dfh = pd.read_csv(heart_path)\n",
    "        print(\"已从本地加载：\", heart_path)\n",
    "    else:\n",
    "        print(\"未找到本地 Heart.csv，请修改路径。\")\n",
    "\n",
    "if dfh is not None:\n",
    "    print(\"形状:\", dfh.shape)\n",
    "    display(dfh.head())\n",
    "    print(dfh.info())\n",
    "    dfh.columns = [c.lower() for c in dfh.columns]\n"
   ]
  },
  {
   "cell_type": "markdown",
   "id": "0881d2cd",
   "metadata": {},
   "source": [
    "## 因果视角的基础 EDA（仅演示，不代表因果结论）"
   ]
  },
  {
   "cell_type": "code",
   "execution_count": null,
   "id": "0fc5daff",
   "metadata": {},
   "outputs": [],
   "source": [
    "\n",
    "import matplotlib.pyplot as plt\n",
    "\n",
    "if isinstance(dfh, pd.DataFrame):\n",
    "    # 识别结局列\n",
    "    target_candidates = [c for c in dfh.columns if c in (\"ahd\", \"target\", \"disease\")]\n",
    "    print(\"可能的结局列:\", target_candidates)\n",
    "    target = target_candidates[0] if target_candidates else None\n",
    "\n",
    "    # 若是字符串标签，转为 0/1\n",
    "    if target and dfh[target].dtype == \"O\":\n",
    "        dfh[target] = dfh[target].map({\"Yes\":1, \"No\":0}).fillna(dfh[target]).astype(int)\n",
    "\n",
    "    # 缺失与描述性\n",
    "    print(\"缺失值统计：\")\n",
    "    print(dfh.isnull().sum().sort_values(ascending=False).head(10))\n",
    "    display(dfh.describe(include='all'))\n",
    "\n",
    "    # 简单分组均值（随数据版本字段而定）\n",
    "    cols_focus = [c for c in [\"age\",\"restbp\",\"chol\",\"maxhr\",\"oldpeak\"] if c in dfh.columns]\n",
    "    if target and cols_focus:\n",
    "        print(\"\\n按是否患病分组的均值：\")\n",
    "        print(dfh.groupby(target)[cols_focus].mean())\n",
    "\n",
    "    # 可视化：年龄分布（病例 vs 对照）\n",
    "    if target and \"age\" in dfh.columns:\n",
    "        plt.figure()\n",
    "        for val, name in [(0,\"No Disease\"), (1,\"Disease\")]:\n",
    "            plt.hist(dfh.loc[dfh[target]==val, \"age\"].dropna(), bins=20, alpha=0.6, label=name)\n",
    "        plt.xlabel(\"Age\"); plt.ylabel(\"Count\"); plt.legend(); plt.title(\"Age by Disease Status\")\n",
    "        plt.show()\n"
   ]
  }
 ],
 "metadata": {},
 "nbformat": 4,
 "nbformat_minor": 5
}