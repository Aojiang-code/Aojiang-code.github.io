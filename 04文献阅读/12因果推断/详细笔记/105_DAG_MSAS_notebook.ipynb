{
 "cells": [
  {
   "cell_type": "markdown",
   "id": "d9891185",
   "metadata": {},
   "source": [
    "# 1.5 专用 Notebook：DAG 画图 & DoWhy 自动识别调整集（入门强化版）\n",
    "\n",
    "本 Notebook 配套于**1.5 因果图（DAG）与变量选择**，包含两部分：\n",
    "1）用 `networkx` 画出示例 DAG；2）用 `DoWhy` 自动识别背门调整集（MSAS）。\n",
    "\n",
    "> 你可以把本 Notebook 作为项目模板：把自己的 DAG 粘进来，立刻得到**最小充分调整集**候选。"
   ]
  },
  {
   "cell_type": "markdown",
   "id": "cc8810da",
   "metadata": {},
   "source": [
    "## 0. 环境准备（如已安装可跳过）\n",
    "\n",
    "> 如未安装依赖，请先在本地环境中运行：\n",
    "```bash\n",
    "pip install -U networkx matplotlib dowhy pydot\n",
    "```\n",
    "> *说明*：`DoWhy` 可直接解析我们在代码里写的 DOT 图字符串；`pydot` 用于图解析。"
   ]
  },
  {
   "cell_type": "code",
   "execution_count": null,
   "id": "158bd934",
   "metadata": {},
   "outputs": [],
   "source": [
    "# 导入与版本检查\n",
    "import sys, platform, importlib\n",
    "\n",
    "def check(pkg):\n",
    "    try:\n",
    "        m = importlib.import_module(pkg)\n",
    "        return f\"{pkg}: {getattr(m,'__version__','(no __version__)')}\"\n",
    "    except Exception as e:\n",
    "        return f\"{pkg}: NOT FOUND ({e})\"\n",
    "\n",
    "print('Python:', sys.version)\n",
    "print('OS:', platform.platform())\n",
    "for pkg in ['networkx','matplotlib','dowhy','pydot']:\n",
    "    print(check(pkg))\n"
   ]
  },
  {
   "cell_type": "markdown",
   "id": "b7fd48af",
   "metadata": {},
   "source": [
    "## 1. 用 `networkx` 画出示例 DAG\n",
    "\n",
    "示例结构（与讲义一致）：\n",
    "- `Age → Drug; Age → BP`\n",
    "- `Severity → Drug; Severity → BP`（治疗前严重度为混杂）\n",
    "- `Drug → BP`（治疗对结局的直接效应）\n",
    "- `Drug → BP_post → BP`（`BP_post` 为**治疗后**指标/中介）"
   ]
  },
  {
   "cell_type": "code",
   "execution_count": null,
   "id": "6adac7b6",
   "metadata": {},
   "outputs": [],
   "source": [
    "import networkx as nx\n",
    "import matplotlib.pyplot as plt\n",
    "\n",
    "nodes = ['Age','Severity','Drug','BP','BP_post']\n",
    "edges = [\n",
    "    ('Age','Drug'), ('Age','BP'),\n",
    "    ('Severity','Drug'), ('Severity','BP'),\n",
    "    ('Drug','BP'),\n",
    "    ('Drug','BP_post'), ('BP_post','BP')\n",
    "]\n",
    "G = nx.DiGraph()\n",
    "G.add_nodes_from(nodes)\n",
    "G.add_edges_from(edges)\n",
    "\n",
    "plt.figure(figsize=(7,5))\n",
    "pos = nx.spring_layout(G, seed=2025)\n",
    "nx.draw(G, pos, with_labels=True, node_size=2000, arrowsize=20)\n",
    "plt.title('DAG: Drug -> BP with Confounders & Mediator')\n",
    "plt.show()\n"
   ]
  },
  {
   "cell_type": "markdown",
   "id": "ac1ed44d",
   "metadata": {},
   "source": [
    "## 2. 用 `DoWhy` 自动识别“最小充分调整集”（MSAS）\n",
    "\n",
    "> 这里仅做**识别**演示。数据用“空壳”`DataFrame` 以声明变量名即可。"
   ]
  },
  {
   "cell_type": "code",
   "execution_count": null,
   "id": "18f28726",
   "metadata": {},
   "outputs": [],
   "source": [
    "import pandas as pd\n",
    "from dowhy import CausalModel\n",
    "\n",
    "cols = ['Age','Severity','Drug','BP','BP_post']\n",
    "df = pd.DataFrame({c: [] for c in cols})\n",
    "\n",
    "graph = r'''\n",
    "digraph {\n",
    "Age -> Drug; Age -> BP;\n",
    "Severity -> Drug; Severity -> BP;\n",
    "Drug -> BP;\n",
    "Drug -> BP_post; BP_post -> BP;\n",
    "}\n",
    "'''\n",
    "\n",
    "model = CausalModel(data=df, treatment='Drug', outcome='BP', graph=graph)\n",
    "identified = model.identify_effect()\n",
    "print('=== Identified Estimand ===')\n",
    "print(identified)\n",
    "\n",
    "def extract_backdoor_set(identified):\n",
    "    \"\"\"Extract candidate backdoor adjustment sets from a DoWhy identified estimand.\n",
    "    Returns a dict with 'candidates', 'union', and 'raw' string.\"\"\"\n",
    "    backdoor_info = identified.estimands.get('backdoor')\n",
    "    sets = []\n",
    "    exprs = backdoor_info if isinstance(backdoor_info, list) else [backdoor_info]\n",
    "    for expr in exprs:\n",
    "        text = str(expr)\n",
    "        import re\n",
    "        matches = re.findall(r\"\\{([A-Za-z0-9_,\\s]+)\\}\", text)\n",
    "        for m in matches:\n",
    "            s = [x.strip() for x in m.split(',') if x.strip()]\n",
    "            if s:\n",
    "                sets.append(set(s))\n",
    "    union = sorted(set().union(*sets)) if sets else []\n",
    "    return {'candidates': [sorted(s) for s in sets], 'union': union, 'raw': str(backdoor_info)}\n",
    "\n",
    "info = extract_backdoor_set(identified)\n",
    "print('候选背门调整集（解析）：', info['candidates'] if info['candidates'] else '(未能解析，见 raw 表达式)')\n",
    "print('变量并集（便于直接赋值给清单）：', info['union'])\n",
    "print('\\nRaw 表达式：\\n', info['raw'])\n"
   ]
  },
  {
   "cell_type": "markdown",
   "id": "61a79b3b",
   "metadata": {},
   "source": [
    "## 3. 套用自己的 DAG（模板）\n",
    "\n",
    "把下面的 `graph` 换成你的 DAG（DOT 语法），并设置 `treatment` 与 `outcome`，即可自动识别调整集。"
   ]
  },
  {
   "cell_type": "code",
   "execution_count": null,
   "id": "f9871700",
   "metadata": {},
   "outputs": [],
   "source": [
    "# === 修改以下三个量 ===\n",
    "YOUR_TREATMENT = 'X'\n",
    "YOUR_OUTCOME   = 'Y'\n",
    "your_cols = ['X','Y','Z1','Z2','M','A']  # 用你的变量名替换\n",
    "your_graph = r'''\n",
    "digraph {\n",
    "# 示例：请替换为你的 DAG\n",
    "Z1 -> X; Z1 -> Y;\n",
    "Z2 -> X; Z2 -> Y;\n",
    "X -> Y;\n",
    "X -> M; M -> Y;   # 中介示意\n",
    "X -> A; U -> A;   # 碰撞示意（U 未观测，仅示意，不放入数据列）\n",
    "}\n",
    "'''\n",
    "\n",
    "your_df = pd.DataFrame({c: [] for c in your_cols})\n",
    "your_model = CausalModel(data=your_df, treatment=YOUR_TREATMENT, outcome=YOUR_OUTCOME, graph=your_graph)\n",
    "your_id = your_model.identify_effect()\n",
    "print(your_id)\n",
    "\n",
    "print('\\n=== 你的背门调整集（解析） ===')\n",
    "print(extract_backdoor_set(your_id))\n"
   ]
  },
  {
   "cell_type": "markdown",
   "id": "8c881af2",
   "metadata": {},
   "source": [
    "## 4. 从 MSAS 到代码变量清单（项目模板）\n",
    "\n",
    "- **PS 模型**：只放**治疗前混杂**（MSAS）+ 少量建模必需基线变量；\n",
    "- **结果模型（DR/TMLE 等）**：可放相同治疗前变量 + 合理的非线性或交互（仍然是治疗前信息）；\n",
    "- **明确排除**：治疗后变量/中介、碰撞及其后代。"
   ]
  },
  {
   "cell_type": "code",
   "execution_count": null,
   "id": "7e668fbe",
   "metadata": {},
   "outputs": [],
   "source": [
    "# 假设从上面的 info['union'] 得到 MSAS 候选：\n",
    "pre_covs = info['union']\n",
    "print('最终用于 PS/背门调整的治疗前变量清单：', pre_covs)\n",
    "nonlinear_terms = []  # 例如 ['Age^2', 'Age*Severity'] —— 建模时再具体实现\n",
    "print('结果模型额外项（示意）：', nonlinear_terms)\n"
   ]
  }
 ],
 "metadata": {},
 "nbformat": 4,
 "nbformat_minor": 5
}
