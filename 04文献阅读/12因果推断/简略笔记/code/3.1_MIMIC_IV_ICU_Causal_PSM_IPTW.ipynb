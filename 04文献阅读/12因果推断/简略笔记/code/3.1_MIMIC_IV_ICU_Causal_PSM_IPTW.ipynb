{
 "cells": [
  {
   "cell_type": "markdown",
   "id": "f06a033d",
   "metadata": {},
   "source": [
    "# 3.1 MIMIC-IV ICU：血管活性药物 → 28 天死亡率（PSM & IPTW 模板）\n",
    "\n",
    "本 Notebook 提供在 **真实世界 ICU 数据（如 MIMIC-IV）** 上做因果推断的模板：\n",
    "1) 数据清洗与缺失处理；2) 倾向评分（PS）估计；3) **PSM** 与 **IPTW**；\n",
    "4) 平衡性诊断（SMD）；5) 估计风险差/风险比；6) 结果解释。\n",
    "\n",
    "> ⚠️ 说明：默认会先生成一个**可运行的模拟数据**以演示流程。将其替换为你的 MIMIC-IV 提取表即可。"
   ]
  },
  {
   "cell_type": "markdown",
   "id": "b347da7c",
   "metadata": {},
   "source": [
    "## 0. 环境依赖（如已安装可跳过）\n",
    "\n",
    "```bash\n",
    "pip install -U pandas numpy scikit-learn matplotlib\n",
    "```"
   ]
  },
  {
   "cell_type": "code",
   "execution_count": null,
   "id": "f4a7359e",
   "metadata": {},
   "outputs": [],
   "source": [
    "# 1) 载入数据：优先尝试读取本地 CSV；若未提供，则生成模拟数据\n",
    "import os\n",
    "import numpy as np\n",
    "import pandas as pd\n",
    "\n",
    "CSV_PATH = ''  # <- 可改为你的 MIMIC 提取结果，如 'mimic_icustay_vaso_28d.csv'\n",
    "\n",
    "def make_synthetic_icu(n=3000, seed=7):\n",
    "    rng = np.random.default_rng(seed)\n",
    "    age = rng.integers(18, 90, n)\n",
    "    sex = rng.integers(0, 2, n)  # 0/1\n",
    "    sofa = np.clip(rng.normal(6, 3, n), 0, None)\n",
    "    comorb = np.clip(rng.normal(1.5, 0.8, n), 0, None)\n",
    "    # treatment assignment depends on severity\n",
    "    p_t = 1/(1+np.exp(-( -4 + 0.06*age + 0.25*sofa + 0.4*comorb )))\n",
    "    t = rng.binomial(1, p_t)\n",
    "    # baseline risk + treatment effect\n",
    "    base = -3 + 0.03*age + 0.35*sofa + 0.3*comorb\n",
    "    logit_death = base - 0.25*t  # treatment beneficial\n",
    "    p_death = 1/(1+np.exp(-logit_death))\n",
    "    y = rng.binomial(1, p_death)  # 1=death within 28d\n",
    "    df = pd.DataFrame({\n",
    "        'age': age,\n",
    "        'sex': sex,\n",
    "        'sofa': sofa,\n",
    "        'comorbidity_index': comorb,\n",
    "        'vasopressor': t,\n",
    "        'mortality_28d': y\n",
    "    })\n",
    "    # inject some missingness\n",
    "    miss_idx = rng.choice(n, size=int(0.05*n), replace=False)\n",
    "    df.loc[miss_idx, 'sofa'] = np.nan\n",
    "    return df\n",
    "\n",
    "if CSV_PATH and os.path.exists(CSV_PATH):\n",
    "    df = pd.read_csv(CSV_PATH)\n",
    "else:\n",
    "    df = make_synthetic_icu()\n",
    "\n",
    "df.head()\n"
   ]
  },
  {
   "cell_type": "markdown",
   "id": "a12c2c59",
   "metadata": {},
   "source": [
    "## 2) 清洗：缺失值与极端值处理（Winsorize）"
   ]
  },
  {
   "cell_type": "code",
   "execution_count": null,
   "id": "3e33f762",
   "metadata": {},
   "outputs": [],
   "source": [
    "def median_impute(df, cols):\n",
    "    for c in cols:\n",
    "        df[c] = df[c].fillna(df[c].median())\n",
    "    return df\n",
    "\n",
    "def mode_impute(df, cols):\n",
    "    for c in cols:\n",
    "        mode = df[c].mode(dropna=True)\n",
    "        if len(mode):\n",
    "            df[c] = df[c].fillna(mode[0])\n",
    "    return df\n",
    "\n",
    "def winsorize(df, cols, lower=0.01, upper=0.99):\n",
    "    for c in cols:\n",
    "        lo, hi = df[c].quantile([lower, upper])\n",
    "        df[c] = df[c].clip(lo, hi)\n",
    "    return df\n",
    "\n",
    "cont = ['age','sofa','comorbidity_index']\n",
    "cat  = ['sex']\n",
    "df = median_impute(df, cont)\n",
    "df = mode_impute(df, cat)\n",
    "df = winsorize(df, cont)\n",
    "df[cont+cat].describe(include='all')\n"
   ]
  },
  {
   "cell_type": "markdown",
   "id": "e9eda48c",
   "metadata": {},
   "source": [
    "## 3) 倾向评分（PS）估计 + 诊断"
   ]
  },
  {
   "cell_type": "code",
   "execution_count": null,
   "id": "df251c6b",
   "metadata": {},
   "outputs": [],
   "source": [
    "from sklearn.linear_model import LogisticRegression\n",
    "from sklearn.metrics import roc_auc_score\n",
    "import matplotlib.pyplot as plt\n",
    "\n",
    "X = df[['age','sex','sofa','comorbidity_index']]\n",
    "T = df['vasopressor'].values\n",
    "Y = df['mortality_28d'].values\n",
    "\n",
    "logit = LogisticRegression(max_iter=2000)\n",
    "logit.fit(X, T)\n",
    "ps = logit.predict_proba(X)[:,1]\n",
    "df['ps'] = ps\n",
    "\n",
    "print('PS model AUC:', round(roc_auc_score(T, ps), 3))\n",
    "\n",
    "plt.figure()\n",
    "plt.hist(ps[T==1], bins=40, alpha=0.6, label='Treated', density=True)\n",
    "plt.hist(ps[T==0], bins=40, alpha=0.6, label='Control', density=True)\n",
    "plt.xlabel('Propensity Score')\n",
    "plt.ylabel('Density')\n",
    "plt.title('PS Distributions (Before Matching)')\n",
    "plt.legend()\n",
    "plt.show()\n"
   ]
  },
  {
   "cell_type": "markdown",
   "id": "de08e805",
   "metadata": {},
   "source": [
    "## 4) PSM：1:1 最近邻匹配（卡尺可选）+ 组间效果估计"
   ]
  },
  {
   "cell_type": "code",
   "execution_count": null,
   "id": "501188cf",
   "metadata": {},
   "outputs": [],
   "source": [
    "from sklearn.neighbors import NearestNeighbors\n",
    "import numpy as np\n",
    "\n",
    "treated = df[df.vasopressor==1].copy()\n",
    "control = df[df.vasopressor==0].copy()\n",
    "\n",
    "nn = NearestNeighbors(n_neighbors=1)\n",
    "nn.fit(control[['ps']])\n",
    "dist, idx = nn.kneighbors(treated[['ps']])\n",
    "matched_control = control.iloc[idx.flatten()].copy().reset_index(drop=True)\n",
    "matched_treated = treated.reset_index(drop=True)\n",
    "\n",
    "caliper = 0.05\n",
    "mask = (np.abs(matched_treated['ps'] - matched_control['ps']) <= caliper)\n",
    "matched_treated = matched_treated[mask].reset_index(drop=True)\n",
    "matched_control = matched_control[mask].reset_index(drop=True)\n",
    "\n",
    "print('Matched pairs:', len(matched_treated))\n",
    "\n",
    "plt.figure()\n",
    "plt.hist(matched_treated['ps'], bins=30, alpha=0.6, label='Treated', density=True)\n",
    "plt.hist(matched_control['ps'], bins=30, alpha=0.6, label='Control', density=True)\n",
    "plt.xlabel('Propensity Score')\n",
    "plt.ylabel('Density')\n",
    "plt.title('PS Distributions (After Matching)')\n",
    "plt.legend()\n",
    "plt.show()\n",
    "\n",
    "risk_t = matched_treated['mortality_28d'].mean()\n",
    "risk_c = matched_control['mortality_28d'].mean()\n",
    "rd = risk_t - risk_c\n",
    "rr = risk_t / risk_c if risk_c>0 else np.nan\n",
    "print('PSM Risk (T,C):', round(risk_t,3), round(risk_c,3))\n",
    "print('PSM Risk Difference:', round(rd,3))\n",
    "print('PSM Risk Ratio:', round(rr,3))\n"
   ]
  },
  {
   "cell_type": "markdown",
   "id": "819ad168",
   "metadata": {},
   "source": [
    "## 5) IPTW：稳定化权重 + 加权风险估计"
   ]
  },
  {
   "cell_type": "code",
   "execution_count": null,
   "id": "f7ca8295",
   "metadata": {},
   "outputs": [],
   "source": [
    "p_treat = T.mean()\n",
    "sw = np.where(T==1, p_treat/ps, (1-p_treat)/(1-ps))\n",
    "df['weight_sw'] = sw\n",
    "\n",
    "wt_mean_T = np.average(df.loc[T==1, 'mortality_28d'], weights=df.loc[T==1,'weight_sw'])\n",
    "wt_mean_C = np.average(df.loc[T==0, 'mortality_28d'], weights=df.loc[T==0,'weight_sw'])\n",
    "print('IPTW weighted risk (T,C):', round(wt_mean_T,3), round(wt_mean_C,3))\n",
    "print('IPTW Risk Difference:', round(wt_mean_T - wt_mean_C, 3))\n"
   ]
  },
  {
   "cell_type": "markdown",
   "id": "a346952b",
   "metadata": {},
   "source": [
    "## 6) 平衡性诊断（SMD）：匹配前/后、IPTW 后"
   ]
  },
  {
   "cell_type": "code",
   "execution_count": null,
   "id": "5f05357a",
   "metadata": {},
   "outputs": [],
   "source": [
    "def smd(x_t, x_c):\n",
    "    m_t, m_c = np.mean(x_t), np.mean(x_c)\n",
    "    s_t, s_c = np.std(x_t, ddof=1), np.std(x_c, ddof=1)\n",
    "    s_p = np.sqrt((s_t**2 + s_c**2)/2)\n",
    "    return (m_t - m_c)/s_p if s_p>0 else 0.0\n",
    "\n",
    "def smd_weighted(x, t, w):\n",
    "    xt, xc = x[t==1], x[t==0]\n",
    "    wt, wc = w[t==1], w[t==0]\n",
    "    m_t = np.average(xt, weights=wt)\n",
    "    m_c = np.average(xc, weights=wc)\n",
    "    s_t = np.sqrt(np.average((xt-m_t)**2, weights=wt))\n",
    "    s_c = np.sqrt(np.average((xc-m_c)**2, weights=wc))\n",
    "    s_p = np.sqrt((s_t**2 + s_c**2)/2)\n",
    "    return (m_t - m_c)/s_p if s_p>0 else 0.0\n",
    "\n",
    "covs = ['age','sex','sofa','comorbidity_index']\n",
    "print('SMD (Before Matching):')\n",
    "for c in covs:\n",
    "    print(f'  {c}:', round(smd(df.loc[T==1, c], df.loc[T==0, c]), 3))\n",
    "\n",
    "print('\\nSMD (After PSM Matching):')\n",
    "for c in covs:\n",
    "    print(f'  {c}:', round(smd(matched_treated[c], matched_control[c]), 3))\n",
    "\n",
    "print('\\nSMD (After IPTW):')\n",
    "for c in covs:\n",
    "    print(f'  {c}:', round(smd_weighted(df[c].values, T, df['weight_sw'].values), 3))\n"
   ]
  }
 ],
 "metadata": {},
 "nbformat": 4,
 "nbformat_minor": 5
}
