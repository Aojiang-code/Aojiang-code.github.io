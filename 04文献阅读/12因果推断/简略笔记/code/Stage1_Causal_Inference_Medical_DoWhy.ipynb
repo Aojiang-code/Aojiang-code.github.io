{
  "cells": [
    {
      "cell_type": "markdown",
      "metadata": {},
      "source": [
        "# 🩺 Stage 1 — 医学因果推断入门（可运行 Notebook，Python + DoWhy）\n",
        "\n",
        "本 Notebook 目标：\n",
        "1. 用一个医疗化的玩具数据完成**从因果图到 ATE 估计**的完整流程。\n",
        "2. 用 DoWhy 跑通**识别 → 估计 → 反驳/敏感性分析**的标准管线。\n",
        "3. 顺带给出**PS 估计 + IPTW 的平衡性检查**代码模板，方便迁移到医学数据（MIMIC/SEER 等）。\n",
        "\n",
        "**你需要先安装：**\n",
        "```bash\n",
        "pip install pandas numpy matplotlib scikit-learn statsmodels dowhy econml causalml\n",
        "```\n",
        "\n",
        "---\n",
        "## 目录\n",
        "1. 环境与数据加载（DoWhy 内置模拟医疗数据）\n",
        "2. 因果图（DAG）构建与可识别性检查\n",
        "3. ATE/CATE 估计（多方法对比：线性回归、PSM、分层、IPTW）\n",
        "4. 反驳与敏感性分析（Random CC / Placebo / Subset）\n",
        "5. PS + IPTW 的协变量平衡性（SMD）诊断\n",
        "6. 临床解释与下一步（迁移到真实医学数据）\n"
      ]
    },
    {
      "cell_type": "code",
      "execution_count": null,
      "metadata": {},
      "outputs": [],
      "source": [
        "# === 1. 环境与数据加载 ===\n",
        "import numpy as np\n",
        "import pandas as pd\n",
        "import matplotlib.pyplot as plt\n",
        "from sklearn.linear_model import LogisticRegression\n",
        "from sklearn.preprocessing import StandardScaler\n",
        "from sklearn.pipeline import make_pipeline\n",
        "from sklearn.metrics import roc_auc_score\n",
        "\n",
        "import dowhy\n",
        "from dowhy import CausalModel\n",
        "from dowhy import datasets as dy_datasets\n",
        "\n",
        "np.random.seed(42)\n",
        "print({\n",
        "    'numpy': np.__version__,\n",
        "    'pandas': pd.__version__,\n",
        "    'matplotlib': plt.matplotlib.__version__,\n",
        "    'dowhy': dowhy.__version__\n",
        "})\n",
        "\n",
        "# 使用 DoWhy 构造一个“医学味道”的模拟数据集：\n",
        "# treatment: 是否接受某药物（1/0）\n",
        "# outcome y: 连续型结局，例如住院天数减少量（或某生理指标改善值）\n",
        "# v0...v4: 基线协变量（年龄、合并症评分等混杂）\n",
        "# z0: 工具变量（类似地理/制度差异带来的处置概率差异）\n",
        "data = dy_datasets.linear_dataset(\n",
        "    beta=8,\n",
        "    num_common_causes=5,\n",
        "    num_instruments=1,\n",
        "    num_samples=1500,\n",
        "    treatment_is_binary=True,\n",
        ")\n",
        "df = data['df'].copy()\n",
        "treatment = data['treatment_name']\n",
        "outcome = data['outcome_name']\n",
        "common_causes = data['common_causes_names']\n",
        "instruments = data['instrument_names']\n",
        "print('Columns:', df.columns.tolist())\n",
        "df.head()"
      ]
    },
    {
      "cell_type": "code",
      "execution_count": null,
      "metadata": {},
      "outputs": [],
      "source": [
        "# 小型 EDA：缺失、分布、基线差异\n",
        "print('Shape:', df.shape)\n",
        "print('Missing counts:\\n', df.isnull().sum())\n",
        "\n",
        "fig, ax = plt.subplots()\n",
        "ax.hist(df[outcome], bins=30)\n",
        "ax.set_title('Outcome distribution')\n",
        "ax.set_xlabel(outcome)\n",
        "ax.set_ylabel('Count')\n",
        "plt.show()\n",
        "\n",
        "fig, ax = plt.subplots()\n",
        "ax.boxplot([df.loc[df[treatment]==0, outcome], df.loc[df[treatment]==1, outcome]], labels=['control','treated'])\n",
        "ax.set_title('Outcome by treatment group')\n",
        "plt.show()\n"
      ]
    },
    {
      "cell_type": "markdown",
      "metadata": {},
      "source": [
        "## 2. 因果图（DAG）与识别\n",
        "我们基于领域知识（此处为教学示范）构造 DAG：混杂变量 $v0\\dots v4$ 影响治疗与结局；工具变量 $z0$ 影响治疗但不直接影响结局。"
      ]
    },
    {
      "cell_type": "code",
      "execution_count": null,
      "metadata": {},
      "outputs": [],
      "source": [
        "# 构造因果模型\n",
        "model = CausalModel(\n",
        "    data=df,\n",
        "    treatment=treatment,\n",
        "    outcome=outcome,\n",
        "    common_causes=common_causes,\n",
        "    instruments=instruments,\n",
        ")\n",
        "identified_estimand = model.identify_effect(proceed_when_unidentifiable=True)\n",
        "print(identified_estimand)"
      ]
    },
    {
      "cell_type": "markdown",
      "metadata": {},
      "source": [
        "## 3. ATE 估计（多方法对比）\n",
        "我们用四种常见方法估计平均处理效应（ATE）：\n",
        "1. 线性回归（控制混杂）\n",
        "2. 倾向评分匹配（PSM）\n",
        "3. 倾向评分分层（Stratification）\n",
        "4. 倾向评分加权（IPTW）"
      ]
    },
    {
      "cell_type": "code",
      "execution_count": null,
      "metadata": {},
      "outputs": [],
      "source": [
        "est_lr = model.estimate_effect(\n",
        "    identified_estimand,\n",
        "    method_name='backdoor.linear_regression',\n",
        ")\n",
        "print('ATE (Linear Regression):', est_lr.value)\n",
        "\n",
        "est_psm = model.estimate_effect(\n",
        "    identified_estimand,\n",
        "    method_name='backdoor.propensity_score_matching',\n",
        ")\n",
        "print('ATE (PSM):', est_psm.value)\n",
        "\n",
        "est_strat = model.estimate_effect(\n",
        "    identified_estimand,\n",
        "    method_name='backdoor.propensity_score_stratification',\n",
        ")\n",
        "print('ATE (Stratification):', est_strat.value)\n",
        "\n",
        "est_iptw = model.estimate_effect(\n",
        "    identified_estimand,\n",
        "    method_name='backdoor.propensity_score_weighting',\n",
        ")\n",
        "print('ATE (IPTW):', est_iptw.value)"
      ]
    },
    {
      "cell_type": "markdown",
      "metadata": {},
      "source": [
        "## 4. 反驳与敏感性分析（Refutations）\n",
        "用 DoWhy 内置 refuters 做三种快速稳健性检查：\n",
        "- **Random Common Cause**：加入一个随机“混杂”，看估计是否稳定；\n",
        "- **Placebo Treatment**：把处理变量打乱，看是否出现伪效应；\n",
        "- **Subset Refuter**：随机抽样数据子集，看效应是否稳健。"
      ]
    },
    {
      "cell_type": "code",
      "execution_count": null,
      "metadata": {},
      "outputs": [],
      "source": [
        "ref_random_cc = model.refute_estimate(identified_estimand, est_iptw, method_name='random_common_cause')\n",
        "print(ref_random_cc)\n",
        "\n",
        "ref_placebo = model.refute_estimate(identified_estimand, est_iptw, method_name='placebo_treatment_refuter')\n",
        "print(ref_placebo)\n",
        "\n",
        "ref_subset = model.refute_estimate(identified_estimand, est_iptw, method_name='data_subset_refuter')\n",
        "print(ref_subset)"
      ]
    },
    {
      "cell_type": "markdown",
      "metadata": {},
      "source": [
        "## 5. 协变量平衡性诊断（SMD）\n",
        "虽然 DoWhy 会封装 PS 与权重，但日常医学研究里我们通常**单独计算 PS 与 IPTW**，并对**平衡性**做图/表检查。下面给出一个**可直接复用**的模板："
      ]
    },
    {
      "cell_type": "code",
      "execution_count": null,
      "metadata": {},
      "outputs": [],
      "source": [
        "def standardized_mean_difference(x_t, x_c):\n",
        "    m_t, m_c = np.mean(x_t), np.mean(x_c)\n",
        "    s_t, s_c = np.var(x_t, ddof=1), np.var(x_c, ddof=1)\n",
        "    s_p = np.sqrt((s_t + s_c) / 2)\n",
        "    return (m_t - m_c) / s_p if s_p > 0 else 0.0\n",
        "\n",
        "X = df[common_causes].values\n",
        "T = df[treatment].values\n",
        "\n",
        "# 逻辑回归估计 PS\n",
        "ps_model = make_pipeline(StandardScaler(with_mean=False), LogisticRegression(max_iter=200))\n",
        "ps_model.fit(df[common_causes], T)\n",
        "ps = ps_model.predict_proba(df[common_causes])[:,1]\n",
        "print('PS ROC-AUC (sanity check):', roc_auc_score(T, ps))\n",
        "\n",
        "# IPTW 权重（稳定化）\n",
        "p_t = T.mean()\n",
        "w = np.where(T==1, p_t/ps, (1-p_t)/(1-ps))\n",
        "\n",
        "# 计算权重前后 SMD\n",
        "smd_before = {}\n",
        "smd_after = {}\n",
        "for col in common_causes:\n",
        "    x_t = df.loc[T==1, col].values\n",
        "    x_c = df.loc[T==0, col].values\n",
        "    smd_before[col] = standardized_mean_difference(x_t, x_c)\n",
        "\n",
        "    # 加权均值/方差（用简单实现近似）\n",
        "    wt_t = w[T==1]\n",
        "    wt_c = w[T==0]\n",
        "    xt = df.loc[T==1, col].values\n",
        "    xc = df.loc[T==0, col].values\n",
        "    m_t = np.average(xt, weights=wt_t)\n",
        "    m_c = np.average(xc, weights=wt_c)\n",
        "    v_t = np.average((xt-m_t)**2, weights=wt_t)\n",
        "    v_c = np.average((xc-m_c)**2, weights=wt_c)\n",
        "    s_p = np.sqrt((v_t + v_c)/2)\n",
        "    smd_after[col] = (m_t - m_c) / s_p if s_p > 0 else 0.0\n",
        "\n",
        "smd_df = pd.DataFrame({'SMD_before': smd_before, 'SMD_after_IPTW': smd_after})\n",
        "smd_df"
      ]
    },
    {
      "cell_type": "code",
      "execution_count": null,
      "metadata": {},
      "outputs": [],
      "source": [
        "fig, ax = plt.subplots()\n",
        "ax.scatter(range(len(smd_df)), smd_df['SMD_before'].values, label='Before')\n",
        "ax.scatter(range(len(smd_df)), smd_df['SMD_after_IPTW'].values, label='After')\n",
        "ax.axhline(0.1, linestyle='--')\n",
        "ax.axhline(-0.1, linestyle='--')\n",
        "ax.set_xticks(range(len(smd_df)))\n",
        "ax.set_xticklabels(smd_df.index, rotation=45, ha='right')\n",
        "ax.set_ylabel('Standardized Mean Difference')\n",
        "ax.set_title('Covariate Balance Before/After IPTW')\n",
        "ax.legend()\n",
        "plt.tight_layout()\n",
        "plt.show()"
      ]
    },
    {
      "cell_type": "markdown",
      "metadata": {},
      "source": [
        "## 6. 临床解释与下一步\n",
        "- **效应量（ATE）**：建议报告估计值 + 95% 置信区间，并比较多方法结果的一致性。\n",
        "- **平衡性**：SMD \n",
        "  - 常用阈值：|SMD| < 0.1 视为平衡良好；0.1~0.2 需谨慎；>0.2 需要进一步处理（重新建模/非线性 PS）。\n",
        "- **迁移到真实数据**：\n",
        "  1) 用 MIMIC/SEER 选取明确的**治疗**与**结局**；\n",
        "  2) 依据临床知识画 DAG，选“最小充分调整集”；\n",
        "  3) 重复本流程，并做好**缺失值处理**与**敏感性分析**（未测混杂）。\n",
        "\n",
        "➡️ 下一步我可以提供一个 **MIMIC-IV 子集 + ICU 药物对 28 天死亡率的因果推断** Notebook 模板，包含生存分析（IPTW + Cox）。"
      ]
    }
  ],
  "metadata": {
    "kernelspec": {
      "display_name": "Python 3",
      "language": "python",
      "name": "python3"
    },
    "language_info": {
      "name": "python",
      "version": "3.10"
    }
  },
  "nbformat": 4,
  "nbformat_minor": 5
}