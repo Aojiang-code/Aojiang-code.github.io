{
 "cells": [
  {
   "cell_type": "markdown",
   "id": "d62510a0",
   "metadata": {},
   "source": [
    "# 3.2 SEER 生存因果分析：IPTW + Cox 回归 + Kaplan-Meier（模板）\n",
    "\n",
    "本 Notebook 提供 **SEER/癌症队列** 的生存因果分析范式：\n",
    "1) 倾向评分 → 稳定化 IPTW；2) **加权 CoxPH**（估计 HR）；3) **加权 KM 曲线**；\n",
    "4) PH 假设/敏感性检查要点。\n",
    "\n",
    "> ⚠️ 默认会先生成一个**可运行的生存模拟数据**；替换为你的 SEER 提取数据即可。"
   ]
  },
  {
   "cell_type": "markdown",
   "id": "817518be",
   "metadata": {},
   "source": [
    "## 0. 环境依赖（如已安装可跳过）\n",
    "\n",
    "```bash\n",
    "pip install -U pandas numpy scikit-learn lifelines matplotlib\n",
    "```"
   ]
  },
  {
   "cell_type": "code",
   "execution_count": null,
   "id": "6f2d47f8",
   "metadata": {},
   "outputs": [],
   "source": [
    "# 1) 读取或模拟生存数据：列需包含 ['time','event','treatment', 协变量...]\n",
    "import os\n",
    "import numpy as np\n",
    "import pandas as pd\n",
    "\n",
    "CSV_PATH = ''  # <- 可改为你的 SEER 提取结果，如 'seer_chemo_survival.csv'\n",
    "\n",
    "def make_synthetic_seer(n=4000, seed=11):\n",
    "    rng = np.random.default_rng(seed)\n",
    "    age = rng.integers(30, 90, n)\n",
    "    stage = rng.integers(1, 5, n)  # 1-4 期\n",
    "    sex = rng.integers(0, 2, n)\n",
    "    p_t = 1/(1+np.exp(-( -2 + 0.02*age + 0.6*(stage>=3) )))\n",
    "    t = rng.binomial(1, p_t)\n",
    "    linpred = -5 + 0.03*age + 0.8*(stage>=3) - 0.3*t\n",
    "    rate = np.exp(linpred)\n",
    "    time = rng.exponential(1/rate)\n",
    "    censor = rng.exponential(1/np.exp(-3), size=n)\n",
    "    event = (time <= censor).astype(int)\n",
    "    obs_time = np.minimum(time, censor)\n",
    "    df = pd.DataFrame({\n",
    "        'time': obs_time,\n",
    "        'event': event,\n",
    "        'treatment': t,\n",
    "        'age': age,\n",
    "        'stage': stage,\n",
    "        'sex': sex\n",
    "    })\n",
    "    miss_idx = rng.choice(n, size=int(0.03*n), replace=False)\n",
    "    df.loc[miss_idx, 'stage'] = np.nan\n",
    "    return df\n",
    "\n",
    "if CSV_PATH and os.path.exists(CSV_PATH):\n",
    "    df = pd.read_csv(CSV_PATH)\n",
    "else:\n",
    "    df = make_synthetic_seer()\n",
    "\n",
    "df.head()\n"
   ]
  },
  {
   "cell_type": "markdown",
   "id": "67059584",
   "metadata": {},
   "source": [
    "## 2) 清洗：缺失/极端值 + 类别处理"
   ]
  },
  {
   "cell_type": "code",
   "execution_count": null,
   "id": "165971ae",
   "metadata": {},
   "outputs": [],
   "source": [
    "def median_impute(df, cols):\n",
    "    for c in cols:\n",
    "        df[c] = df[c].fillna(df[c].median())\n",
    "    return df\n",
    "\n",
    "cont = ['age','stage']\n",
    "df = median_impute(df, cont)\n",
    "df[cont].describe()\n"
   ]
  },
  {
   "cell_type": "markdown",
   "id": "adc05027",
   "metadata": {},
   "source": [
    "## 3) 倾向评分 + 稳定化 IPTW"
   ]
  },
  {
   "cell_type": "code",
   "execution_count": null,
   "id": "399617e0",
   "metadata": {},
   "outputs": [],
   "source": [
    "from sklearn.linear_model import LogisticRegression\n",
    "\n",
    "X = df[['age','stage','sex']]\n",
    "T = df['treatment'].values\n",
    "\n",
    "logit = LogisticRegression(max_iter=2000)\n",
    "logit.fit(X, T)\n",
    "ps = logit.predict_proba(X)[:,1]\n",
    "df['ps'] = ps\n",
    "\n",
    "p_treat = T.mean()\n",
    "df['weight_sw'] = np.where(T==1, p_treat/ps, (1-p_treat)/(1-ps))\n",
    "df[['ps','weight_sw']].head()\n"
   ]
  },
  {
   "cell_type": "markdown",
   "id": "5b005708",
   "metadata": {},
   "source": [
    "## 4) 加权 CoxPH 回归（lifelines） + 结果摘要"
   ]
  },
  {
   "cell_type": "code",
   "execution_count": null,
   "id": "29f565b3",
   "metadata": {},
   "outputs": [],
   "source": [
    "from lifelines import CoxPHFitter\n",
    "\n",
    "cph = CoxPHFitter()\n",
    "fit_df = df[['time','event','treatment','age','stage','sex','weight_sw']].copy()\n",
    "cph.fit(fit_df, duration_col='time', event_col='event', weights_col='weight_sw')\n",
    "cph.print_summary()\n"
   ]
  },
  {
   "cell_type": "markdown",
   "id": "79e74478",
   "metadata": {},
   "source": [
    "## 5) 加权 Kaplan-Meier 曲线：treatment=0 vs 1"
   ]
  },
  {
   "cell_type": "code",
   "execution_count": null,
   "id": "a9a22475",
   "metadata": {},
   "outputs": [],
   "source": [
    "from lifelines import KaplanMeierFitter\n",
    "import matplotlib.pyplot as plt\n",
    "\n",
    "kmf = KaplanMeierFitter()\n",
    "for t in [0,1]:\n",
    "    mask = df['treatment']==t\n",
    "    plt.figure()\n",
    "    kmf.fit(df.loc[mask,'time'], df.loc[mask,'event'], weights=df.loc[mask,'weight_sw'], label=f'treatment={t}')\n",
    "    kmf.plot_survival_function()\n",
    "    plt.title(f'Weighted KM: treatment={t}')\n",
    "    plt.xlabel('Time')\n",
    "    plt.ylabel('Survival probability')\n",
    "    plt.show()\n"
   ]
  },
  {
   "cell_type": "markdown",
   "id": "bf20623e",
   "metadata": {},
   "source": [
    "## 6) 平衡性（SMD）与敏感性要点\n",
    "- 计算 IPTW 后的协变量 **SMD**（应显著下降）；\n",
    "- 考察权重的极端值（可截尾，如 1st–99th 百分位）；\n",
    "- 检查 CoxPH 的 **PH 假设**（`lifelines` 提供检验/残差图）；\n",
    "- 生存数据若存在**时间依赖治疗或中介**，考虑 MSM/g-methods。"
   ]
  }
 ],
 "metadata": {},
 "nbformat": 4,
 "nbformat_minor": 5
}
