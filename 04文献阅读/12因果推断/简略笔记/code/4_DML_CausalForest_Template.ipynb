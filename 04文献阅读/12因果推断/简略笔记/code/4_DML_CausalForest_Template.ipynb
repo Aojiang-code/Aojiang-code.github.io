{
 "cells": [
  {
   "cell_type": "markdown",
   "id": "3ee28051",
   "metadata": {},
   "source": [
    "# 4.x 高维因果推断模板：Double ML + 因果森林（可运行示例）\n",
    "\n",
    "本 Notebook 提供**最小可运行模板**：\n",
    "- **Double Machine Learning (DML)**：适合高维数据（L1/L2 正则 + 交叉拟合）\n",
    "- **Causal Forest**：捕捉异质性治疗效应（CATE/ITE）\n",
    "\n",
    "> 默认用**可运行的高维模拟数据**演示完整流程；把数据替换为你的医学数据即可（如 EHR/组学）。"
   ]
  },
  {
   "cell_type": "markdown",
   "id": "a667fe89",
   "metadata": {},
   "source": [
    "## 0. 环境准备（如已安装可跳过）\n",
    "\n",
    "```bash\n",
    "pip install -U numpy pandas scikit-learn matplotlib econml\n",
    "# （可选）若你想用 causalml 的因果森林：\n",
    "pip install -U causalml\n",
    "```\n",
    "> 说明：本模板使用 **econml** 的 `LinearDML` 与 `CausalForestDML`；如需 `causalml` 版本，请参考文末的可选代码块。"
   ]
  },
  {
   "cell_type": "markdown",
   "id": "bc3a1afc",
   "metadata": {},
   "source": [
    "## 1. 生成/载入数据（高维场景）\n",
    "我们构造一个**高维有混杂且存在异质性**的二元处理示例：\n",
    "$T = \\mathbb{1}(g(X) + \\epsilon > 0)$；$Y = f(X) + \\tau(X)\\,T + \\eta$，其中 $\\tau(X)$ 随部分特征而变。"
   ]
  },
  {
   "cell_type": "code",
   "execution_count": null,
   "id": "98048313",
   "metadata": {},
   "outputs": [],
   "source": [
    "import numpy as np\n",
    "import pandas as pd\n",
    "np.random.seed(2025)\n",
    "\n",
    "def make_highdim_data(n=2000, p=100, rho=0.3):\n",
    "    # 相关协方差矩阵（AR(1)）\n",
    "    Sigma = rho ** np.abs(np.subtract.outer(np.arange(p), np.arange(p)))\n",
    "    X = np.random.multivariate_normal(mean=np.zeros(p), cov=Sigma, size=n)\n",
    "    # 真实影响治疗/结局的少数变量索引\n",
    "    idx_t = np.array([0, 1, 2, 5, 9])\n",
    "    idx_y = np.array([0, 3, 4, 7, 11])\n",
    "    idx_tau = np.array([2, 6, 8])  # 异质性来源\n",
    "\n",
    "    # 治疗赋值（含混杂）\n",
    "    g = 0.6*X[:, idx_t].sum(axis=1)\n",
    "    ps = 1/(1+np.exp(-g))\n",
    "    T = (np.random.rand(n) < ps).astype(int)\n",
    "\n",
    "    # 结局基线项 + 异质性治疗效应 tau(X)\n",
    "    f = 0.5*X[:, idx_y].sum(axis=1)\n",
    "    tau = 1.0 + 0.8*np.tanh(X[:, idx_tau].sum(axis=1))  # 在 [-? , ?] 范围平滑变化\n",
    "    Y = f + tau*T + np.random.normal(0, 1.0, size=n)\n",
    "\n",
    "    cols = [f\"x{i}\" for i in range(p)]\n",
    "    df = pd.DataFrame(X, columns=cols)\n",
    "    df['T'] = T\n",
    "    df['Y'] = Y\n",
    "    return df\n",
    "\n",
    "df = make_highdim_data()\n",
    "df.head()"
   ]
  },
  {
   "cell_type": "markdown",
   "id": "b0c8d9f9",
   "metadata": {},
   "source": [
    "## 2. LASSO（L1）变量选择 + 倾向评分（PS）建模\n",
    "在高维下，先用 **L1** 做稀疏选择，帮助构建稳健的 PS 模型。"
   ]
  },
  {
   "cell_type": "code",
   "execution_count": null,
   "id": "c5ab07ae",
   "metadata": {},
   "outputs": [],
   "source": [
    "from sklearn.linear_model import LogisticRegressionCV\n",
    "from sklearn.model_selection import train_test_split\n",
    "from sklearn.metrics import roc_auc_score\n",
    "import matplotlib.pyplot as plt\n",
    "\n",
    "X = df.drop(columns=['T','Y'])\n",
    "T = df['T'].values\n",
    "Y = df['Y'].values\n",
    "\n",
    "X_train, X_test, T_train, T_test = train_test_split(X, T, test_size=0.3, random_state=42)\n",
    "\n",
    "# L1-Logit 进行变量选择（saga 支持 L1）\n",
    "lasso_logit = LogisticRegressionCV(Cs=10, penalty='l1', solver='saga', cv=5, max_iter=5000, n_jobs=-1)\n",
    "lasso_logit.fit(X_train, T_train)\n",
    "\n",
    "coef = lasso_logit.coef_.ravel()\n",
    "selected = X.columns[coef != 0]\n",
    "print('Selected confounders (non-zero in L1-Logit):', list(selected)[:20], '...')\n",
    "\n",
    "# 用全部特征重拟合 PS，或仅用 selected 再拟合一次（两种策略都常见）\n",
    "ps_model = LogisticRegressionCV(Cs=10, penalty='l2', solver='lbfgs', cv=5, max_iter=5000, n_jobs=-1)\n",
    "ps_model.fit(X, T)\n",
    "ps = ps_model.predict_proba(X)[:,1]\n",
    "\n",
    "print('PS AUC (in-sample):', round(roc_auc_score(T, ps), 3))\n",
    "\n",
    "# PS 分布图（治疗/对照各一张，便于报告复用）\n",
    "plt.figure()\n",
    "plt.hist(ps[T==1], bins=40, alpha=0.7, density=True, label='T=1')\n",
    "plt.xlabel('Propensity Score')\n",
    "plt.ylabel('Density')\n",
    "plt.title('PS Distribution (Treated)')\n",
    "plt.legend()\n",
    "plt.show()\n",
    "\n",
    "plt.figure()\n",
    "plt.hist(ps[T==0], bins=40, alpha=0.7, density=True, label='T=0')\n",
    "plt.xlabel('Propensity Score')\n",
    "plt.ylabel('Density')\n",
    "plt.title('PS Distribution (Control)')\n",
    "plt.legend()\n",
    "plt.show()"
   ]
  },
  {
   "cell_type": "markdown",
   "id": "5538d771",
   "metadata": {},
   "source": [
    "## 3. Double Machine Learning（DML）估计 ATE/CATE\n",
    "使用 **econml** 的 `LinearDML`（离散处理）。"
   ]
  },
  {
   "cell_type": "code",
   "execution_count": null,
   "id": "c856184a",
   "metadata": {},
   "outputs": [],
   "source": [
    "from econml.dml import LinearDML\n",
    "from sklearn.linear_model import LassoCV\n",
    "\n",
    "dml = LinearDML(\n",
    "    model_y=LassoCV(cv=5, n_jobs=-1),\n",
    "    model_t=LogisticRegressionCV(Cs=10, cv=5, max_iter=5000, n_jobs=-1),\n",
    "    discrete_treatment=True,\n",
    "    cv=3,\n",
    "    random_state=42\n",
    ")\n",
    "dml.fit(Y, T, X=X)\n",
    "cate_dml = dml.effect(X)\n",
    "ate_dml = float(np.mean(cate_dml))\n",
    "print('DML ATE (mean CATE):', round(ate_dml, 4))\n",
    "\n",
    "# CATE 分布（单图）\n",
    "import matplotlib.pyplot as plt\n",
    "plt.figure()\n",
    "plt.hist(cate_dml, bins=40)\n",
    "plt.xlabel('Estimated CATE (DML)')\n",
    "plt.ylabel('Count')\n",
    "plt.title('Distribution of CATE (DML)')\n",
    "plt.show()"
   ]
  },
  {
   "cell_type": "markdown",
   "id": "8323b607",
   "metadata": {},
   "source": [
    "## 4. 因果森林（CausalForestDML）估计 CATE\n",
    "使用 **econml** 的 `CausalForestDML`（适合非线性/异质性）。"
   ]
  },
  {
   "cell_type": "code",
   "execution_count": null,
   "id": "b219adcf",
   "metadata": {},
   "outputs": [],
   "source": [
    "from econml.dml import CausalForestDML\n",
    "from sklearn.ensemble import RandomForestRegressor\n",
    "\n",
    "cf = CausalForestDML(\n",
    "    model_t=LogisticRegressionCV(Cs=5, cv=3, max_iter=3000, n_jobs=-1),\n",
    "    model_y=RandomForestRegressor(n_estimators=200, random_state=42, n_jobs=-1),\n",
    "    discrete_treatment=True,\n",
    "    n_estimators=500,\n",
    "    random_state=42\n",
    ")\n",
    "cf.fit(Y, T, X=X)\n",
    "cate_cf = cf.effect(X)\n",
    "ate_cf = float(np.mean(cate_cf))\n",
    "print('CausalForest ATE (mean CATE):', round(ate_cf, 4))\n",
    "\n",
    "plt.figure()\n",
    "plt.hist(cate_cf, bins=40)\n",
    "plt.xlabel('Estimated CATE (CausalForest)')\n",
    "plt.ylabel('Count')\n",
    "plt.title('Distribution of CATE (CausalForest)')\n",
    "plt.show()"
   ]
  },
  {
   "cell_type": "markdown",
   "id": "db344d2f",
   "metadata": {},
   "source": [
    "## 5. 异质性切片：高/低 CATE 亚组对比\n",
    "将个体按 CATE 分位数分组，输出分层平均治疗效应，辅助精准医疗解读。"
   ]
  },
  {
   "cell_type": "code",
   "execution_count": null,
   "id": "65380794",
   "metadata": {},
   "outputs": [],
   "source": [
    "def summarize_by_quantiles(cate, q=(0.1, 0.5, 0.9)):\n",
    "    qs = np.quantile(cate, q)\n",
    "    return {f'Q{int(p*100)}': float(v) for p, v in zip(q, qs)}\n",
    "\n",
    "print('DML CATE quantiles:', summarize_by_quantiles(cate_dml))\n",
    "print('CF  CATE quantiles:', summarize_by_quantiles(cate_cf))\n",
    "\n",
    "# 取上下 20% 分组，估计分层均值（演示用途；实际应进一步做统计检验/误差估计）\n",
    "q_low, q_high = np.quantile(cate_cf, [0.2, 0.8])\n",
    "low_idx  = cate_cf <= q_low\n",
    "high_idx = cate_cf >= q_high\n",
    "print('Mean CATE (CF) - bottom 20%:', round(float(cate_cf[low_idx].mean()), 4))\n",
    "print('Mean CATE (CF) - top    20%:', round(float(cate_cf[high_idx].mean()), 4))"
   ]
  },
  {
   "cell_type": "markdown",
   "id": "c73f7a95",
   "metadata": {},
   "source": [
    "## 6. （可选）IPTW 作为基线对照\n",
    "用前文 PS 构造**稳定化权重**，估计加权风险差/均值差，作为 DML/CF 的 sanity check。"
   ]
  },
  {
   "cell_type": "code",
   "execution_count": null,
   "id": "0261ffd2",
   "metadata": {},
   "outputs": [],
   "source": [
    "p_treat = T.mean()\n",
    "sw = np.where(T==1, p_treat/ps, (1-p_treat)/(1-ps))\n",
    "# 连续结局：加权均值差\n",
    "y_t = np.average(Y[T==1], weights=sw[T==1])\n",
    "y_c = np.average(Y[T==0], weights=sw[T==0])\n",
    "print('IPTW weighted difference (T-C):', round(float(y_t - y_c), 4))"
   ]
  },
  {
   "cell_type": "markdown",
   "id": "30da2605",
   "metadata": {},
   "source": [
    "## 7. （可选）使用 `causalml` 的因果森林\n",
    "如果你更熟悉 `causalml`，可以使用其 `CausalForest`：\n",
    "\n",
    "```python\n",
    "from causalml.inference.tree import CausalForest\n",
    "cf = CausalForest()\n",
    "cf.fit(X=X.values, treatment=T, y=Y)\n",
    "ite = cf.predict(X.values)\n",
    "```\n",
    "> 注意：API 版本可能有细微区别，请以本地 `causalml` 文档为准。"
   ]
  }
 ],
 "metadata": {},
 "nbformat": 4,
 "nbformat_minor": 5
}
