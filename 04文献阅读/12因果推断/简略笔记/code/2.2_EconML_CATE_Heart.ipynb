{
 "cells": [
  {
   "cell_type": "markdown",
   "id": "07cddfe2",
   "metadata": {},
   "source": [
    "# 2.2 EconML：估计 CATE/个体化治疗效果（以 UCI Heart 数据为例）\n",
    "\n",
    "本 Notebook 演示如何用 **EconML** 的 **T-learner**（亦可替换为 X-learner 等）估计个体化治疗效果：\n",
    "1) 加载数据并构造示例治疗/结局/协变量\n",
    "2) 训练 T-learner 并输出每个个体的 CATE\n",
    "3) 可视化 CATE 分布、分位数对比\n",
    "\n",
    "---\n",
    "\n",
    "### 环境准备（如已安装可跳过）\n",
    "```bash\n",
    "pip install -U econml scikit-learn pandas matplotlib numpy\n",
    "```\n",
    "> 说明：此示例仅用于方法演示，变量赋义是“教学假设”。实际研究需依据临床机制构建 DAG/变量。"
   ]
  },
  {
   "cell_type": "code",
   "execution_count": null,
   "id": "c886f16e",
   "metadata": {},
   "outputs": [],
   "source": [
    "# ① 加载 UCI Heart Disease 数据\n",
    "import pandas as pd\n",
    "\n",
    "url = 'https://raw.githubusercontent.com/selva86/datasets/master/Heart.csv'\n",
    "df = pd.read_csv(url)\n",
    "print(df.head())\n",
    "print('\\nColumns:', list(df.columns))\n"
   ]
  },
  {
   "cell_type": "markdown",
   "id": "27abe94e",
   "metadata": {},
   "source": [
    "**教学假设（仅示例）**：\n",
    "\n",
    "- `T`（treatment）= 是否存在心脏病 `AHD`（Yes/No → 1/0）；\n",
    "- `Y`（outcome）= `MaxHR`（最大心率，用作示例结局）；\n",
    "- `X`（协变量）= `Age, Sex, Chol, RestBP` 等基线特征。"
   ]
  },
  {
   "cell_type": "code",
   "execution_count": null,
   "id": "feca315d",
   "metadata": {},
   "outputs": [],
   "source": [
    "# ② 训练 T-learner / 输出 CATE\n",
    "from econml.metalearners import TLearner\n",
    "from sklearn.ensemble import RandomForestRegressor\n",
    "import numpy as np\n",
    "\n",
    "X = df[['Age','Sex','Chol','RestBP']].copy()\n",
    "T = (df['AHD']=='Yes').astype(int).values\n",
    "Y = df['MaxHR'].values\n",
    "\n",
    "t_learner = TLearner(models=RandomForestRegressor())\n",
    "t_learner.fit(Y, T, X=X)\n",
    "cate = t_learner.effect(X)\n",
    "print('前 10 个个体的 CATE：', np.round(cate[:10], 3))\n"
   ]
  },
  {
   "cell_type": "code",
   "execution_count": null,
   "id": "2ca92fb1",
   "metadata": {},
   "outputs": [],
   "source": [
    "# ③ 可视化：CATE 分布 + 分位数描述\n",
    "import matplotlib.pyplot as plt\n",
    "import numpy as np\n",
    "plt.figure()\n",
    "plt.hist(cate, bins=30)\n",
    "plt.xlabel('Estimated CATE')\n",
    "plt.ylabel('Count')\n",
    "plt.title('Distribution of Individual Treatment Effects (CATE)')\n",
    "plt.show()\n",
    "\n",
    "q = np.quantile(cate, [0.1, 0.5, 0.9])\n",
    "print('CATE 分位数 (10%, 50%, 90%):', q)\n"
   ]
  },
  {
   "cell_type": "markdown",
   "id": "fd72103a",
   "metadata": {},
   "source": [
    "**延伸**：\n",
    "- 将 `TLearner` 换成 `XLearner`、`DRLearner`、`CausalForestDML` 等；\n",
    "- 在 `econml` 中加入更多协变量/非线性项，并结合交互做 **异质性治疗效果（HTE）** 分析；\n",
    "- 回到医学场景：明确治疗机制、时间顺序，先画 DAG 再建模。"
   ]
  }
 ],
 "metadata": {},
 "nbformat": 4,
 "nbformat_minor": 5
}
