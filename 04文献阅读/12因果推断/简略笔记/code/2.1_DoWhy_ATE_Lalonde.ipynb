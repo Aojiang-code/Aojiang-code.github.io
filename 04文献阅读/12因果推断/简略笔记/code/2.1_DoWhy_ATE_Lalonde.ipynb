{
 "cells": [
  {
   "cell_type": "markdown",
   "id": "cae87dd8",
   "metadata": {},
   "source": [
    "# 2.1 DoWhy：在 Lalonde 数据上估计 ATE（平均因果效应）\n",
    "\n",
    "本 Notebook 演示用 **DoWhy** 在经典 **Lalonde** 数据集上完成：\n",
    "1) 构建因果模型（DAG / common causes）\n",
    "2) 识别并估计 **ATE**（以 PSM 为例）\n",
    "3) 做简单的稳健性/敏感性检验\n",
    "\n",
    "---\n",
    "\n",
    "### 环境准备（如已安装可跳过）\n",
    "```bash\n",
    "pip install -U dowhy pydot matplotlib pandas scikit-learn\n",
    "```\n",
    "> 注：`model.view_model()` 需要 `graphviz`/`pydot` 支持。"
   ]
  },
  {
   "cell_type": "code",
   "execution_count": null,
   "id": "5a49e2fd",
   "metadata": {},
   "outputs": [],
   "source": [
    "# ① 加载内置 Lalonde 数据集\n",
    "import dowhy.datasets\n",
    "import pandas as pd\n",
    "\n",
    "data = dowhy.datasets.lalonde_binary()\n",
    "df = data['df']\n",
    "print(df.head())\n",
    "print('\\nColumns:', list(df.columns))\n"
   ]
  },
  {
   "cell_type": "markdown",
   "id": "946cae37",
   "metadata": {},
   "source": [
    "**变量说明（常见列）**\n",
    "\n",
    "- `treatment`：是否接受就业培训（0/1）\n",
    "- `re78`：1978 年收入（结果）\n",
    "- 其他：`age, educ, black, hispan, married, nodegree, re74, re75` 作为基线协变量（混杂）"
   ]
  },
  {
   "cell_type": "code",
   "execution_count": null,
   "id": "9e522ad6",
   "metadata": {},
   "outputs": [],
   "source": [
    "# ② 构建因果模型（声明混杂）\n",
    "from dowhy import CausalModel\n",
    "\n",
    "model = CausalModel(\n",
    "    data=df,\n",
    "    treatment='treatment',\n",
    "    outcome='re78',\n",
    "    common_causes=['age','educ','black','hispan','married','nodegree','re74','re75']\n",
    ")\n",
    "\n",
    "identified_estimand = model.identify_effect()\n",
    "print('=== Identified Estimand ===')\n",
    "print(identified_estimand)\n",
    "\n",
    "# 如需可视化 DAG，请取消下行注释（需安装 graphviz/pydot）\n",
    "# model.view_model()"
   ]
  },
  {
   "cell_type": "code",
   "execution_count": null,
   "id": "b233e31d",
   "metadata": {},
   "outputs": [],
   "source": [
    "# ③ 估计 ATE（示例：倾向评分匹配 PSM）\n",
    "estimate_psm = model.estimate_effect(\n",
    "    identified_estimand,\n",
    "    method_name='backdoor.propensity_score_matching'\n",
    ")\n",
    "print('ATE (PSM):', estimate_psm.value)\n"
   ]
  },
  {
   "cell_type": "code",
   "execution_count": null,
   "id": "a9d565d1",
   "metadata": {},
   "outputs": [],
   "source": [
    "# ④ 稳健性/敏感性检验（示例：随机添加共同原因）\n",
    "refute = model.refute_estimate(\n",
    "    identified_estimand,\n",
    "    estimate_psm,\n",
    "    method_name='random_common_cause'\n",
    ")\n",
    "print(refute)"
   ]
  },
  {
   "cell_type": "markdown",
   "id": "556a47f8",
   "metadata": {},
   "source": [
    "---\n",
    "### 附：倾向评分分布可视化（可选）\n",
    "便于检查处理/对照组的重叠性。"
   ]
  },
  {
   "cell_type": "code",
   "execution_count": null,
   "id": "8429c32b",
   "metadata": {},
   "outputs": [],
   "source": [
    "import numpy as np\n",
    "import matplotlib.pyplot as plt\n",
    "from sklearn.linear_model import LogisticRegression\n",
    "\n",
    "# 简单用逻辑回归估计 PS\n",
    "X = df[['age','educ','black','hispan','married','nodegree','re74','re75']]\n",
    "T = df['treatment'].values\n",
    "logit = LogisticRegression(max_iter=1000)\n",
    "logit.fit(X, T)\n",
    "ps = logit.predict_proba(X)[:,1]\n",
    "\n",
    "plt.figure()\n",
    "plt.hist(ps[T==1], bins=30, alpha=0.6, label='Treated', density=True)\n",
    "plt.hist(ps[T==0], bins=30, alpha=0.6, label='Control', density=True)\n",
    "plt.xlabel('Propensity Score')\n",
    "plt.ylabel('Density')\n",
    "plt.title('Propensity Score Distributions (Pre-Matching)')\n",
    "plt.legend()\n",
    "plt.show()\n"
   ]
  }
 ],
 "metadata": {},
 "nbformat": 4,
 "nbformat_minor": 5
}
