{
 "cells": [
  {
   "cell_type": "markdown",
   "metadata": {},
   "source": [
    "## 引言"
   ]
  },
  {
   "cell_type": "markdown",
   "metadata": {},
   "source": [
    "在这次的声音语音识别中，本人很有幸获得了第一名的成绩，但本次赛题之前，我已经正在准备考研，所以我跑的次数不多，可能就几次的样子，emmm。。。能分数这么高的原因，可能是运气比较好，发现了一个trick，另外就是其余几场学习赛积累的经验，因为最近的学习赛都是有跟着datawhale的训练营，也很有幸遇到一些志趣相同的队友，作为一个新人，学会了很多。因为本次赛题我的尝试并不多，在复赛结束后，和一个初赛在第一页但复赛没实名的队友（没仔细看规则的后果，我心跳分类也是同样），深入交流了一波，所以介绍到的很多模型与代码将以他的为主。"
   ]
  },
  {
   "cell_type": "markdown",
   "metadata": {},
   "source": [
    "## 赛题理解"
   ]
  },
  {
   "cell_type": "markdown",
   "metadata": {},
   "source": [
    "### 依赖包导入"
   ]
  },
  {
   "cell_type": "code",
   "execution_count": null,
   "metadata": {},
   "outputs": [],
   "source": [
    "# 基本库\n",
    "import pandas as pd\n",
    "import numpy as np\n",
    "\n",
    "from sklearn.model_selection import train_test_split\n",
    "from sklearn.model_selection import KFold,StratifiedKFold\n",
    "\n",
    "from sklearn.metrics import classification_report\n",
    "from sklearn.model_selection import GridSearchCV\n",
    "from sklearn.model_selection import cross_val_score\n",
    "\n",
    "from sklearn.preprocessing import minmax_scale\n",
    "# 搭建分类模型所需要的库\n",
    "\n",
    "from tensorflow.keras.models import Sequential\n",
    "from tensorflow.keras.layers import Conv2D, Flatten, Dense, MaxPool2D, Dropout, LSTM, BatchNormalization\n",
    "from tensorflow.keras.utils import to_categorical \n",
    "from sklearn.ensemble import RandomForestClassifier\n",
    "from sklearn.svm import SVC\n",
    "import os\n",
    "import librosa\n",
    "import librosa.display\n",
    "import glob \n",
    "from tqdm import tqdm\n",
    "from tensorflow.keras.callbacks import ReduceLROnPlateau\n",
    "from keras import optimizers\n",
    "from keras.wrappers.scikit_learn import KerasClassifier\n",
    "from sklearn.ensemble import VotingClassifier\n",
    "from keras import regularizers\n",
    "\n",
    "from sklearn.utils import class_weight"
   ]
  },
  {
   "cell_type": "markdown",
   "metadata": {},
   "source": [
    "### 数据分析与处理"
   ]
  },
  {
   "cell_type": "code",
   "execution_count": null,
   "metadata": {},
   "outputs": [],
   "source": [
    "feature = []\n",
    "label = []\n",
    "# 建立类别标签，不同类别对应不同的数字。\n",
    "label_dict = {'aloe': 0, 'burger': 1, 'cabbage': 2,'candied_fruits':3, 'carrots': 4, 'chips':5,\n",
    "                  'chocolate': 6, 'drinks': 7, 'fries': 8, 'grapes': 9, 'gummies': 10, 'ice-cream':11,\n",
    "                  'jelly': 12, 'noodles': 13, 'pickles': 14, 'pizza': 15, 'ribs': 16, 'salmon':17,\n",
    "                  'soup': 18, 'wings': 19}\n",
    "label_dict_inv = {v:k for k,v in label_dict.items()}"
   ]
  },
  {
   "cell_type": "code",
   "execution_count": null,
   "metadata": {},
   "outputs": [],
   "source": [
    "new_parent_dir = './soxed_train/'\n",
    "old_parent_dir = './train/'\n",
    "save_dir = \"./\"\n",
    "folds = sub_dirs = np.array(['aloe','burger','cabbage','candied_fruits',\n",
    "                             'carrots','chips','chocolate','drinks','fries',\n",
    "                            'grapes','gummies','ice-cream','jelly','noodles','pickles',\n",
    "                            'pizza','ribs','salmon','soup','wings'])\n",
    "def sox_wavs(new_parent_dir, old_parent_dir, sub_dirs, max_file=1, file_ext=\"*.wav\"):\n",
    "\n",
    "    for sub_dir in sub_dirs:\n",
    "        if not os.path.exists(os.path.join(new_parent_dir, sub_dir)):\n",
    "            os.makedirs(os.path.join(new_parent_dir, sub_dir))\n",
    "        for fn in tqdm(glob.glob(os.path.join(old_parent_dir, sub_dir, file_ext))[:max_file]): # 遍历数据集的所有文件\n",
    "            new_fn = fn.replace(old_parent_dir, new_parent_dir)\n",
    "#             print(f'sox -b 16 -e signed-integer {fn} {new_fn}')\n",
    "            os.system(f'sox -b 16 -e signed-integer {fn} {new_fn}')\n",
    "sox_wavs(new_parent_dir, old_parent_dir, sub_dirs, max_file=10000, file_ext=\"*.wav\")"
   ]
  },
  {
   "cell_type": "code",
   "execution_count": null,
   "metadata": {},
   "outputs": [],
   "source": [
    "#抽取单样特征\n",
    "def extract_mfcc(parent_dir, sub_dirs, max_file=10, file_ext=\"*.wav\"):\n",
    "    label, feature = [], []\n",
    "    for sub_dir in sub_dirs:\n",
    "        for fn in tqdm(glob.glob(os.path.join(parent_dir, sub_dir, file_ext))[:max_file]): # 遍历数据集的所有文件\n",
    "            label_name = fn.split('\\\\')[-2]\n",
    "            label.extend([label_dict[label_name]])\n",
    "            X, sample_rate = librosa.load(fn,res_type='kaiser_fast')\n",
    "            mfcc = librosa.feature.mfcc(y=X, sr=sample_rate, n_mfcc=128).T \n",
    "            feature.append(mfcc)\n",
    "            \n",
    "    return [feature, label]\n",
    "# 获取特征feature以及类别的label\n",
    "\n",
    "# 自己更改目录\n",
    "parent_dir = './clips_rd_sox/'\n",
    "save_dir = \"./\"\n",
    "folds = sub_dirs = np.array(['aloe','burger','cabbage','candied_fruits',\n",
    "                             'carrots','chips','chocolate','drinks','fries',\n",
    "                            'grapes','gummies','ice-cream','jelly','noodles','pickles',\n",
    "                            'pizza','ribs','salmon','soup','wings'])\n",
    "\n",
    "mfcc_128_all,label = extract_mfcc(parent_dir,sub_dirs,max_file=1000)"
   ]
  },
  {
   "cell_type": "markdown",
   "metadata": {},
   "source": [
    "不论是选用梅尔频谱还是梅尔倒谱，对于整体来讲，分数都是有所提升的，而这里选用的128过滤器，相比于baseline中的20，效果更好了，而在这之前的sox是linux中用于规整频率的一种工具，可能对于音频研究者来讲，会比较熟悉。"
   ]
  },
  {
   "cell_type": "markdown",
   "metadata": {},
   "source": [
    "如果说按原始数据来走，上述应该是正常流程，但LSTM的baseline中给出了规整好的数据，我对比之下发现好像那份数据做了一定的增广，于是我就直接沿用了数据，这应该算trick？emmm，所以这是我提前退休的原因。"
   ]
  },
  {
   "cell_type": "markdown",
   "metadata": {},
   "source": [
    "## 模型构建"
   ]
  },
  {
   "cell_type": "markdown",
   "metadata": {},
   "source": [
    "### CNN"
   ]
  },
  {
   "cell_type": "code",
   "execution_count": null,
   "metadata": {},
   "outputs": [],
   "source": [
    "nfold = 5\n",
    "kf = KFold(n_splits=nfold, shuffle=True, random_state=2020)\n",
    "prediction1 = np.zeros((2000,20 ))\n",
    "# print(prediction1.shape)\n",
    "i = 0\n",
    "for train_index, valid_index in kf.split(X, Y):\n",
    "    print(\"\\nFold {}\".format(i + 1))\n",
    "    train_x, val_x = X[train_index],X[valid_index]\n",
    "    train_y, val_y = Y[train_index],Y[valid_index]\n",
    "    train_x = train_x.reshape(-1, 16, 8, 1)\n",
    "    val_x = val_x.reshape(-1, 16, 8, 1)\n",
    "    # print(train_x.shape)\n",
    "    # print(val_x.shape)\n",
    "    train_y = to_categorical(train_y)\n",
    "    val_y = to_categorical(val_y)\n",
    "    # print(train_y.shape)\n",
    "    # print(val_y.shape)\n",
    "    model = Sequential()\n",
    "    model.add(Convolution2D(64, (5, 5),padding = \"same\", input_shape=input_dim, activation='relu'))\n",
    "    model.add(MaxPooling2D(pool_size=(2, 2)))\n",
    "    model.add(Convolution2D(128, (3, 3),padding = \"same\",activation='relu'))\n",
    "    model.add(MaxPooling2D(pool_size=(2, 2)))\n",
    "    model.add(Dropout(0.1))\n",
    "    model.add(Flatten())\n",
    "    model.add(Dense(1024, activation='relu'))\n",
    "    model.add(Dense(100, activation='relu'))\n",
    "    model.add(Dense(20, activation='softmax'))\n",
    "    model.compile(optimizer='Adam',\n",
    "                    loss='categorical_crossentropy',\n",
    "                    metrics=['accuracy'])\n",
    "    model.summary()\n",
    "    history = model.fit(train_x, train_y, epochs = 120, batch_size = 128, validation_data = (val_x, val_y))\n",
    "    # X_test = np.vstack(X_test)\n",
    "    predictions = model.predict(X_test.reshape(-1, 16, 8, 1))\n",
    "    print(predictions.shape)\n",
    "    prediction1 += ((predictions)) / nfold\n",
    "    i += 1"
   ]
  },
  {
   "cell_type": "markdown",
   "metadata": {},
   "source": [
    "如果说前面数据处理用的规整好的数据，那么到这里以五折就能达到我初赛的分数，后面我就没再打了，隔壁心跳分类写的模型也没用了，备战复习数学去了。下面介绍一些其它模型。"
   ]
  },
  {
   "cell_type": "markdown",
   "metadata": {},
   "source": [
    "### DNN"
   ]
  },
  {
   "cell_type": "code",
   "execution_count": null,
   "metadata": {},
   "outputs": [],
   "source": [
    "# 定义模型\n",
    "def built_model():\n",
    "    model_dense = Sequential()\n",
    "\n",
    "    model_dense.add(Dense(128, activation='relu', kernel_regularizer=regularizers.l2(0.005)))\n",
    "    model_dense.add(BatchNormalization())\n",
    "    model_dense.add(Dropout(0.2))\n",
    "    model_dense.add(Dense(256, activation='relu', kernel_regularizer=regularizers.l2(0.005)))\n",
    "    model_dense.add(BatchNormalization())\n",
    "    model_dense.add(Dropout(0.3))\n",
    "    model_dense.add(Dense(512, activation='relu',kernel_regularizer=regularizers.l2(0.005)))\n",
    "    model_dense.add(BatchNormalization())\n",
    "    model_dense.add(Dropout(0.3))\n",
    "    model_dense.add(Dense(256, activation='relu', kernel_regularizer=regularizers.l2(0.001)))\n",
    "    model_dense.add(BatchNormalization())\n",
    "    model_dense.add(Dropout(0.2))\n",
    "    model_dense.add(Dense(20, activation='softmax')) # 输出层：20个units输出20个类的概率\n",
    "    # 编译模型，设置损失函数，优化方法以及评价标准\n",
    "    optimizer = optimizers.Adam(learning_rate=0.001)\n",
    "    model_dense.compile(optimizer = optimizer, loss = 'categorical_crossentropy', metrics = ['accuracy'], )\n",
    "    return model_dense\n",
    "\n",
    "checkpoint = ModelCheckpoint(filepath, monitor='val_accuracy', verbose=1, save_best_only=True, mode='max', period=1)\n",
    "reduce_lr = ReduceLROnPlateau(monitor='val_accuracy', patience=20, mode='auto', factor=0.8 )\n",
    "EarlyStop = EarlyStopping(monitor='val_accuracy', patience=200, verbose=1, mode='max')"
   ]
  },
  {
   "cell_type": "markdown",
   "metadata": {},
   "source": [
    "这里的早停等策略感觉还能设置得更极端点，因为我感觉这数据其实泛化性挺好的。"
   ]
  },
  {
   "cell_type": "markdown",
   "metadata": {},
   "source": [
    "### lightgbm"
   ]
  },
  {
   "cell_type": "code",
   "execution_count": null,
   "metadata": {},
   "outputs": [],
   "source": [
    "def cv_model(clf, train_x, train_y, test_x, clf_name):\n",
    "    folds = 10\n",
    "    seed = 2020\n",
    "    kf = StratifiedKFold(n_splits=folds, shuffle=True, random_state=seed )\n",
    "\n",
    "    train = np.zeros(train_x.shape[0])\n",
    "    test = np.zeros((700,20))\n",
    "    \n",
    "    cv_scores = []\n",
    "    \n",
    "    print(train_y.shape)\n",
    "    for i, (train_index, valid_index) in enumerate(kf.split(train_x, train_y)):\n",
    "        print('************************************ {} ************************************'.format(str(i+1)))\n",
    "        trn_x, trn_y, val_x, val_y = train_x[train_index], train_y[train_index], train_x[valid_index], train_y[valid_index]\n",
    "        \n",
    "        if clf_name == \"lgb\":\n",
    "            \n",
    "            train_matrix = clf.Dataset(trn_x, label=trn_y)\n",
    "            valid_matrix = clf.Dataset(val_x, label=val_y)\n",
    "            \n",
    "            params = {\n",
    "                'boosting_type': 'gbdt',\n",
    "                'objective': 'multiclass',\n",
    "                'metric': 'multi_error',\n",
    "                'min_child_weight': 5,\n",
    "                'num_leaves': 2 ** 4,\n",
    "                'lambda_l2': 13,\n",
    "                'feature_fraction': 0.6,\n",
    "                'bagging_fraction': 0.7,\n",
    "                'bagging_freq': 2,\n",
    "                'learning_rate': 0.1,\n",
    "                'seed': 2020,\n",
    "                'nthread': 24,\n",
    "                'n_jobs':24,\n",
    "                'silent': True,\n",
    "                'verbose': -1,\n",
    "                'num_class':20,\n",
    "            }\n",
    "\n",
    "            model = clf.train(params, train_matrix, 50000, valid_sets=[train_matrix, valid_matrix], verbose_eval=200,early_stopping_rounds=200)\n",
    "            val_pred = model.predict(val_x, num_iteration=model.best_iteration)\n",
    "            test_pred = model.predict(test_x, num_iteration=model.best_iteration)\n",
    "            \n",
    "            # print(list(sorted(zip(features, model.feature_importance(\"gain\")), key=lambda x: x[1], reverse=True))[:20])\n",
    "                    \n",
    "#         train[valid_index] += val_pred\n",
    "#         print(test_pred.shape)\n",
    "        test += test_pred / kf.n_splits\n",
    "#         print(val_pred.shape)\n",
    "        cv_scores.append(accuracy_score(val_y, np.argmax(val_pred, axis=1)))\n",
    "        \n",
    "#         print(cv_scores)\n",
    "        \n",
    "    print(\"%s_scotrainre_list:\" % clf_name, cv_scores)\n",
    "    print(\"%s_score_mean:\" % clf_name, np.mean(cv_scores))\n",
    "    print(\"%s_score_std:\" % clf_name, np.std(cv_scores))\n",
    "    return train, test\n",
    "\n",
    "def lgb_model(x_train, y_train, x_test):\n",
    "    lgb_train, lgb_test = cv_model(lgb, x_train, y_train, x_test, \"lgb\")\n",
    "    return lgb_train, lgb_test"
   ]
  },
  {
   "cell_type": "markdown",
   "metadata": {},
   "source": [
    "## 模型融合"
   ]
  },
  {
   "cell_type": "markdown",
   "metadata": {},
   "source": [
    "根据反馈，lightgbm调调参数能到94左右，而DNN和CNN都有97+的成绩，LSTM的效果看起来不行，可能这数据还是不太具有时序性，以原数据sox后128滤波，两个DNN和一CNN进行vote，能到99+，具体多少分队友没跟我说。整体来看，这题除了语音识别方向领域研究人员比较少，数据层面上区别挺大挺好预测的，这也是我职业生涯中第一次满分，emmm，太意外了。"
   ]
  },
  {
   "cell_type": "code",
   "execution_count": null,
   "metadata": {},
   "outputs": [],
   "source": [
    "# 投票\n",
    "def voting(preds_conv, preds_dense, preds_lstm):\n",
    "    prob_max = np.tile(np.max(preds_conv, axis=1).reshape(-1, 1), preds_conv.shape[1])\n",
    "    preds_c = preds_conv // prob_max\n",
    "    prob_max = np.tile(np.max(preds_dense, axis=1).reshape(-1, 1), preds_dense.shape[1])\n",
    "    preds_d = preds_dense // prob_max\n",
    "    prob_max = np.tile(np.max(preds_lstm, axis=1).reshape(-1, 1), preds_lstm.shape[1])\n",
    "    preds_l = preds_lstm // prob_max\n",
    "    result_voting = preds_c + preds_d + preds_l\n",
    "    preds_voting = np.argmax(result_voting, axis=1)\n",
    "    return preds_voting\n",
    "preds_voting = voting(preds_conv, preds_dense, preds_dense)"
   ]
  },
  {
   "cell_type": "markdown",
   "metadata": {},
   "source": [
    "## 参赛感受"
   ]
  },
  {
   "cell_type": "markdown",
   "metadata": {},
   "source": [
    "很感谢datawhale举办的这些学习赛，让我一个小白能迅速成长，参加过挺多期学习，从最早的几期开始断断续续，每次都能收获良多。大学电气工程毕业后，到现在转行编程干码农也有接近3年了，遇到了很多坎坷，当然也相遇了很多很有意思的人。今年我也准备踏出比较坚定的一步，接受系统性的学习，希望结果成真。"
   ]
  },
  {
   "cell_type": "markdown",
   "metadata": {},
   "source": [
    "## 比赛建议"
   ]
  },
  {
   "cell_type": "code",
   "execution_count": null,
   "metadata": {},
   "outputs": [],
   "source": [
    "我觉得不管是啥比赛，只要不是完全没有头绪以及相关资料，其实都是可以做的，记得今年建筑物识别那个比赛，当时语义分割领域其实我理解实战比较少，但是有搜到很多的资料，我就包括模型都一个个去验证，最终单模到了89+拿了11名给了我很大鼓舞，于是就相继参加了后面的比赛。\n",
    "\n",
    "这个比赛其实当时我都根本没想参加，当时今年规划还没定，还比较闲，然后记得当时同期的我想玩的两个早就满了，我才被迫来了。。。不过不管是任何比赛，只要坚持打下去，总能收获很多，虽然这比赛提前退休了，但不妨碍我的收获，emmm。。。\n",
    "\n",
    "人生有梦，各自精彩。很荣幸能和一群大佬一起打比赛，明年再次相遇，希望还能来一场精彩的对决。"
   ]
  },
  {
   "cell_type": "code",
   "execution_count": null,
   "metadata": {},
   "outputs": [],
   "source": []
  },
  {
   "cell_type": "code",
   "execution_count": null,
   "metadata": {},
   "outputs": [],
   "source": []
  },
  {
   "cell_type": "code",
   "execution_count": null,
   "metadata": {},
   "outputs": [],
   "source": []
  }
 ],
 "metadata": {
  "kernelspec": {
   "display_name": "Python 3 (ipykernel)",
   "language": "python",
   "name": "python3"
  },
  "language_info": {
   "codemirror_mode": {
    "name": "ipython",
    "version": 3
   },
   "file_extension": ".py",
   "mimetype": "text/x-python",
   "name": "python",
   "nbconvert_exporter": "python",
   "pygments_lexer": "ipython3",
   "version": "3.11.5"
  },
  "toc": {
   "base_numbering": 1,
   "nav_menu": {},
   "number_sections": true,
   "sideBar": true,
   "skip_h1_title": false,
   "title_cell": "Table of Contents",
   "title_sidebar": "Contents",
   "toc_cell": false,
   "toc_position": {},
   "toc_section_display": true,
   "toc_window_display": false
  },
  "varInspector": {
   "cols": {
    "lenName": 16,
    "lenType": 16,
    "lenVar": 40
   },
   "kernels_config": {
    "python": {
     "delete_cmd_postfix": "",
     "delete_cmd_prefix": "del ",
     "library": "var_list.py",
     "varRefreshCmd": "print(var_dic_list())"
    },
    "r": {
     "delete_cmd_postfix": ") ",
     "delete_cmd_prefix": "rm(",
     "library": "var_list.r",
     "varRefreshCmd": "cat(var_dic_list()) "
    }
   },
   "types_to_exclude": [
    "module",
    "function",
    "builtin_function_or_method",
    "instance",
    "_Feature"
   ],
   "window_display": false
  }
 },
 "nbformat": 4,
 "nbformat_minor": 4
}
