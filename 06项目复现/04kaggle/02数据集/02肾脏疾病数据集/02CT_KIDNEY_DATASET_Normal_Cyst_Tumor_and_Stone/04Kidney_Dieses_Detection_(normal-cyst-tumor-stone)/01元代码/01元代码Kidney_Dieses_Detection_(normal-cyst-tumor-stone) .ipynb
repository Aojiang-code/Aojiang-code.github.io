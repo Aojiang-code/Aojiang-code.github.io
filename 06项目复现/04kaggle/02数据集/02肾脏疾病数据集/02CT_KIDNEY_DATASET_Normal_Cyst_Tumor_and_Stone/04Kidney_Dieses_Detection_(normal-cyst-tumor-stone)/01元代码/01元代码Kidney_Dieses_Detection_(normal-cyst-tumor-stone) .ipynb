{
 "cells": [
  {
   "cell_type": "markdown",
   "id": "7739a025",
   "metadata": {},
   "source": [
    "# Kidney Dieses Detection (normal-cyst-tumor-stone)"
   ]
  },
  {
   "cell_type": "markdown",
   "id": "a4f0e79d",
   "metadata": {},
   "source": [
    "# Kidney Dieses Classification in 4 classes using 3 different model (VGG, MOBILENET, RESNET)¶"
   ]
  },
  {
   "cell_type": "code",
   "execution_count": null,
   "id": "14bfddee",
   "metadata": {},
   "outputs": [],
   "source": [
    "import pandas as pd\n",
    "import numpy as np\n",
    "import matplotlib.pyplot as plt\n",
    "import cv2\n",
    "import tensorflow as tf\n",
    "import os \n",
    "from tensorflow import keras\n",
    "from tensorflow.keras import layers\n",
    "from tensorflow.python.keras.layers import Dense, Flatten\n",
    "from tensorflow.keras.models import Sequential\n",
    "from tensorflow.keras.optimizers import Adam\n",
    "\n",
    "from tensorflow.keras.layers import Flatten,Dense,Dropout,BatchNormalization\n",
    "from tensorflow.keras.models import Model,Sequential\n",
    "\n",
    "from tensorflow.keras.layers import Conv2D, MaxPooling2D\n",
    "from tensorflow.keras.layers import GlobalAveragePooling2D"
   ]
  },
  {
   "cell_type": "code",
   "execution_count": null,
   "id": "24478e8c",
   "metadata": {},
   "outputs": [],
   "source": [
    "import pandas as pd\n",
    "import numpy as np\n",
    "import matplotlib.pyplot as plt\n",
    "import cv2\n",
    "import tensorflow as tf\n",
    "import os\n",
    "from tensorflow import keras\n",
    "from tensorflow.keras import layers\n",
    "from tensorflow.python.keras.layers import Dense, Flatten\n",
    "from tensorflow.keras.models import Sequential\n",
    "from tensorflow.keras.optimizers import Adam\n",
    "\n",
    "from tensorflow.keras.layers import Flatten, Dense, Dropout, BatchNormalization\n",
    "from tensorflow.keras.models import Model, Sequential\n",
    "\n",
    "from tensorflow.keras.layers import Conv2D, MaxPooling2D\n",
    "from tensorflow.keras.layers import GlobalAveragePooling2D"
   ]
  },
  {
   "cell_type": "code",
   "execution_count": null,
   "id": "90d6d555",
   "metadata": {},
   "outputs": [],
   "source": [
    "batch_size = 32\n",
    "img_height = 224\n",
    "img_width = 224"
   ]
  },
  {
   "cell_type": "code",
   "execution_count": null,
   "id": "9e59a2ce",
   "metadata": {},
   "outputs": [],
   "source": [
    "data_dir='/kaggle/input/ct-kidney-dataset-normal-cyst-tumor-and-stone/CT-KIDNEY-DATASET-Normal-Cyst-Tumor-Stone/CT-KIDNEY-DATASET-Normal-Cyst-Tumor-Stone'\n",
    "\n",
    "train=tf.keras.utils.image_dataset_from_directory(data_dir,image_size=(img_height,img_width),\n",
    "                                                validation_split=0.1,\n",
    "                                                subset='training',seed=123)\n",
    "val=tf.keras.utils.image_dataset_from_directory(data_dir,image_size=(img_height,img_width),\n",
    "                                                validation_split=0.2,\n",
    "                                                subset='validation',seed=123)"
   ]
  },
  {
   "cell_type": "code",
   "execution_count": null,
   "id": "8e7707a9",
   "metadata": {},
   "outputs": [],
   "source": [
    "label_to_class_name = dict(zip(range(len(train.class_names)), train.class_names))\n",
    "label_to_class_name"
   ]
  },
  {
   "cell_type": "code",
   "execution_count": null,
   "id": "197400ec",
   "metadata": {},
   "outputs": [],
   "source": [
    "for image_batch, labels_batch in train:\n",
    "  print(image_batch.shape)\n",
    "  print(labels_batch.shape)\n",
    "  break"
   ]
  },
  {
   "cell_type": "code",
   "execution_count": null,
   "id": "3b2fd1d8",
   "metadata": {},
   "outputs": [],
   "source": [
    "data_iterator = train.as_numpy_iterator()\n",
    "batch = data_iterator.next()\n",
    "fig, ax = plt.subplots(nrows=4, ncols=4, figsize=(10, 10))\n",
    "for i in range(4):  \n",
    "    for j in range(4):  \n",
    "        index = i * 4 + j  \n",
    "        ax[i, j].imshow(batch[0][index].astype(int))\n",
    "        ax[i, j].set_title(label_to_class_name[batch[1][index]])\n",
    "plt.subplots_adjust(wspace=0.4, hspace=0.4)\n",
    "plt.show()"
   ]
  },
  {
   "cell_type": "code",
   "execution_count": null,
   "id": "2a6b5f4d",
   "metadata": {},
   "outputs": [],
   "source": [
    "train=train.map(lambda x,y:(x/255,y))\n",
    "val=val.map(lambda x,y:(x/255,y))"
   ]
  },
  {
   "cell_type": "code",
   "execution_count": null,
   "id": "bd512d46",
   "metadata": {},
   "outputs": [],
   "source": [
    "AUTOTUNE = tf.data.AUTOTUNE\n",
    "\n",
    "train = train.cache().prefetch(buffer_size=AUTOTUNE)\n",
    "val = val.cache().prefetch(buffer_size=AUTOTUNE)"
   ]
  },
  {
   "cell_type": "markdown",
   "id": "ae59c726",
   "metadata": {},
   "source": [
    "## VGG"
   ]
  },
  {
   "cell_type": "code",
   "execution_count": null,
   "id": "52ef268a",
   "metadata": {},
   "outputs": [],
   "source": [
    "VGG_model = Sequential()\n",
    "\n",
    "pretrained_model= tf.keras.applications.VGG16(include_top=False, input_shape=(150,150,3), pooling='max',classes=4, weights='imagenet')\n",
    "\n",
    "\n",
    "VGG_model.add(pretrained_model)\n",
    "VGG_model.add(Flatten())\n",
    "VGG_model.add(Dense(512, activation='relu'))\n",
    "VGG_model.add(BatchNormalization())  # Batch Normalization layer\n",
    "VGG_model.add(Dropout(0.5))\n",
    "\n",
    "VGG_model.add(Dense(4, activation='softmax'))\n",
    "pretrained_model.trainable=False"
   ]
  },
  {
   "cell_type": "code",
   "execution_count": null,
   "id": "78878eb7",
   "metadata": {},
   "outputs": [],
   "source": [
    "VGG_model.compile(optimizer='adam',loss='sparse_categorical_crossentropy',metrics=['accuracy'])"
   ]
  },
  {
   "cell_type": "code",
   "execution_count": null,
   "id": "81789db4",
   "metadata": {},
   "outputs": [],
   "source": [
    "VGG_model.summary()"
   ]
  },
  {
   "cell_type": "code",
   "execution_count": null,
   "id": "63aff86f",
   "metadata": {},
   "outputs": [],
   "source": [
    "epochs=10\n",
    "history = VGG_model.fit(\n",
    "  train,\n",
    "  validation_data=val,\n",
    "  epochs=epochs\n",
    ")"
   ]
  },
  {
   "cell_type": "code",
   "execution_count": null,
   "id": "5a330c69",
   "metadata": {},
   "outputs": [],
   "source": [
    "history_df = pd.DataFrame(history.history)\n",
    "history_df.to_csv('VGG_training.csv', index=False)"
   ]
  },
  {
   "cell_type": "code",
   "execution_count": null,
   "id": "d3b8d508",
   "metadata": {},
   "outputs": [],
   "source": [
    "VGG_model.save('VGG_model.h5')"
   ]
  },
  {
   "cell_type": "code",
   "execution_count": null,
   "id": "9e6b2d51",
   "metadata": {},
   "outputs": [],
   "source": [
    "loss = history.history['loss']\n",
    "val_loss = history.history['val_loss']\n",
    "epochs = range(1, len(loss)+1)\n",
    "plt.plot(epochs, loss, 'b', label='Training loss')\n",
    "plt.plot(epochs, val_loss, 'r', label='Validation loss')\n",
    "plt.title('Training and Validation Loss')\n",
    "plt.xlabel('Epochs')\n",
    "plt.ylabel('Loss')\n",
    "plt.legend()\n",
    "plt.show()"
   ]
  },
  {
   "cell_type": "code",
   "execution_count": null,
   "id": "b9b4b961",
   "metadata": {},
   "outputs": [],
   "source": [
    "acc = history.history['accuracy']\n",
    "val_acc = history.history['val_accuracy']\n",
    "plt.plot(epochs, acc, 'b', label='Training acc')\n",
    "plt.plot(epochs, val_acc, 'r', label='Validation acc')\n",
    "plt.title('Training and Validation Accuracy')\n",
    "plt.xlabel('Epochs')\n",
    "plt.ylabel('Accuracy')\n",
    "plt.legend()\n",
    "plt.show()"
   ]
  },
  {
   "cell_type": "code",
   "execution_count": null,
   "id": "9304e513",
   "metadata": {},
   "outputs": [],
   "source": [
    "import numpy as np\n",
    "import matplotlib.pyplot as plt\n",
    "from sklearn.metrics import confusion_matrix, ConfusionMatrixDisplay\n",
    "import tensorflow as tf"
   ]
  },
  {
   "cell_type": "code",
   "execution_count": null,
   "id": "bb184393",
   "metadata": {},
   "outputs": [],
   "source": [
    "import pickle\n",
    "from sklearn.metrics import confusion_matrix\n",
    "import tensorflow as tf\n",
    "predictions = VGG_model.predict(val)\n",
    "\n",
    "true_labels = np.concatenate([y for x, y in val], axis=0)\n",
    "\n",
    "cm = confusion_matrix(true_labels, np.argmax(predictions, axis=1))\n",
    "\n",
    "with open('confusion_matrix.pkl', 'wb') as f:\n",
    "    pickle.dump(cm, f)"
   ]
  },
  {
   "cell_type": "code",
   "execution_count": null,
   "id": "ba16dbb4",
   "metadata": {},
   "outputs": [],
   "source": [
    "import pickle\n",
    "import numpy as np\n",
    "import matplotlib.pyplot as plt\n",
    "from sklearn.metrics import ConfusionMatrixDisplay\n",
    "\n",
    "with open('confusion_matrix.pkl', 'rb') as f:\n",
    "    cm = pickle.load(f)\n",
    "\n",
    "class_names = ['Cyst', 'Normal', 'Stone', 'Tumor']  \n",
    "\n",
    "disp = ConfusionMatrixDisplay(confusion_matrix=cm, display_labels=class_names)\n",
    "disp.plot(cmap='viridis', xticks_rotation='vertical', values_format='d')\n",
    "\n",
    "plt.show()"
   ]
  },
  {
   "cell_type": "code",
   "execution_count": null,
   "id": "4fab6ecb",
   "metadata": {},
   "outputs": [],
   "source": [
    "img = cv2.imread('/kaggle/input/ct-kidney-dataset-normal-cyst-tumor-and-stone/CT-KIDNEY-DATASET-Normal-Cyst-Tumor-Stone/CT-KIDNEY-DATASET-Normal-Cyst-Tumor-Stone/Cyst/Cyst- (1).jpg')\n",
    "plt.imshow(img)\n",
    "plt.show()\n",
    "resize = tf.image.resize(img, (150,150))\n",
    "yhat = VGG_model.predict(np.expand_dims(resize/255, 0))\n",
    "max_index = np.argmax(yhat)\n",
    "label_to_class_name[max_index]"
   ]
  },
  {
   "cell_type": "markdown",
   "id": "a47dc676",
   "metadata": {},
   "source": [
    "## MOBILENET"
   ]
  },
  {
   "cell_type": "code",
   "execution_count": null,
   "id": "0db2aa3d",
   "metadata": {},
   "outputs": [],
   "source": [
    "from tensorflow.keras.applications import MobileNetV2\n",
    "from tensorflow.keras.regularizers import l2\n",
    "input_shape = (224, 224, 3)\n",
    "MobileNetV2_model = MobileNetV2(input_shape=input_shape, weights='imagenet', include_top=False)\n",
    "\n",
    "for _ in range(8):\n",
    "    MobileNetV2_model.layers.pop()\n",
    "for layer in MobileNetV2_model.layers:\n",
    "    layer.trainable = True\n",
    "\n",
    "x = GlobalAveragePooling2D()(MobileNetV2_model.output)\n",
    "x = Dense(512, activation='relu', kernel_regularizer=l2(1e-4))(x)\n",
    "x = Dense(256, activation='relu', kernel_regularizer=l2(1e-4))(x)\n",
    "output = Dense(4, activation='softmax')(x)\n",
    "\n",
    "mobile_net = Model(inputs=MobileNetV2_model.input, outputs=output)"
   ]
  },
  {
   "cell_type": "code",
   "execution_count": null,
   "id": "1b0339d5",
   "metadata": {},
   "outputs": [],
   "source": [
    "mobile_net.compile(optimizer='adam',loss='sparse_categorical_crossentropy',metrics=['accuracy'])"
   ]
  },
  {
   "cell_type": "code",
   "execution_count": null,
   "id": "30f1c823",
   "metadata": {},
   "outputs": [],
   "source": [
    "# mobile_net.summary()"
   ]
  },
  {
   "cell_type": "code",
   "execution_count": null,
   "id": "38a98052",
   "metadata": {},
   "outputs": [],
   "source": [
    "epochs=15\n",
    "history = mobile_net.fit(\n",
    "  train,\n",
    "  validation_data=val,\n",
    "  epochs=epochs\n",
    ")"
   ]
  },
  {
   "cell_type": "code",
   "execution_count": null,
   "id": "165009cd",
   "metadata": {},
   "outputs": [],
   "source": [
    "history_df = pd.DataFrame(history.history)\n",
    "history_df.to_csv('MobileNet_training.csv', index=False)\n",
    "mobile_net.save('MobileNet_model.h5')"
   ]
  },
  {
   "cell_type": "code",
   "execution_count": null,
   "id": "d87521c7",
   "metadata": {},
   "outputs": [],
   "source": [
    "loss = history.history['loss']\n",
    "val_loss = history.history['val_loss']\n",
    "epochs = range(1, len(loss)+1)\n",
    "plt.plot(epochs, loss, 'b', label='Training loss')\n",
    "plt.plot(epochs, val_loss, 'r', label='Validation loss')\n",
    "plt.title('Training and Validation Loss')\n",
    "plt.xlabel('Epochs')\n",
    "plt.ylabel('Loss')\n",
    "plt.legend()\n",
    "plt.show()"
   ]
  },
  {
   "cell_type": "code",
   "execution_count": null,
   "id": "e9177464",
   "metadata": {},
   "outputs": [],
   "source": [
    "acc = history.history['accuracy']\n",
    "val_acc = history.history['val_accuracy']\n",
    "plt.plot(epochs, acc, 'b', label='Training acc')\n",
    "plt.plot(epochs, val_acc, 'r', label='Validation acc')\n",
    "plt.title('Training and Validation Accuracy')\n",
    "plt.xlabel('Epochs')\n",
    "plt.ylabel('Accuracy')\n",
    "plt.legend()\n",
    "plt.show()"
   ]
  },
  {
   "cell_type": "code",
   "execution_count": null,
   "id": "a45b9a1a",
   "metadata": {},
   "outputs": [],
   "source": [
    "import pickle\n",
    "from sklearn.metrics import confusion_matrix\n",
    "import tensorflow as tf\n",
    "\n",
    "\n",
    "predictions = mobile_net.predict(val)\n",
    "\n",
    "true_labels = np.concatenate([y for x, y in val], axis=0)\n",
    "\n",
    "cm = confusion_matrix(true_labels, np.argmax(predictions, axis=1))\n",
    "\n",
    "with open('MobileNet_confusion_matrix.pkl', 'wb') as f:\n",
    "    pickle.dump(cm, f)"
   ]
  },
  {
   "cell_type": "code",
   "execution_count": null,
   "id": "3840435e",
   "metadata": {},
   "outputs": [],
   "source": [
    "import pickle\n",
    "import numpy as np\n",
    "import matplotlib.pyplot as plt\n",
    "from sklearn.metrics import ConfusionMatrixDisplay\n",
    "\n",
    "with open('MobileNet_confusion_matrix.pkl', 'rb') as f:\n",
    "    cm = pickle.load(f)\n",
    "\n",
    "class_names = ['Cyst', 'Normal', 'Stone', 'Tumor']  \n",
    "\n",
    "disp = ConfusionMatrixDisplay(confusion_matrix=cm, display_labels=class_names)\n",
    "disp.plot(cmap='viridis', xticks_rotation='vertical', values_format='d')\n",
    "\n",
    "plt.show()"
   ]
  },
  {
   "cell_type": "code",
   "execution_count": null,
   "id": "c5597377",
   "metadata": {},
   "outputs": [],
   "source": [
    "img = cv2.imread('/kaggle/input/ct-kidney-dataset-normal-cyst-tumor-and-stone/CT-KIDNEY-DATASET-Normal-Cyst-Tumor-Stone/CT-KIDNEY-DATASET-Normal-Cyst-Tumor-Stone/Cyst/Cyst- (1).jpg')\n",
    "plt.imshow(img)\n",
    "plt.show()\n",
    "resize = tf.image.resize(img, (150,150))\n",
    "yhat = mobile_net.predict(np.expand_dims(resize/255, 0))\n",
    "max_index = np.argmax(yhat)\n",
    "label_to_class_name[max_index]"
   ]
  },
  {
   "cell_type": "markdown",
   "id": "b92e12a8",
   "metadata": {},
   "source": [
    "## ResNet"
   ]
  },
  {
   "cell_type": "code",
   "execution_count": null,
   "id": "a201550d",
   "metadata": {},
   "outputs": [],
   "source": [
    "import tensorflow as tf\n",
    "from tensorflow.keras.layers import Dense, Flatten, BatchNormalization, Dropout\n",
    "from tensorflow.keras.applications import ResNet50\n",
    "from tensorflow.keras.models import Sequential\n",
    "\n",
    "\n",
    "resnet_model = ResNet50(input_shape=input_shape, weights=weights, include_top=False)\n",
    "        \n",
    "for layer in resnet_model.layers:\n",
    "    layer.trainable = True\n",
    "\n",
    "x = GlobalAveragePooling2D()(resnet_model.output)\n",
    "x = Dense(512, activation='relu', kernel_regularizer=l2(1e-4))(x)\n",
    "x = Dropout(0.5)(x)\n",
    "output = Dense(num_classes, activation='softmax')(x)\n",
    "\n",
    "resnet_net = Model(inputs=resnet_model.input, outputs=output)"
   ]
  },
  {
   "cell_type": "code",
   "execution_count": null,
   "id": "a929072b",
   "metadata": {},
   "outputs": [],
   "source": [
    "resnet_net.compile(optimizer='adam',loss='sparse_categorical_crossentropy',metrics=['accuracy'])"
   ]
  },
  {
   "cell_type": "code",
   "execution_count": null,
   "id": "b13b1476",
   "metadata": {},
   "outputs": [],
   "source": [
    "epochs=10\n",
    "history = resnet_net.fit(\n",
    "  train,\n",
    "  validation_data=val,\n",
    "  epochs=epochs\n",
    ")"
   ]
  },
  {
   "cell_type": "code",
   "execution_count": null,
   "id": "65beb51b",
   "metadata": {},
   "outputs": [],
   "source": [
    "history_df = pd.DataFrame(history.history)\n",
    "history_df.to_csv('ResNet_training.csv', index=False)\n",
    "resnet_net.save('ResNet_model.h5')"
   ]
  },
  {
   "cell_type": "code",
   "execution_count": null,
   "id": "f6071279",
   "metadata": {},
   "outputs": [],
   "source": [
    "import pickle\n",
    "from sklearn.metrics import confusion_matrix\n",
    "import tensorflow as tf\n",
    "\n",
    "# Assuming you have a model 'model' and a test dataset 'test_dataset'\n",
    "\n",
    "# Make predictions using your model\n",
    "predictions = resnet_net.predict(val)\n",
    "\n",
    "# Get the true labels from the test dataset\n",
    "true_labels = np.concatenate([y for x, y in val], axis=0)\n",
    "\n",
    "# Calculate the confusion matrix\n",
    "cm = confusion_matrix(true_labels, np.argmax(predictions, axis=1))\n",
    "\n",
    "# Save the confusion matrix in pkl format\n",
    "with open('ResNet_confusion_matrix.pkl', 'wb') as f:\n",
    "    pickle.dump(cm, f)"
   ]
  },
  {
   "cell_type": "code",
   "execution_count": null,
   "id": "074ecba2",
   "metadata": {},
   "outputs": [],
   "source": [
    "import pickle\n",
    "import numpy as np\n",
    "import matplotlib.pyplot as plt\n",
    "from sklearn.metrics import ConfusionMatrixDisplay\n",
    "\n",
    "# Load the saved confusion matrix\n",
    "with open('ResNet_confusion_matrix.pkl', 'rb') as f:\n",
    "    cm = pickle.load(f)\n",
    "\n",
    "# Define class names (assuming you have them)\n",
    "class_names = ['Cyst', 'Normal', 'Stone', 'Tumor']   # Replace with your actual class names\n",
    "\n",
    "# Plot the confusion matrix\n",
    "disp = ConfusionMatrixDisplay(confusion_matrix=cm, display_labels=class_names)\n",
    "disp.plot(cmap='viridis', xticks_rotation='vertical', values_format='d')\n",
    "\n",
    "# Show the confusion matrix plot\n",
    "plt.show()"
   ]
  },
  {
   "cell_type": "code",
   "execution_count": null,
   "id": "b4eab09f",
   "metadata": {},
   "outputs": [],
   "source": [
    "img = cv2.imread('/kaggle/input/ct-kidney-dataset-normal-cyst-tumor-and-stone/CT-KIDNEY-DATASET-Normal-Cyst-Tumor-Stone/CT-KIDNEY-DATASET-Normal-Cyst-Tumor-Stone/Cyst/Cyst- (1).jpg')\n",
    "plt.imshow(img)\n",
    "plt.show()\n",
    "resize = tf.image.resize(img, (150,150))\n",
    "yhat = resnet_net.predict(np.expand_dims(resize/255, 0))\n",
    "max_index = np.argmax(yhat)\n",
    "label_to_class_name[max_index]"
   ]
  },
  {
   "cell_type": "code",
   "execution_count": null,
   "id": "99975eec",
   "metadata": {},
   "outputs": [],
   "source": [
    "loss = history.history['loss']\n",
    "val_loss = history.history['val_loss']\n",
    "epochs = range(1, len(loss)+1)\n",
    "plt.plot(epochs, loss, 'b', label='Training loss')\n",
    "plt.plot(epochs, val_loss, 'r', label='Validation loss')\n",
    "plt.title('Training and Validation Loss')\n",
    "plt.xlabel('Epochs')\n",
    "plt.ylabel('Loss')\n",
    "plt.legend()\n",
    "plt.show()"
   ]
  },
  {
   "cell_type": "code",
   "execution_count": null,
   "id": "21f4b9b0",
   "metadata": {},
   "outputs": [],
   "source": [
    "acc = history.history['accuracy']\n",
    "val_acc = history.history['val_accuracy']\n",
    "plt.plot(epochs, acc, 'b', label='Training acc')\n",
    "plt.plot(epochs, val_acc, 'r', label='Validation acc')\n",
    "plt.title('Training and Validation Accuracy')\n",
    "plt.xlabel('Epochs')\n",
    "plt.ylabel('Accuracy')\n",
    "plt.legend()\n",
    "plt.show()\n"
   ]
  }
 ],
 "metadata": {
  "kernelspec": {
   "display_name": "Python 3 (ipykernel)",
   "language": "python",
   "name": "python3"
  },
  "language_info": {
   "codemirror_mode": {
    "name": "ipython",
    "version": 3
   },
   "file_extension": ".py",
   "mimetype": "text/x-python",
   "name": "python",
   "nbconvert_exporter": "python",
   "pygments_lexer": "ipython3",
   "version": "3.11.5"
  },
  "toc": {
   "base_numbering": 1,
   "nav_menu": {},
   "number_sections": true,
   "sideBar": true,
   "skip_h1_title": false,
   "title_cell": "Table of Contents",
   "title_sidebar": "Contents",
   "toc_cell": false,
   "toc_position": {},
   "toc_section_display": true,
   "toc_window_display": false
  },
  "varInspector": {
   "cols": {
    "lenName": 16,
    "lenType": 16,
    "lenVar": 40
   },
   "kernels_config": {
    "python": {
     "delete_cmd_postfix": "",
     "delete_cmd_prefix": "del ",
     "library": "var_list.py",
     "varRefreshCmd": "print(var_dic_list())"
    },
    "r": {
     "delete_cmd_postfix": ") ",
     "delete_cmd_prefix": "rm(",
     "library": "var_list.r",
     "varRefreshCmd": "cat(var_dic_list()) "
    }
   },
   "types_to_exclude": [
    "module",
    "function",
    "builtin_function_or_method",
    "instance",
    "_Feature"
   ],
   "window_display": false
  }
 },
 "nbformat": 4,
 "nbformat_minor": 5
}
